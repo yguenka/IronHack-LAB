{
 "cells": [
  {
   "cell_type": "markdown",
   "metadata": {},
   "source": [
    "# Prova\n",
    "\n",
    "## Clustering"
   ]
  },
  {
   "cell_type": "markdown",
   "metadata": {},
   "source": [
    "<b>Questão 1) </b> Considerando os dados presentes no arquivo clus01.csv, execute o algoritmo K-Means com o posicionamento inicial dos centroides sendo: [1, 1, 1, 1], [-1, -1, -1, -1] e [1, -1, 1, -1]. Qual é o posicionamento final de cada centroide após 10 iterações?"
   ]
  },
  {
   "cell_type": "code",
   "execution_count": 6,
   "metadata": {},
   "outputs": [],
   "source": [
    "import pandas as pd\n",
    "from sklearn.cluster import KMeans\n",
    "import numpy as np"
   ]
  },
  {
   "cell_type": "code",
   "execution_count": 2,
   "metadata": {},
   "outputs": [],
   "source": [
    "df = pd.read_csv('clus01.csv')"
   ]
  },
  {
   "cell_type": "code",
   "execution_count": 3,
   "metadata": {
    "scrolled": true
   },
   "outputs": [
    {
     "data": {
      "text/html": [
       "<div>\n",
       "<style scoped>\n",
       "    .dataframe tbody tr th:only-of-type {\n",
       "        vertical-align: middle;\n",
       "    }\n",
       "\n",
       "    .dataframe tbody tr th {\n",
       "        vertical-align: top;\n",
       "    }\n",
       "\n",
       "    .dataframe thead th {\n",
       "        text-align: right;\n",
       "    }\n",
       "</style>\n",
       "<table border=\"1\" class=\"dataframe\">\n",
       "  <thead>\n",
       "    <tr style=\"text-align: right;\">\n",
       "      <th></th>\n",
       "      <th>x0</th>\n",
       "      <th>x1</th>\n",
       "      <th>x2</th>\n",
       "      <th>x3</th>\n",
       "    </tr>\n",
       "  </thead>\n",
       "  <tbody>\n",
       "    <tr>\n",
       "      <th>0</th>\n",
       "      <td>-0.450370</td>\n",
       "      <td>-2.244377</td>\n",
       "      <td>-0.499678</td>\n",
       "      <td>-1.163607</td>\n",
       "    </tr>\n",
       "    <tr>\n",
       "      <th>1</th>\n",
       "      <td>1.866159</td>\n",
       "      <td>-1.180407</td>\n",
       "      <td>1.898348</td>\n",
       "      <td>-1.072512</td>\n",
       "    </tr>\n",
       "    <tr>\n",
       "      <th>2</th>\n",
       "      <td>-1.731385</td>\n",
       "      <td>0.248746</td>\n",
       "      <td>0.177045</td>\n",
       "      <td>-1.618708</td>\n",
       "    </tr>\n",
       "    <tr>\n",
       "      <th>3</th>\n",
       "      <td>-2.211184</td>\n",
       "      <td>-0.066280</td>\n",
       "      <td>0.748191</td>\n",
       "      <td>-0.967796</td>\n",
       "    </tr>\n",
       "    <tr>\n",
       "      <th>4</th>\n",
       "      <td>0.739455</td>\n",
       "      <td>1.762124</td>\n",
       "      <td>2.319210</td>\n",
       "      <td>2.080270</td>\n",
       "    </tr>\n",
       "  </tbody>\n",
       "</table>\n",
       "</div>"
      ],
      "text/plain": [
       "         x0        x1        x2        x3\n",
       "0 -0.450370 -2.244377 -0.499678 -1.163607\n",
       "1  1.866159 -1.180407  1.898348 -1.072512\n",
       "2 -1.731385  0.248746  0.177045 -1.618708\n",
       "3 -2.211184 -0.066280  0.748191 -0.967796\n",
       "4  0.739455  1.762124  2.319210  2.080270"
      ]
     },
     "execution_count": 3,
     "metadata": {},
     "output_type": "execute_result"
    }
   ],
   "source": [
    "df.head()"
   ]
  },
  {
   "cell_type": "code",
   "execution_count": 13,
   "metadata": {},
   "outputs": [],
   "source": [
    "centers = np.array([[1, 1, 1, 1],\n",
    "                   [-1, -1, -1, -1],\n",
    "                   [1, -1, 1, -1]])"
   ]
  },
  {
   "cell_type": "code",
   "execution_count": 15,
   "metadata": {},
   "outputs": [
    {
     "name": "stderr",
     "output_type": "stream",
     "text": [
      "C:\\Users\\yukar\\Anaconda3\\lib\\site-packages\\sklearn\\cluster\\k_means_.py:972: RuntimeWarning: Explicit initial center position passed: performing only one init in k-means instead of n_init=10\n",
      "  return_n_iter=True)\n"
     ]
    },
    {
     "data": {
      "text/plain": [
       "KMeans(algorithm='auto', copy_x=True,\n",
       "       init=array([[ 1,  1,  1,  1],\n",
       "       [-1, -1, -1, -1],\n",
       "       [ 1, -1,  1, -1]]),\n",
       "       max_iter=10, n_clusters=3, n_init=10, n_jobs=None,\n",
       "       precompute_distances='auto', random_state=None, tol=0.0001, verbose=0)"
      ]
     },
     "execution_count": 15,
     "metadata": {},
     "output_type": "execute_result"
    }
   ],
   "source": [
    "kmeans = KMeans(n_clusters=3, init=centers, max_iter=10)\n",
    "kmeans.fit(df)"
   ]
  },
  {
   "cell_type": "code",
   "execution_count": 16,
   "metadata": {},
   "outputs": [
    {
     "data": {
      "text/plain": [
       "array([[ 1.01800532,  1.02487255,  0.99716299,  1.02820958],\n",
       "       [-1.00267381, -1.04904824, -1.03936684, -1.01122186],\n",
       "       [ 1.01319407, -1.01061948,  0.97309582, -0.99640045]])"
      ]
     },
     "execution_count": 16,
     "metadata": {},
     "output_type": "execute_result"
    }
   ],
   "source": [
    "kmeans.cluster_centers_"
   ]
  },
  {
   "cell_type": "code",
   "execution_count": 19,
   "metadata": {},
   "outputs": [
    {
     "data": {
      "text/plain": [
       "2"
      ]
     },
     "execution_count": 19,
     "metadata": {},
     "output_type": "execute_result"
    }
   ],
   "source": [
    "kmeans.n_iter_"
   ]
  },
  {
   "cell_type": "code",
   "execution_count": 22,
   "metadata": {},
   "outputs": [
    {
     "data": {
      "text/plain": [
       "5766.298851554992"
      ]
     },
     "execution_count": 22,
     "metadata": {},
     "output_type": "execute_result"
    }
   ],
   "source": [
    "kmeans.inertia_ #Sum of squared distances of samples to their closest cluster center."
   ]
  },
  {
   "cell_type": "markdown",
   "metadata": {},
   "source": [
    "<b>Questão 2)</b> Assinale as alternativas com V ou F para Verdadeiro ou Falso respectivamente. Atente para o fato que uma questão errada anula uma certa. Em caso de dúvidas deixe em branco.\n",
    "\n",
    "(**F**) O número mínimo de grupos no algoritmo K-Means é igual à raiz quadrada do número de elementos da base.\n",
    "\n",
    "R: O número mínimo de cluster para um algorítmo de K-Means é para K=1."
   ]
  },
  {
   "cell_type": "markdown",
   "metadata": {},
   "source": [
    "(**F**) Devido à inicialização aleatória, o resultado final do K-Means sempre será o mesmo independentemente do critério de convergência.\n",
    "\n",
    "R: Quando o centróide é colocado de forma aleatória, os resultados finais podem ser diferentes. O algorítmo pode convergir para um ponro ótimo que não é **global**, mas sim um ótimo **local**."
   ]
  },
  {
   "cell_type": "markdown",
   "metadata": {},
   "source": [
    "(**F**) O algoritmo K-Median é mais sensível a outliers do que os algoritmos K-Means, K-Mode e K-Medoid.\n",
    "\n",
    "R: K-Median minimiza o erro médio absoluto, associado com a mediana"
   ]
  },
  {
   "cell_type": "markdown",
   "metadata": {},
   "source": [
    "(**V**) O algoritmos Single-Linkage, Complete-Linkage e Average-Linkage são exemplos de algoritmos hierárquicos.\n",
    "\n",
    "R: K-Means, DBScan, por exemplo, são algorítmos chamados **patricionais**, enquanto os algorítmos de aglomeração são chamados de algorítmos **hierárquicos**. Para calcularmos o dendograma, devemos calcular a distâncias entre observações e clusters. A forma como calculamos a distância é chamada de **Linkage**."
   ]
  },
  {
   "cell_type": "markdown",
   "metadata": {},
   "source": [
    "(**F**) Não é possível identificar outliers com algoritmos hierárquicos e, por este motivo, tais algoritmos requerem que os outliers sejam removidos numa etapa necessária de pré-processamento.\n",
    "\n",
    "R: Em algorítmos hierárquicos, os outliers ficam isolados em um cluster com apenas ele mesmo."
   ]
  },
  {
   "cell_type": "markdown",
   "metadata": {},
   "source": [
    "(**F**) Para conjuntos de dados com milhões de linhas é aconselhada a utilização de algoritmos hierárquicos em vez de algoritmos particionais pois aqueles calculam somente uma única matriz de distância.\n",
    "\n",
    "R: Algorítmos hierárquicos precisa calcular a distância de todos para todos, enquanro o algorítmo patrocional por exemplo, precisa calcular a distância num tamanho restrito."
   ]
  },
  {
   "cell_type": "markdown",
   "metadata": {},
   "source": [
    "(**V**) O Rand Index pode ser utilizado para mensurar a aderência entre o agrupamento obtido e um agrupamento de referência (por exemplo, dado por um especialista do domínio).\n",
    "\n",
    "R: É exatamente isso que o Rand Index faz. O único problema é que você precisa ter a solução e, geralmente, quando trabalhamos com problemas supervisionados, não temos a solução."
   ]
  },
  {
   "cell_type": "markdown",
   "metadata": {},
   "source": [
    "(**V**) O DBScan é um exemplo de algoritmo de agrupamento baseado em densidade.\n",
    "\n",
    "R: **DENSITY BASED** Scanner."
   ]
  },
  {
   "cell_type": "markdown",
   "metadata": {},
   "source": [
    "(**F**) Para acelerar o tempo de processamento dos algoritmos de agrupamento baseados em densidade, pode-se calcular a distância de cada elemento para o centroide de cada um dos grupos.\n",
    "\n",
    "R: Não existe centróide em um algorítmo baseado em densidade."
   ]
  },
  {
   "cell_type": "markdown",
   "metadata": {},
   "source": [
    "(**V**) O número mínimo de variáveis necessárias para realizar um agrupamento é 1."
   ]
  },
  {
   "cell_type": "markdown",
   "metadata": {},
   "source": [
    "## Prova 2"
   ]
  },
  {
   "cell_type": "markdown",
   "metadata": {},
   "source": [
    "<b>Questão 1)</b> Considerando os dados do arquivo agrupamento_Q1.csv, execute o algoritmo K-means com 10 iterações tendo como posiçãoo inicial dos centroides de cada cluster as K primeiras linhas do arquivo agrup_centroides_Q1.csv. Por exemplo, para executar o algoritmo com 3 clusters considere os centroides determinados pelas 3 primeiras linhas do arquivo.\n",
    "\n",
    "Qual a quantidade ideal de clusters? Qual o posicionamento final dos centroides do caso ideal?"
   ]
  },
  {
   "cell_type": "code",
   "execution_count": 23,
   "metadata": {},
   "outputs": [],
   "source": [
    "agrup=pd.read_csv('agrupamento_Q1.csv')"
   ]
  },
  {
   "cell_type": "code",
   "execution_count": 26,
   "metadata": {
    "collapsed": true
   },
   "outputs": [
    {
     "data": {
      "text/html": [
       "<div>\n",
       "<style scoped>\n",
       "    .dataframe tbody tr th:only-of-type {\n",
       "        vertical-align: middle;\n",
       "    }\n",
       "\n",
       "    .dataframe tbody tr th {\n",
       "        vertical-align: top;\n",
       "    }\n",
       "\n",
       "    .dataframe thead th {\n",
       "        text-align: right;\n",
       "    }\n",
       "</style>\n",
       "<table border=\"1\" class=\"dataframe\">\n",
       "  <thead>\n",
       "    <tr style=\"text-align: right;\">\n",
       "      <th></th>\n",
       "      <th>X1</th>\n",
       "      <th>X2</th>\n",
       "      <th>X3</th>\n",
       "      <th>X4</th>\n",
       "    </tr>\n",
       "  </thead>\n",
       "  <tbody>\n",
       "    <tr>\n",
       "      <th>1</th>\n",
       "      <td>1.488531</td>\n",
       "      <td>-0.430586</td>\n",
       "      <td>0.208942</td>\n",
       "      <td>0.018485</td>\n",
       "    </tr>\n",
       "    <tr>\n",
       "      <th>2</th>\n",
       "      <td>0.149391</td>\n",
       "      <td>1.549535</td>\n",
       "      <td>0.219688</td>\n",
       "      <td>0.917854</td>\n",
       "    </tr>\n",
       "    <tr>\n",
       "      <th>3</th>\n",
       "      <td>1.276714</td>\n",
       "      <td>0.844500</td>\n",
       "      <td>1.211906</td>\n",
       "      <td>-0.494781</td>\n",
       "    </tr>\n",
       "    <tr>\n",
       "      <th>4</th>\n",
       "      <td>-0.224172</td>\n",
       "      <td>-0.265252</td>\n",
       "      <td>1.004367</td>\n",
       "      <td>-0.209741</td>\n",
       "    </tr>\n",
       "    <tr>\n",
       "      <th>5</th>\n",
       "      <td>0.059576</td>\n",
       "      <td>0.946101</td>\n",
       "      <td>1.114006</td>\n",
       "      <td>0.401051</td>\n",
       "    </tr>\n",
       "    <tr>\n",
       "      <th>6</th>\n",
       "      <td>0.089880</td>\n",
       "      <td>0.019347</td>\n",
       "      <td>0.485303</td>\n",
       "      <td>-0.018044</td>\n",
       "    </tr>\n",
       "    <tr>\n",
       "      <th>7</th>\n",
       "      <td>0.912007</td>\n",
       "      <td>0.848869</td>\n",
       "      <td>1.410461</td>\n",
       "      <td>0.770113</td>\n",
       "    </tr>\n",
       "    <tr>\n",
       "      <th>8</th>\n",
       "      <td>1.610552</td>\n",
       "      <td>0.502618</td>\n",
       "      <td>0.851125</td>\n",
       "      <td>0.357660</td>\n",
       "    </tr>\n",
       "    <tr>\n",
       "      <th>9</th>\n",
       "      <td>1.479525</td>\n",
       "      <td>0.578351</td>\n",
       "      <td>1.027880</td>\n",
       "      <td>0.559941</td>\n",
       "    </tr>\n",
       "    <tr>\n",
       "      <th>10</th>\n",
       "      <td>0.255168</td>\n",
       "      <td>0.604794</td>\n",
       "      <td>0.733205</td>\n",
       "      <td>-0.310231</td>\n",
       "    </tr>\n",
       "    <tr>\n",
       "      <th>11</th>\n",
       "      <td>1.383395</td>\n",
       "      <td>-0.571543</td>\n",
       "      <td>0.262984</td>\n",
       "      <td>-0.064618</td>\n",
       "    </tr>\n",
       "    <tr>\n",
       "      <th>12</th>\n",
       "      <td>1.041904</td>\n",
       "      <td>-0.245915</td>\n",
       "      <td>0.018402</td>\n",
       "      <td>-0.457809</td>\n",
       "    </tr>\n",
       "  </tbody>\n",
       "</table>\n",
       "</div>"
      ],
      "text/plain": [
       "          X1        X2        X3        X4\n",
       "1   1.488531 -0.430586  0.208942  0.018485\n",
       "2   0.149391  1.549535  0.219688  0.917854\n",
       "3   1.276714  0.844500  1.211906 -0.494781\n",
       "4  -0.224172 -0.265252  1.004367 -0.209741\n",
       "5   0.059576  0.946101  1.114006  0.401051\n",
       "6   0.089880  0.019347  0.485303 -0.018044\n",
       "7   0.912007  0.848869  1.410461  0.770113\n",
       "8   1.610552  0.502618  0.851125  0.357660\n",
       "9   1.479525  0.578351  1.027880  0.559941\n",
       "10  0.255168  0.604794  0.733205 -0.310231\n",
       "11  1.383395 -0.571543  0.262984 -0.064618\n",
       "12  1.041904 -0.245915  0.018402 -0.457809"
      ]
     },
     "execution_count": 26,
     "metadata": {},
     "output_type": "execute_result"
    }
   ],
   "source": [
    "centers=pd.read_csv('agrup_centroides_Q1.csv', index_col=0)\n",
    "centers"
   ]
  },
  {
   "cell_type": "code",
   "execution_count": 32,
   "metadata": {},
   "outputs": [],
   "source": [
    "from sklearn.metrics import silhouette_score"
   ]
  },
  {
   "cell_type": "code",
   "execution_count": 51,
   "metadata": {},
   "outputs": [],
   "source": [
    "distortions = []\n",
    "silhouettes = []\n",
    "\n",
    "for k in range(1, 13):\n",
    "    each_centroid = centers.iloc[0:k, :]\n",
    "    kmeans = KMeans(n_clusters=k, init=each_centroid, n_init=1, max_iter=10)\n",
    "    kmeans.fit(agrup)\n",
    "    distortions.append(kmeans.inertia_)\n",
    "    if k > 1:\n",
    "        silhouettes.append(silhouette_score(agrup, kmeans.labels_))"
   ]
  },
  {
   "cell_type": "code",
   "execution_count": 52,
   "metadata": {},
   "outputs": [],
   "source": [
    "import matplotlib.pyplot as plt"
   ]
  },
  {
   "cell_type": "code",
   "execution_count": 54,
   "metadata": {
    "collapsed": true
   },
   "outputs": [
    {
     "data": {
      "text/plain": [
       "[<matplotlib.lines.Line2D at 0x19c817e5b08>]"
      ]
     },
     "execution_count": 54,
     "metadata": {},
     "output_type": "execute_result"
    },
    {
     "data": {
      "image/png": "[encoded data removed]",
      "text/plain": [
       "<Figure size 432x288 with 1 Axes>"
      ]
     },
     "metadata": {
      "needs_background": "light"
     },
     "output_type": "display_data"
    }
   ],
   "source": [
    "plt.plot(distortions, '-o')"
   ]
  },
  {
   "cell_type": "code",
   "execution_count": 55,
   "metadata": {},
   "outputs": [
    {
     "data": {
      "image/png": "[encoded data removed]",
      "text/plain": [
       "<Figure size 432x288 with 1 Axes>"
      ]
     },
     "metadata": {
      "needs_background": "light"
     },
     "output_type": "display_data"
    }
   ],
   "source": [
    "plt.plot(np.arange(2,13), silhouettes, '-o')\n",
    "plt.grid()"
   ]
  },
  {
   "cell_type": "code",
   "execution_count": 59,
   "metadata": {},
   "outputs": [],
   "source": [
    "#!pip install yellowbrick --user"
   ]
  },
  {
   "cell_type": "code",
   "execution_count": 60,
   "metadata": {
    "scrolled": true
   },
   "outputs": [],
   "source": [
    "from yellowbrick.cluster import KElbowVisualizer"
   ]
  },
  {
   "cell_type": "code",
   "execution_count": 61,
   "metadata": {
    "scrolled": false
   },
   "outputs": [
    {
     "data": {
      "image/png": "[encoded data removed]",
      "text/plain": [
       "<Figure size 576x396 with 2 Axes>"
      ]
     },
     "metadata": {},
     "output_type": "display_data"
    },
    {
     "data": {
      "text/plain": [
       "<matplotlib.axes._subplots.AxesSubplot at 0x19c81f18248>"
      ]
     },
     "execution_count": 61,
     "metadata": {},
     "output_type": "execute_result"
    }
   ],
   "source": [
    "model = KMeans()\n",
    "visualizer = KElbowVisualizer(model, k=(2,12), metric='silhouette')\n",
    "visualizer.fit(agrup)\n",
    "visualizer.show()"
   ]
  },
  {
   "cell_type": "code",
   "execution_count": 69,
   "metadata": {},
   "outputs": [
    {
     "data": {
      "text/plain": [
       "5"
      ]
     },
     "execution_count": 69,
     "metadata": {},
     "output_type": "execute_result"
    }
   ],
   "source": [
    "centroids = centers.iloc[0:5,:]\n",
    "kmeans = KMeans(n_clusters=5, init=centroids, n_init=1, max_iter=10)\n",
    "kmeans.fit(agrup)\n",
    "kmeans.cluster_centers_.shape[0]"
   ]
  },
  {
   "cell_type": "markdown",
   "metadata": {},
   "source": [
    "<b>Questão 2)</b> Assinale as alternativas com V ou F para Verdadeiro ou Falso respectivamente. Atente para o fato que uma questão errada anula uma certa. Em caso de dúvidas deixe em branco."
   ]
  },
  {
   "cell_type": "markdown",
   "metadata": {},
   "source": [
    "(**F**) O algoritmo K-means se baseia num processo iterativo que minimiza a soma das distâncias entre os centroides e os pontos dentro de cada agrupamento.\n",
    "\n",
    "R: o K-Means minimiza a soma das distâncias **ao quadrado** - ou seja, variância."
   ]
  },
  {
   "cell_type": "markdown",
   "metadata": {},
   "source": [
    "(**F**) O algoritmo K-means é pouco sensível a inicialização dos centroides e resulta sempre nos mesmos agrupamentos.\n",
    "\n",
    "R: Já vimos que o K-Means pode variar dependendo das escolhas dos centroides iniciais."
   ]
  },
  {
   "cell_type": "markdown",
   "metadata": {},
   "source": [
    "(**F**) Os centroides determinados pelo algoritmo K-means necessariamente pertencem ao conjunto de dados analisados\n",
    "\n",
    "R: O centroide não necessariamente é uma observação do seu dataset. Ele pode ser um ponto que não exite no seu dataset. Um algorítmo onde essa frase seria verdade seria o K-medoids."
   ]
  },
  {
   "cell_type": "markdown",
   "metadata": {},
   "source": [
    "(**F**) O algoritmo K-median é mais sensível a outliers do que o algoritmo K-means."
   ]
  },
  {
   "cell_type": "markdown",
   "metadata": {},
   "source": [
    "(**F**) O algoritmo GMM (Gaussian Mixture Models) presume que os dados a serem agrupados provém de uma distribuição unimodal.\n",
    "\n",
    "R: Ele se baseia no fato de que os dados são provenientes de mais de uma distribuição unimodal (mais de uma gaussiana). E ele tenta separar essas Gaussianas da melhor maneira possível. Na prática, ele é bom quando você percebe que uma circunferência (esfera) não é capaz de representar bem os seus dados, mas talvez uma elipse (elipsoide) seja."
   ]
  },
  {
   "cell_type": "markdown",
   "metadata": {},
   "source": [
    "(**F**) Não é possível identificar outliers com algoritmos hierárquicos e, por este motivo, tais algoritmos requerem que os outliers sejam tratados em uma etapa necessária de pré-processamento."
   ]
  },
  {
   "cell_type": "markdown",
   "metadata": {},
   "source": [
    "(**V**) Algoritmos particionais são tipicamente mais eficientes computacionalmente do que algoritmos hierárquicos."
   ]
  },
  {
   "cell_type": "markdown",
   "metadata": {},
   "source": [
    "(**V**) Diferentemente do K-means, o DBScan é um algoritmo capaz de identificar agrupamentos com fomato de anéis concêntricos.\n",
    "\n",
    "R: Os anéis concêntricos só conseguem ser capturados através de algorítmos baseados em densidade."
   ]
  },
  {
   "cell_type": "markdown",
   "metadata": {},
   "source": [
    "( ) Uma maneira eficaz de mensurar a semelhança entre dois vetores unitários de alta dimensão é calcular o produto interno entre os dois."
   ]
  }
 ],
 "metadata": {
  "kernelspec": {
   "display_name": "Python 3",
   "language": "python",
   "name": "python3"
  },
  "language_info": {
   "codemirror_mode": {
    "name": "ipython",
    "version": 3
   },
   "file_extension": ".py",
   "mimetype": "text/x-python",
   "name": "python",
   "nbconvert_exporter": "python",
   "pygments_lexer": "ipython3",
   "version": "3.7.4"
  },
  "nbTranslate": {
   "displayLangs": [
    "*"
   ],
   "hotkey": "alt-t",
   "langInMainMenu": true,
   "sourceLang": "en",
   "targetLang": "fr",
   "useGoogleTranslate": true
  },
  "toc": {
   "base_numbering": 1,
   "nav_menu": {},
   "number_sections": true,
   "sideBar": true,
   "skip_h1_title": false,
   "title_cell": "Table of Contents",
   "title_sidebar": "Contents",
   "toc_cell": false,
   "toc_position": {},
   "toc_section_display": true,
   "toc_window_display": false
  }
 },
 "nbformat": 4,
 "nbformat_minor": 2
}
