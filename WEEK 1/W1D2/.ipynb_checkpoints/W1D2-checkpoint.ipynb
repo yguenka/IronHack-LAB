{
 "cells": [
  {
   "cell_type": "markdown",
   "metadata": {},
   "source": [
    "# Review\n",
    "\n",
    "- ls: lista dis arquivos do diretório\n",
    "- ls Desktop: lista dos arquivos do Desktop\n",
    "- cd: entra no diretório (change diretory)\n",
    "- cd ..: entra no diretório acima\n",
    "- cd -: volta ao diretório anterior\n",
    "- cd.: mudando para o diretório atual\n",
    "- pwd: print working diretory\n"
   ]
  },
  {
   "cell_type": "code",
   "execution_count": 2,
   "metadata": {},
   "outputs": [
    {
     "data": {
      "text/plain": [
       "'C:\\\\Users\\\\yukar'"
      ]
     },
     "execution_count": 2,
     "metadata": {},
     "output_type": "execute_result"
    }
   ],
   "source": [
    "pwd"
   ]
  },
  {
   "cell_type": "markdown",
   "metadata": {},
   "source": [
    "## Git"
   ]
  },
  {
   "cell_type": "markdown",
   "metadata": {},
   "source": [
    " \n",
    "* git status: verifica o status do seu diretório. Itens que não estão sendo rastreados (ou sofrerem alguma modificação) são\n",
    "vermelhos e itens que estão prontos para serem \"comitados\" ficam verdes/\n",
    "\n",
    "* git add: começa a rastrear o arquivo\n",
    "    * git add nome_arquivo: começa a rastrear o arquivo\n",
    "    * git add nome_pasta: começa a rastrear todos os arquivos da pasta\n",
    "    * git add .: começa a rastrear todo mundo\n",
    "\n",
    "* git commit: cria um checkpoint (snapshot) do seu ponto atual. Todos os itens em verde são salvos.\n",
    "\n",
    "* git push: empirra, faz o upload de todas das modificações que você comitou."
   ]
  },
  {
   "cell_type": "markdown",
   "metadata": {},
   "source": [
    "## Python"
   ]
  },
  {
   "cell_type": "markdown",
   "metadata": {},
   "source": [
    "* .clear: limpa a lista.\n",
    "* .index: método encontra o elemento especificado em uma lista e retorna sua posição.\n",
    "* .pop: remove e retorna da lista de um determinado índice (por conformidade é o último item se não mencionar nada).\n",
    "* x in my_list: para saber se o valor de x está na lista\n",
    "* z=(1,): cria uma tupla com um elemento só\n",
    "* Para converter lista em tupla: y = tuple(my_list)\n",
    "* Para converter tupla em lista: y = list(y)\n",
    "* Tuplas e listas são **iteradores**\n",
    "* Geralmente as tuplas estão ligadas a coordenadas como latitude e longitude\n",
    "* As tuplas são **IMUTÁVEIS**, difíceis de serem manipuladas\n",
    "* Dicionários são usados para encontrar a descrição de alguma coisa, onde key é a coisa e o values é a descrição da coisa separado por \" : \".\n",
    "* Quando for pesquisar o dicionário, tem que ser procurando o key. No valor dá errado.\n",
    "* Caso tenha dois valores associados a chaves diferentes, o resultado será o último valor, pois ele sobrescreve.\n",
    "* Hash é uma função que vai retornar um valor único associado a"
   ]
  },
  {
   "cell_type": "code",
   "execution_count": null,
   "metadata": {},
   "outputs": [],
   "source": []
  }
 ],
 "metadata": {
  "kernelspec": {
   "display_name": "Python 3",
   "language": "python",
   "name": "python3"
  },
  "language_info": {
   "codemirror_mode": {
    "name": "ipython",
    "version": 3
   },
   "file_extension": ".py",
   "mimetype": "text/x-python",
   "name": "python",
   "nbconvert_exporter": "python",
   "pygments_lexer": "ipython3",
   "version": "3.7.4"
  }
 },
 "nbformat": 4,
 "nbformat_minor": 2
}
