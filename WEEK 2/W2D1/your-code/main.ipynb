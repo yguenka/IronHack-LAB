{
 "cells": [
  {
   "cell_type": "markdown",
   "metadata": {},
   "source": [
    "# Intrduction to NumPy\n",
    "\n",
    "\n",
    "#### 1. Import NumPy under the name np."
   ]
  },
  {
   "cell_type": "code",
   "execution_count": 1,
   "metadata": {},
   "outputs": [],
   "source": [
    "# your code here\n",
    "# !pip install numpy --upgrade\n",
    "import numpy as np"
   ]
  },
  {
   "cell_type": "markdown",
   "metadata": {},
   "source": [
    "#### 2. Print your NumPy version."
   ]
  },
  {
   "cell_type": "code",
   "execution_count": 2,
   "metadata": {},
   "outputs": [
    {
     "data": {
      "text/plain": [
       "'1.18.1'"
      ]
     },
     "execution_count": 2,
     "metadata": {},
     "output_type": "execute_result"
    }
   ],
   "source": [
    "# your code here\n",
    "np.__version__"
   ]
  },
  {
   "cell_type": "markdown",
   "metadata": {},
   "source": [
    "#### 3. Generate a 2x3x5 3-dimensional array with random values. Assign the array to variable *a*.\n",
    "**Challenge**: there are at least three easy ways that use numpy to generate random arrays. How many ways can you find?"
   ]
  },
  {
   "cell_type": "code",
   "execution_count": 3,
   "metadata": {},
   "outputs": [
    {
     "name": "stdout",
     "output_type": "stream",
     "text": [
      "[[[0.93741738 0.29637058 0.53966539 0.68257589 0.71974515]\n",
      "  [0.14040286 0.25970102 0.76305011 0.13760254 0.85771799]\n",
      "  [0.72509696 0.32754957 0.31662423 0.38353772 0.31098598]]\n",
      "\n",
      " [[0.69057605 0.1327815  0.62401419 0.56956073 0.86215958]\n",
      "  [0.74748835 0.6834442  0.78412907 0.30494541 0.92540478]\n",
      "  [0.92664451 0.49794912 0.94902756 0.44620951 0.13133812]]]\n"
     ]
    }
   ],
   "source": [
    "# Method 1\n",
    "a = np.random.random((2,3,5))\n",
    "print(a)"
   ]
  },
  {
   "cell_type": "code",
   "execution_count": 58,
   "metadata": {},
   "outputs": [],
   "source": [
    "# Method 2\n",
    "a = np.random.randint(0, 10, size=(2,3,5))"
   ]
  },
  {
   "cell_type": "code",
   "execution_count": 42,
   "metadata": {},
   "outputs": [],
   "source": [
    "# Method 3\n",
    "a = np.empty((2,3,5))\n"
   ]
  },
  {
   "cell_type": "markdown",
   "metadata": {},
   "source": [
    "#### 4. Print *a*.\n"
   ]
  },
  {
   "cell_type": "code",
   "execution_count": 4,
   "metadata": {
    "scrolled": true
   },
   "outputs": [
    {
     "name": "stdout",
     "output_type": "stream",
     "text": [
      "[[[0.93741738 0.29637058 0.53966539 0.68257589 0.71974515]\n",
      "  [0.14040286 0.25970102 0.76305011 0.13760254 0.85771799]\n",
      "  [0.72509696 0.32754957 0.31662423 0.38353772 0.31098598]]\n",
      "\n",
      " [[0.69057605 0.1327815  0.62401419 0.56956073 0.86215958]\n",
      "  [0.74748835 0.6834442  0.78412907 0.30494541 0.92540478]\n",
      "  [0.92664451 0.49794912 0.94902756 0.44620951 0.13133812]]]\n"
     ]
    }
   ],
   "source": [
    "# your code here\n",
    "print(a)"
   ]
  },
  {
   "cell_type": "code",
   "execution_count": 5,
   "metadata": {},
   "outputs": [
    {
     "data": {
      "text/plain": [
       "(2, 3, 5)"
      ]
     },
     "execution_count": 5,
     "metadata": {},
     "output_type": "execute_result"
    }
   ],
   "source": [
    "np.shape(a)"
   ]
  },
  {
   "cell_type": "markdown",
   "metadata": {},
   "source": [
    "#### 5. Create a 5x2x3 3-dimensional array with all values equaling 1. Assign the array to variable *b*."
   ]
  },
  {
   "cell_type": "code",
   "execution_count": 6,
   "metadata": {},
   "outputs": [],
   "source": [
    "# your code here\n",
    "b = np.ones((5,2,3), dtype = int)\n"
   ]
  },
  {
   "cell_type": "markdown",
   "metadata": {},
   "source": [
    "#### 6. Print *b*.\n"
   ]
  },
  {
   "cell_type": "code",
   "execution_count": 7,
   "metadata": {},
   "outputs": [
    {
     "name": "stdout",
     "output_type": "stream",
     "text": [
      "[[[1 1 1]\n",
      "  [1 1 1]]\n",
      "\n",
      " [[1 1 1]\n",
      "  [1 1 1]]\n",
      "\n",
      " [[1 1 1]\n",
      "  [1 1 1]]\n",
      "\n",
      " [[1 1 1]\n",
      "  [1 1 1]]\n",
      "\n",
      " [[1 1 1]\n",
      "  [1 1 1]]]\n"
     ]
    }
   ],
   "source": [
    "# your code here\n",
    "print(b)"
   ]
  },
  {
   "cell_type": "markdown",
   "metadata": {},
   "source": [
    "#### 7. Do *a* and *b* have the same size? How do you prove that in Python code?"
   ]
  },
  {
   "cell_type": "code",
   "execution_count": 8,
   "metadata": {},
   "outputs": [
    {
     "data": {
      "text/plain": [
       "False"
      ]
     },
     "execution_count": 8,
     "metadata": {},
     "output_type": "execute_result"
    }
   ],
   "source": [
    "# your code here\n",
    "np.shape(a) == np.shape(b)"
   ]
  },
  {
   "cell_type": "markdown",
   "metadata": {},
   "source": [
    "#### 8. Are you able to add *a* and *b*? Why or why not?\n"
   ]
  },
  {
   "cell_type": "code",
   "execution_count": 9,
   "metadata": {},
   "outputs": [
    {
     "ename": "ValueError",
     "evalue": "operands could not be broadcast together with shapes (2,3,5) (5,2,3) ",
     "output_type": "error",
     "traceback": [
      "\u001b[1;31m---------------------------------------------------------------------------\u001b[0m",
      "\u001b[1;31mValueError\u001b[0m                                Traceback (most recent call last)",
      "\u001b[1;32m<ipython-input-9-f94c32eb6bb9>\u001b[0m in \u001b[0;36m<module>\u001b[1;34m\u001b[0m\n\u001b[0;32m      1\u001b[0m \u001b[1;31m# your answer here\u001b[0m\u001b[1;33m\u001b[0m\u001b[1;33m\u001b[0m\u001b[1;33m\u001b[0m\u001b[0m\n\u001b[1;32m----> 2\u001b[1;33m \u001b[0ma\u001b[0m \u001b[1;33m+\u001b[0m \u001b[0mb\u001b[0m\u001b[1;33m\u001b[0m\u001b[1;33m\u001b[0m\u001b[0m\n\u001b[0m\u001b[0;32m      3\u001b[0m \u001b[1;33m\u001b[0m\u001b[0m\n\u001b[0;32m      4\u001b[0m \u001b[1;31m#Não é possível pois o tamanho da matriz é diferente\u001b[0m\u001b[1;33m\u001b[0m\u001b[1;33m\u001b[0m\u001b[1;33m\u001b[0m\u001b[0m\n",
      "\u001b[1;31mValueError\u001b[0m: operands could not be broadcast together with shapes (2,3,5) (5,2,3) "
     ]
    }
   ],
   "source": [
    "# your answer here\n",
    "a + b\n",
    "\n",
    "#Não é possível pois o tamanho da matriz é diferente"
   ]
  },
  {
   "cell_type": "markdown",
   "metadata": {},
   "source": [
    "#### 9. Transpose *b* so that it has the same structure of *a* (i.e. become a 2x3x5 array). Assign the transposed array to variable *c*."
   ]
  },
  {
   "cell_type": "code",
   "execution_count": 10,
   "metadata": {},
   "outputs": [
    {
     "data": {
      "text/plain": [
       "array([[[0.93741738, 0.29637058, 0.53966539, 0.68257589, 0.71974515],\n",
       "        [0.14040286, 0.25970102, 0.76305011, 0.13760254, 0.85771799],\n",
       "        [0.72509696, 0.32754957, 0.31662423, 0.38353772, 0.31098598]],\n",
       "\n",
       "       [[0.69057605, 0.1327815 , 0.62401419, 0.56956073, 0.86215958],\n",
       "        [0.74748835, 0.6834442 , 0.78412907, 0.30494541, 0.92540478],\n",
       "        [0.92664451, 0.49794912, 0.94902756, 0.44620951, 0.13133812]]])"
      ]
     },
     "execution_count": 10,
     "metadata": {},
     "output_type": "execute_result"
    }
   ],
   "source": [
    "a"
   ]
  },
  {
   "cell_type": "code",
   "execution_count": 11,
   "metadata": {},
   "outputs": [
    {
     "data": {
      "text/plain": [
       "array([[[1, 1, 1, 1, 1],\n",
       "        [1, 1, 1, 1, 1],\n",
       "        [1, 1, 1, 1, 1]],\n",
       "\n",
       "       [[1, 1, 1, 1, 1],\n",
       "        [1, 1, 1, 1, 1],\n",
       "        [1, 1, 1, 1, 1]]])"
      ]
     },
     "execution_count": 11,
     "metadata": {},
     "output_type": "execute_result"
    }
   ],
   "source": [
    "# your code here\n",
    "c = b.reshape(2,3,5)\n",
    "c"
   ]
  },
  {
   "cell_type": "markdown",
   "metadata": {},
   "source": [
    "#### 10. Try to add *a* and *c*. Now it should work. Assign the sum to variable *d*. But why does it work now?"
   ]
  },
  {
   "cell_type": "code",
   "execution_count": 12,
   "metadata": {},
   "outputs": [
    {
     "data": {
      "text/plain": [
       "array([[[1.93741738, 1.29637058, 1.53966539, 1.68257589, 1.71974515],\n",
       "        [1.14040286, 1.25970102, 1.76305011, 1.13760254, 1.85771799],\n",
       "        [1.72509696, 1.32754957, 1.31662423, 1.38353772, 1.31098598]],\n",
       "\n",
       "       [[1.69057605, 1.1327815 , 1.62401419, 1.56956073, 1.86215958],\n",
       "        [1.74748835, 1.6834442 , 1.78412907, 1.30494541, 1.92540478],\n",
       "        [1.92664451, 1.49794912, 1.94902756, 1.44620951, 1.13133812]]])"
      ]
     },
     "execution_count": 12,
     "metadata": {},
     "output_type": "execute_result"
    }
   ],
   "source": [
    "# your code/answer here\n",
    "d = a + c\n",
    "d\n",
    "#Funciona pois a matriz está no mesmo tamanho"
   ]
  },
  {
   "cell_type": "markdown",
   "metadata": {},
   "source": [
    "#### 11. Print *a* and *d*. Notice the difference and relation of the two array in terms of the values? Explain."
   ]
  },
  {
   "cell_type": "code",
   "execution_count": 13,
   "metadata": {},
   "outputs": [
    {
     "name": "stdout",
     "output_type": "stream",
     "text": [
      "[[[0.93741738 0.29637058 0.53966539 0.68257589 0.71974515]\n",
      "  [0.14040286 0.25970102 0.76305011 0.13760254 0.85771799]\n",
      "  [0.72509696 0.32754957 0.31662423 0.38353772 0.31098598]]\n",
      "\n",
      " [[0.69057605 0.1327815  0.62401419 0.56956073 0.86215958]\n",
      "  [0.74748835 0.6834442  0.78412907 0.30494541 0.92540478]\n",
      "  [0.92664451 0.49794912 0.94902756 0.44620951 0.13133812]]]\n",
      "[[[1.93741738 1.29637058 1.53966539 1.68257589 1.71974515]\n",
      "  [1.14040286 1.25970102 1.76305011 1.13760254 1.85771799]\n",
      "  [1.72509696 1.32754957 1.31662423 1.38353772 1.31098598]]\n",
      "\n",
      " [[1.69057605 1.1327815  1.62401419 1.56956073 1.86215958]\n",
      "  [1.74748835 1.6834442  1.78412907 1.30494541 1.92540478]\n",
      "  [1.92664451 1.49794912 1.94902756 1.44620951 1.13133812]]]\n"
     ]
    }
   ],
   "source": [
    "# your code/answer here\n",
    "print (a)\n",
    "print(d)\n",
    "\n",
    "# A diferença entre os dois é que a matriz d é a + 1"
   ]
  },
  {
   "cell_type": "markdown",
   "metadata": {},
   "source": [
    "#### 12. Multiply *a* and *c*. Assign the result to *e*."
   ]
  },
  {
   "cell_type": "code",
   "execution_count": 14,
   "metadata": {},
   "outputs": [
    {
     "data": {
      "text/plain": [
       "array([[[0.93741738, 0.29637058, 0.53966539, 0.68257589, 0.71974515],\n",
       "        [0.14040286, 0.25970102, 0.76305011, 0.13760254, 0.85771799],\n",
       "        [0.72509696, 0.32754957, 0.31662423, 0.38353772, 0.31098598]],\n",
       "\n",
       "       [[0.69057605, 0.1327815 , 0.62401419, 0.56956073, 0.86215958],\n",
       "        [0.74748835, 0.6834442 , 0.78412907, 0.30494541, 0.92540478],\n",
       "        [0.92664451, 0.49794912, 0.94902756, 0.44620951, 0.13133812]]])"
      ]
     },
     "execution_count": 14,
     "metadata": {},
     "output_type": "execute_result"
    }
   ],
   "source": [
    "# your code here\n",
    "e = a * c\n",
    "e"
   ]
  },
  {
   "cell_type": "markdown",
   "metadata": {},
   "source": [
    "#### 13. Does *e* equal to *a*? Why or why not?\n"
   ]
  },
  {
   "cell_type": "code",
   "execution_count": 15,
   "metadata": {},
   "outputs": [
    {
     "data": {
      "text/plain": [
       "array([[[ True,  True,  True,  True,  True],\n",
       "        [ True,  True,  True,  True,  True],\n",
       "        [ True,  True,  True,  True,  True]],\n",
       "\n",
       "       [[ True,  True,  True,  True,  True],\n",
       "        [ True,  True,  True,  True,  True],\n",
       "        [ True,  True,  True,  True,  True]]])"
      ]
     },
     "execution_count": 15,
     "metadata": {},
     "output_type": "execute_result"
    }
   ],
   "source": [
    "# your code/answer here\n",
    "e == a\n",
    "\n",
    "# É igual pois o a multiplicado por 1 é o e."
   ]
  },
  {
   "cell_type": "markdown",
   "metadata": {},
   "source": [
    "#### 14. Identify the max, min, and mean values in *d*. Assign those values to variables *d_max*, *d_min* and *d_mean*."
   ]
  },
  {
   "cell_type": "code",
   "execution_count": 16,
   "metadata": {},
   "outputs": [
    {
     "name": "stdout",
     "output_type": "stream",
     "text": [
      "1.9490275636989054\n",
      "1.1313381196072383\n",
      "1.5557905344688647\n"
     ]
    }
   ],
   "source": [
    "# your code here\n",
    "d_max = d.max()\n",
    "print(d_max)\n",
    "d_min = d.min()\n",
    "print(d_min)\n",
    "d_mean = d.mean()\n",
    "print(d_mean)"
   ]
  },
  {
   "cell_type": "markdown",
   "metadata": {},
   "source": [
    "#### 15. Now we want to label the values in *d*. First create an empty array *f* with the same shape (i.e. 2x3x5) as *d* using `np.empty`.\n"
   ]
  },
  {
   "cell_type": "code",
   "execution_count": 17,
   "metadata": {
    "scrolled": true
   },
   "outputs": [
    {
     "data": {
      "text/plain": [
       "array([[[0.93741738, 0.29637058, 0.53966539, 0.68257589, 0.71974515],\n",
       "        [0.14040286, 0.25970102, 0.76305011, 0.13760254, 0.85771799],\n",
       "        [0.72509696, 0.32754957, 0.31662423, 0.38353772, 0.31098598]],\n",
       "\n",
       "       [[0.69057605, 0.1327815 , 0.62401419, 0.56956073, 0.86215958],\n",
       "        [0.74748835, 0.6834442 , 0.78412907, 0.30494541, 0.92540478],\n",
       "        [0.92664451, 0.49794912, 0.94902756, 0.44620951, 0.13133812]]])"
      ]
     },
     "execution_count": 17,
     "metadata": {},
     "output_type": "execute_result"
    }
   ],
   "source": [
    "# your code here\n",
    "f = np.empty((2,3,5))\n",
    "f"
   ]
  },
  {
   "cell_type": "markdown",
   "metadata": {},
   "source": [
    "#### 16. Populate the values in *f*. \n",
    "\n",
    "For each value in *d*, if it's larger than *d_min* but smaller than *d_mean*, assign 25 to the corresponding value in *f*. If a value in *d* is larger than *d_mean* but smaller than *d_max*, assign 75 to the corresponding value in *f*. If a value equals to *d_mean*, assign 50 to the corresponding value in *f*. Assign 0 to the corresponding value(s) in *f* for *d_min* in *d*. Assign 100 to the corresponding value(s) in *f* for *d_max* in *d*. In the end, f should have only the following values: 0, 25, 50, 75, and 100.\n",
    "\n",
    "**Note**: you don't have to use Numpy in this question."
   ]
  },
  {
   "cell_type": "code",
   "execution_count": 22,
   "metadata": {},
   "outputs": [
    {
     "data": {
      "text/plain": [
       "2"
      ]
     },
     "execution_count": 22,
     "metadata": {},
     "output_type": "execute_result"
    }
   ],
   "source": [
    "d.shape[0]"
   ]
  },
  {
   "cell_type": "code",
   "execution_count": 18,
   "metadata": {},
   "outputs": [
    {
     "data": {
      "text/plain": [
       "3"
      ]
     },
     "execution_count": 18,
     "metadata": {},
     "output_type": "execute_result"
    }
   ],
   "source": [
    "d.shape[1]"
   ]
  },
  {
   "cell_type": "code",
   "execution_count": 23,
   "metadata": {},
   "outputs": [
    {
     "data": {
      "text/plain": [
       "5"
      ]
     },
     "execution_count": 23,
     "metadata": {},
     "output_type": "execute_result"
    }
   ],
   "source": [
    "d.shape[2]"
   ]
  },
  {
   "cell_type": "code",
   "execution_count": 26,
   "metadata": {},
   "outputs": [
    {
     "name": "stdout",
     "output_type": "stream",
     "text": [
      "[[[ 75.  25.  25.  75.  75.]\n",
      "  [ 25.  25.  75.  25.  75.]\n",
      "  [ 75.  25.  25.  25.  25.]]\n",
      "\n",
      " [[ 75.  25.  75.  75.  75.]\n",
      "  [ 75.  75.  75.  25.  75.]\n",
      "  [ 75.  25. 100.  25.   0.]]]\n"
     ]
    }
   ],
   "source": [
    "# your code here\n",
    "for i in range(d.shape[0]):\n",
    "    for j in range(d.shape[1]):\n",
    "        for k in range(d.shape[2]):\n",
    "            if d_mean > d[i][j][k] > d_min:\n",
    "                f[i][j][k] = 25\n",
    "            elif d_max > d[i][j][k] > d_mean:\n",
    "                f[i][j][k] =  75\n",
    "            elif d[i][j][k] == d_mean:\n",
    "                f[i][j][k] =  50\n",
    "            elif d[i][j][k] == d_min:\n",
    "                f[i][j][k] =  0\n",
    "            elif d[i][j][k] == d_max:\n",
    "                f[i][j][k] =  100\n",
    "\n",
    "print(f)"
   ]
  },
  {
   "cell_type": "markdown",
   "metadata": {},
   "source": [
    "#### 17. Print *d* and *f*. Do you have your expected *f*?\n",
    "For instance, if your *d* is:\n",
    "```python\n",
    "[[[1.85836099, 1.67064465, 1.62576044, 1.40243961, 1.88454931],\n",
    "[1.75354326, 1.69403643, 1.36729252, 1.61415071, 1.12104981],\n",
    "[1.72201435, 1.1862918 , 1.87078449, 1.7726778 , 1.88180042]],\n",
    "[[1.44747908, 1.31673383, 1.02000951, 1.52218947, 1.97066381],\n",
    "[1.79129243, 1.74983003, 1.96028037, 1.85166831, 1.65450881],\n",
    "[1.18068344, 1.9587381 , 1.00656599, 1.93402165, 1.73514584]]]\n",
    "```\n",
    "Your *f* should be:\n",
    "```python\n",
    "[[[ 75.,  75.,  75.,  25.,  75.],\n",
    "[ 75.,  75.,  25.,  25.,  25.],\n",
    "[ 75.,  25.,  75.,  75.,  75.]],\n",
    "[[ 25.,  25.,  25.,  25., 100.],\n",
    "[ 75.,  75.,  75.,  75.,  75.],\n",
    "[ 25.,  75.,   0.,  75.,  75.]]]\n",
    "```"
   ]
  },
  {
   "cell_type": "code",
   "execution_count": 30,
   "metadata": {},
   "outputs": [
    {
     "name": "stdout",
     "output_type": "stream",
     "text": [
      "[[[ 75.  75.  75.  25.  75.]\n",
      "  [ 75.  75.  25.  25.  25.]\n",
      "  [ 75.  25.  75.  75.  75.]]\n",
      "\n",
      " [[ 25.  25.  25.  25. 100.]\n",
      "  [ 75.  75.  75.  75.  75.]\n",
      "  [ 25.  75.   0.  75.  75.]]]\n"
     ]
    }
   ],
   "source": [
    "# your code here\n",
    "\n",
    "a = [[[1.85836099, 1.67064465, 1.62576044, 1.40243961, 1.88454931],\n",
    "[1.75354326, 1.69403643, 1.36729252, 1.61415071, 1.12104981],\n",
    "[1.72201435, 1.1862918 , 1.87078449, 1.7726778 , 1.88180042]],\n",
    "[[1.44747908, 1.31673383, 1.02000951, 1.52218947, 1.97066381],\n",
    "[1.79129243, 1.74983003, 1.96028037, 1.85166831, 1.65450881],\n",
    "[1.18068344, 1.9587381 , 1.00656599, 1.93402165, 1.73514584]]]\n",
    "d = np.array(a)\n",
    "d_max = d.max()\n",
    "d_min = d.min()\n",
    "d_mean = d.mean()\n",
    "for i in range(d.shape[0]):\n",
    "    for j in range(d.shape[1]):\n",
    "        for k in range(d.shape[2]):\n",
    "            if d_mean > d[i][j][k] > d_min:\n",
    "                f[i][j][k] = 25\n",
    "            elif d_max > d[i][j][k] > d_mean:\n",
    "                f[i][j][k] =  75\n",
    "            elif d[i][j][k] == d_mean:\n",
    "                f[i][j][k] =  50\n",
    "            elif d[i][j][k] == d_min:\n",
    "                f[i][j][k] =  0\n",
    "            elif d[i][j][k] == d_max:\n",
    "                f[i][j][k] =  100\n",
    "\n",
    "print(f)"
   ]
  },
  {
   "cell_type": "markdown",
   "metadata": {},
   "source": [
    "#### 18. Bonus question: instead of using numbers (i.e. 0, 25, 50, 75, and 100), use string values  (\"A\", \"B\", \"C\", \"D\", and \"E\") to label the array elements. For the example above, the expected result is:\n",
    "\n",
    "```python\n",
    "[[[ 'D',  'D',  'D',  'B',  'D'],\n",
    "[ 'D',  'D',  'B',  'B',  'B'],\n",
    "[ 'D',  'B',  'D',  'D',  'D']],\n",
    "[[ 'B',  'B',  'B',  'B',  'E'],\n",
    "[ 'D',  'D',  'D',  'D',  'D'],\n",
    "[ 'B',  'D',   'A',  'D', 'D']]]\n",
    "```\n",
    "**Note**: you don't have to use Numpy in this question."
   ]
  },
  {
   "cell_type": "code",
   "execution_count": 67,
   "metadata": {},
   "outputs": [
    {
     "data": {
      "text/plain": [
       "[[['D', 'D', 'D', 'B', 'D'],\n",
       "  ['D', 'D', 'B', 'B', 'B'],\n",
       "  ['D', 'B', 'D', 'D', 'D']],\n",
       " [['B', 'B', 'B', 'B', 'E'],\n",
       "  ['D', 'D', 'D', 'D', 'D'],\n",
       "  ['B', 'D', 'A', 'D', 'D']]]"
      ]
     },
     "execution_count": 67,
     "metadata": {},
     "output_type": "execute_result"
    }
   ],
   "source": [
    "# your code here\n",
    "b = [[[],[],[]],[[],[],[]]]\n",
    "for i in range(f.shape[0]):\n",
    "    for j in range(f.shape[1]):\n",
    "        for k in range(f.shape[2]):\n",
    "            if f[i][j][k] == 0:\n",
    "                b[i][j].append('A')\n",
    "            elif f[i][j][k] == 25:\n",
    "                b[i][j].append('B')\n",
    "            elif f[i][j][k] == 50:\n",
    "                b[i][j].append('C')        \n",
    "            elif f[i][j][k] == 75:\n",
    "                b[i][j].append('D')\n",
    "            elif f[i][j][k] == 100:\n",
    "                b[i][j].append('E')\n",
    "    \n",
    "\n",
    "b\n"
   ]
  }
 ],
 "metadata": {
  "kernelspec": {
   "display_name": "Python 3",
   "language": "python",
   "name": "python3"
  },
  "language_info": {
   "codemirror_mode": {
    "name": "ipython",
    "version": 3
   },
   "file_extension": ".py",
   "mimetype": "text/x-python",
   "name": "python",
   "nbconvert_exporter": "python",
   "pygments_lexer": "ipython3",
   "version": "3.7.4"
  },
  "toc": {
   "base_numbering": 1,
   "nav_menu": {},
   "number_sections": true,
   "sideBar": true,
   "skip_h1_title": false,
   "title_cell": "Table of Contents",
   "title_sidebar": "Contents",
   "toc_cell": false,
   "toc_position": {},
   "toc_section_display": true,
   "toc_window_display": false
  },
  "varInspector": {
   "cols": {
    "lenName": 16,
    "lenType": 16,
    "lenVar": 40
   },
   "kernels_config": {
    "python": {
     "delete_cmd_postfix": "",
     "delete_cmd_prefix": "del ",
     "library": "var_list.py",
     "varRefreshCmd": "print(var_dic_list())"
    },
    "r": {
     "delete_cmd_postfix": ") ",
     "delete_cmd_prefix": "rm(",
     "library": "var_list.r",
     "varRefreshCmd": "cat(var_dic_list()) "
    }
   },
   "types_to_exclude": [
    "module",
    "function",
    "builtin_function_or_method",
    "instance",
    "_Feature"
   ],
   "window_display": false
  }
 },
 "nbformat": 4,
 "nbformat_minor": 2
}
