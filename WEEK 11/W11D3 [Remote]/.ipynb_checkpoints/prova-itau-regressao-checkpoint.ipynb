{
 "cells": [
  {
   "cell_type": "markdown",
   "metadata": {
    "heading_collapsed": true
   },
   "source": [
    "# Prova Itaú - Regressão"
   ]
  },
  {
   "cell_type": "code",
   "execution_count": 1,
   "metadata": {
    "ExecuteTime": {
     "end_time": "2020-05-13T13:54:56.178447Z",
     "start_time": "2020-05-13T13:54:54.332387Z"
    },
    "hidden": true
   },
   "outputs": [],
   "source": [
    "import pandas as pd\n",
    "from sklearn.linear_model import LinearRegression\n",
    "from sklearn.model_selection import LeaveOneOut\n",
    "from sklearn.model_selection import cross_val_score\n",
    "from sklearn.model_selection import cross_validate\n",
    "from sklearn.metrics import r2_score\n",
    "from sklearn.linear_model import Lasso\n",
    "from sklearn.model_selection import KFold\n",
    "from sklearn.tree import DecisionTreeRegressor\n",
    "from sklearn.linear_model import Ridge\n",
    "from sklearn.preprocessing import StandardScaler"
   ]
  },
  {
   "cell_type": "markdown",
   "metadata": {},
   "source": [
    "# Prova 1."
   ]
  },
  {
   "cell_type": "markdown",
   "metadata": {},
   "source": [
    "## Questão 6) \n",
    "\n",
    "Considerando os dados presentes no arquivo reg01.csv, obtenha um modelo de regressão linear com regularização L1 (LASSO com parâmetro de regularização igual a 1) utilizando a metodologia Leave-One-out. Qual o valor médio do Root Mean Squared Error (RMSE) para a base de treino? Qual o valor médio do RMSE para a base de validação?"
   ]
  },
  {
   "cell_type": "markdown",
   "metadata": {},
   "source": [
    "Quando usa o RMSE e o Leave-One-Out, significa que voce está calculando o MAE, e não o RMSE."
   ]
  },
  {
   "cell_type": "code",
   "execution_count": 3,
   "metadata": {
    "ExecuteTime": {
     "end_time": "2020-05-13T13:55:10.967850Z",
     "start_time": "2020-05-13T13:55:10.900018Z"
    }
   },
   "outputs": [],
   "source": [
    "reg01 = pd.read_csv('reg01.csv')"
   ]
  },
  {
   "cell_type": "code",
   "execution_count": 22,
   "metadata": {
    "ExecuteTime": {
     "end_time": "2020-05-13T14:41:06.764348Z",
     "start_time": "2020-05-13T14:41:00.251297Z"
    }
   },
   "outputs": [],
   "source": [
    "X = reg01.drop(columns=['target'])\n",
    "y = reg01['target']\n",
    "\n",
    "cross = cross_validate(Lasso(), StandardScaler().fit_transform(X), y, cv=LeaveOneOut(), scoring='neg_root_mean_squared_error', return_train_score=True)"
   ]
  },
  {
   "cell_type": "code",
   "execution_count": 23,
   "metadata": {
    "ExecuteTime": {
     "end_time": "2020-05-13T14:41:06.773183Z",
     "start_time": "2020-05-13T14:41:06.767196Z"
    }
   },
   "outputs": [
    {
     "name": "stdout",
     "output_type": "stream",
     "text": [
      "RMSE - treino: 19.219646382953055\n",
      "RMSE - teste: 15.461344370827748\n"
     ]
    }
   ],
   "source": [
    "print('RMSE - treino:', + -cross['train_score'].mean())\n",
    "print('RMSE - teste:', + -cross['test_score'].mean())"
   ]
  },
  {
   "cell_type": "code",
   "execution_count": 24,
   "metadata": {
    "ExecuteTime": {
     "end_time": "2020-05-13T14:41:44.796531Z",
     "start_time": "2020-05-13T14:41:36.594627Z"
    }
   },
   "outputs": [],
   "source": [
    "X = reg01.drop(columns=['target'])\n",
    "y = reg01['target']\n",
    "# Não precisava usar o StandardScaler pois não está pedindo\n",
    "cross = cross_validate(Lasso(), X, y, cv=LeaveOneOut(), scoring='neg_root_mean_squared_error', return_train_score=True)"
   ]
  },
  {
   "cell_type": "code",
   "execution_count": 25,
   "metadata": {
    "ExecuteTime": {
     "end_time": "2020-05-13T14:41:44.808448Z",
     "start_time": "2020-05-13T14:41:44.800470Z"
    }
   },
   "outputs": [
    {
     "name": "stdout",
     "output_type": "stream",
     "text": [
      "RMSE - treino: 19.22025983771034\n",
      "RMSE - teste: 15.465218791702432\n"
     ]
    }
   ],
   "source": [
    "print('RMSE - treino:', + -cross['train_score'].mean())\n",
    "print('RMSE - teste:', + -cross['test_score'].mean())"
   ]
  },
  {
   "cell_type": "markdown",
   "metadata": {},
   "source": [
    "## Questão 7) \n",
    "\n",
    "Considerando os dados presentes no arquivo reg02.csv, treine uma árvore de regressão (sem realizar podas) com quebras baseadas no erro quadrático médio (do inglês MSE - Mean Squared Error) utilizando a metodologia de validação cruzada k-fold com 𝑘=10. Qual o valor do Mean Absolute Error (MAE) para a base de treino? Qual o valor médio do MAE para a base de validação?"
   ]
  },
  {
   "cell_type": "code",
   "execution_count": 6,
   "metadata": {
    "ExecuteTime": {
     "end_time": "2020-05-13T13:55:17.055491Z",
     "start_time": "2020-05-13T13:55:16.777626Z"
    }
   },
   "outputs": [],
   "source": [
    "reg02 = pd.read_csv('reg02.csv')"
   ]
  },
  {
   "cell_type": "code",
   "execution_count": 28,
   "metadata": {
    "ExecuteTime": {
     "end_time": "2020-05-13T14:42:21.419209Z",
     "start_time": "2020-05-13T14:42:21.035718Z"
    }
   },
   "outputs": [],
   "source": [
    "X = reg02.drop(columns=['target'])\n",
    "y = reg02['target']\n",
    "\n",
    "cross = cross_validate(DecisionTreeRegressor(), X, y, cv=KFold(n_splits=10), scoring='neg_mean_absolute_error', return_train_score=True)"
   ]
  },
  {
   "cell_type": "code",
   "execution_count": 30,
   "metadata": {
    "ExecuteTime": {
     "end_time": "2020-05-13T14:42:35.932125Z",
     "start_time": "2020-05-13T14:42:35.926142Z"
    }
   },
   "outputs": [
    {
     "name": "stdout",
     "output_type": "stream",
     "text": [
      "MAE - treino: 0.0\n",
      "MAE - teste: 42.79026358739952\n"
     ]
    }
   ],
   "source": [
    "print('MAE - treino:', + cross['train_score'].mean())\n",
    "print('MAE - teste:', + -cross['test_score'].mean())"
   ]
  },
  {
   "cell_type": "markdown",
   "metadata": {},
   "source": [
    "## Questão 5 \n",
    "\n",
    "Assinale as alternativas com V ou F para Verdadeiro ou Falso respectivamente. Atente para o fato que uma questão errada anula uma certa. Em caso de dúvidas deixe em branco."
   ]
  },
  {
   "cell_type": "markdown",
   "metadata": {},
   "source": [
    "(**V**) Quando ajustamos um modelo linear, geralmente supomos que os erros tem distribuição normal e são independentes e identicamente distribuídos (i.i.d.)."
   ]
  },
  {
   "cell_type": "markdown",
   "metadata": {},
   "source": [
    "(**V**) Quando ajustamos um modelo de regressão, podemos utilizar os valores preditos e os resíduos do modelo para avaliar se o modelo se adequa bem aos dados."
   ]
  },
  {
   "cell_type": "markdown",
   "metadata": {},
   "source": [
    "(**V**) O coeficiente de determinação (𝑟2) indica, em termos percentuais, quanto da variabilidade da variável resposta é explicada pelas covariáveis do modelo."
   ]
  },
  {
   "cell_type": "markdown",
   "metadata": {},
   "source": [
    "(**F**) Os modelos de regressão não são afetados por observações atípicas (outliers) e valores faltantes.\n",
    "\n",
    "<u> R: Outliers afetam o modelo de regressão inclinando a curva. <u>"
   ]
  },
  {
   "cell_type": "markdown",
   "metadata": {},
   "source": [
    "(**V**) Considerando um modelo de regressão simples, temos que o coeficiente associado à covariável representa o grau de inclinação da reta."
   ]
  },
  {
   "cell_type": "markdown",
   "metadata": {},
   "source": [
    "(**F**) Para efetuarmos regressão com o algoritmo KNN, é aconselhado fazer uma votação simples dos valores dos 𝑘 vizinhos encontrados.\n",
    "\n",
    "<u> R: Como estamos lidando com problema de regressão, não é uma votação simples que se faz, mas sim a média dos valores de y. <u>"
   ]
  },
  {
   "cell_type": "markdown",
   "metadata": {},
   "source": [
    "(**V**) Para melhor desempenho da árvore de regressão, pode-se utilizar regressões lineares em suas folhas para previsão do valor final.\n",
    "\n",
    "<u> R: Em cada folha, você pode usar uma estratégia diferente da média, caso queira. <u>"
   ]
  },
  {
   "cell_type": "markdown",
   "metadata": {},
   "source": [
    "(**F**) A F1 é uma medida adequada para avaliar algoritmos de regressão.\n",
    "\n",
    "<u> R: F1 é uma medida adequada para problemas de classificação onde se quer avaliar o equilíbrio de recall e precision. <u>"
   ]
  },
  {
   "cell_type": "markdown",
   "metadata": {},
   "source": [
    "(**V**) Em todos os modelos de regressão, a métrica 𝑟2 é igual ao quadrado da correlação de pearson entre o valor predito e o observado."
   ]
  },
  {
   "cell_type": "markdown",
   "metadata": {},
   "source": [
    "(**V**) No algoritmo Random Forest, uma possibilidade simplista para obtenção do valor final é calcular a média dos valores encontrados em cada árvore."
   ]
  },
  {
   "cell_type": "markdown",
   "metadata": {},
   "source": [
    "-----"
   ]
  },
  {
   "cell_type": "markdown",
   "metadata": {},
   "source": [
    "# Prova 2."
   ]
  },
  {
   "cell_type": "markdown",
   "metadata": {},
   "source": [
    "## Questão 7\n",
    "\n",
    "Considerando os dados presentes no arquivo regressao_Q6.csv, obtenha um modelo de regressão linear com regularização L2 (RIDGE com parâmetro de regularização igual a 1.7) utilizando a metodologia Leave-One-out. Qual o valor médio do Root Mean Squared Error (RMSE) para a base de treino? Qual o valor médio do RMSE para a base de validação?"
   ]
  },
  {
   "cell_type": "code",
   "execution_count": 11,
   "metadata": {
    "ExecuteTime": {
     "end_time": "2020-05-13T13:55:23.948363Z",
     "start_time": "2020-05-13T13:55:23.861471Z"
    }
   },
   "outputs": [],
   "source": [
    "regressao_Q6 = pd.read_csv('regressao_Q6.csv')"
   ]
  },
  {
   "cell_type": "code",
   "execution_count": 44,
   "metadata": {
    "ExecuteTime": {
     "end_time": "2020-05-13T17:17:03.548417Z",
     "start_time": "2020-05-13T17:16:52.892278Z"
    }
   },
   "outputs": [],
   "source": [
    "X = regressao_Q6.drop(columns=['target'])\n",
    "y = regressao_Q6['target']\n",
    "\n",
    "cross = cross_validate(Ridge(alpha=1.7), X, y, cv=LeaveOneOut(), scoring='neg_mean_absolute_error', return_train_score=True)"
   ]
  },
  {
   "cell_type": "code",
   "execution_count": 45,
   "metadata": {
    "ExecuteTime": {
     "end_time": "2020-05-13T17:17:03.563196Z",
     "start_time": "2020-05-13T17:17:03.553406Z"
    }
   },
   "outputs": [
    {
     "name": "stdout",
     "output_type": "stream",
     "text": [
      "RMSE - treino: 21.84419229846353\n",
      "RMSE - teste: 22.058797611970473\n"
     ]
    }
   ],
   "source": [
    "print('RMSE - treino:', + -cross['train_score'].mean())\n",
    "print('RMSE - teste:', + -cross['test_score'].mean())"
   ]
  },
  {
   "cell_type": "markdown",
   "metadata": {},
   "source": [
    "## Questão 4\n",
    "\n",
    "Considerando os dados presentes no arquivo regressao_Q7.csv, treine uma árvore de regressão (sem realizar podas) com quebras baseadas no erro quadrático médio (do inglês MSE - Mean Squared Error) utilizando a metodologia de validação cruzada k-fold com 𝑘=10. Qual o valor do Mean Absolute Error (MAE) para a base de treino? Qual o valor médio do MAE para a base de validação?"
   ]
  },
  {
   "cell_type": "code",
   "execution_count": 15,
   "metadata": {
    "ExecuteTime": {
     "end_time": "2020-05-13T13:55:48.635030Z",
     "start_time": "2020-05-13T13:55:48.420742Z"
    }
   },
   "outputs": [],
   "source": [
    "regressao_Q7 = pd.read_csv('regressao_Q7.csv')"
   ]
  },
  {
   "cell_type": "code",
   "execution_count": 37,
   "metadata": {
    "ExecuteTime": {
     "end_time": "2020-05-13T14:43:28.445947Z",
     "start_time": "2020-05-13T14:43:27.896436Z"
    }
   },
   "outputs": [],
   "source": [
    "X = regressao_Q7.drop(columns=['target'])\n",
    "y = regressao_Q7['target']\n",
    "\n",
    "cross = cross_validate(DecisionTreeRegressor(), X, y, cv=KFold(n_splits=10), scoring='neg_mean_absolute_error', return_train_score=True)"
   ]
  },
  {
   "cell_type": "code",
   "execution_count": 38,
   "metadata": {
    "ExecuteTime": {
     "end_time": "2020-05-13T14:43:28.454928Z",
     "start_time": "2020-05-13T14:43:28.447944Z"
    }
   },
   "outputs": [
    {
     "name": "stdout",
     "output_type": "stream",
     "text": [
      "MAE - treino: 6.897663486269165e-08\n",
      "MAE - teste: 51.9404696828836\n"
     ]
    }
   ],
   "source": [
    "print('MAE - treino:', + -cross['train_score'].mean())\n",
    "print('MAE - teste:', + -cross['test_score'].mean())"
   ]
  },
  {
   "cell_type": "markdown",
   "metadata": {},
   "source": [
    "## Questão 5) \n",
    "\n",
    "Assinale as alternativas com V ou F para Verdadeiro ou Falso respectivamente. Atente para o fato que uma questão errada anula uma certa. Em caso de dúvidas deixe em branco."
   ]
  },
  {
   "cell_type": "markdown",
   "metadata": {},
   "source": [
    "(**V**) Quando ajustamos um modelo de regressão, os resíduos são estatísticas importantes para avaliar se o modelo se adequa bem aos dados."
   ]
  },
  {
   "cell_type": "markdown",
   "metadata": {},
   "source": [
    "(**V**) Os modelos tradicionais de regressão são afetados por observações atípicas (outliers) e valores faltantes, sendo necessário realizar um pré-processamento dos dados antes da modelagem."
   ]
  },
  {
   "cell_type": "markdown",
   "metadata": {},
   "source": [
    "(**F**) Em uma regressão logística, o coeficiente associado à uma variável numérica representa a variação do valor estimado quando a variável explicativa aumenta 1 unidade.\n",
    "\n",
    "<u> R: Na regressão logística, o coeficiente mede a variação na **probabilidade** e não no valor estimado. <u>"
   ]
  },
  {
   "cell_type": "markdown",
   "metadata": {},
   "source": [
    "(**V**) O coeficiente de determinação (r^2) indica, em termos percentuais, quanto da variabilidade da variável resposta é explicada pelas variáveis utilizadas no modelo."
   ]
  },
  {
   "cell_type": "markdown",
   "metadata": {},
   "source": [
    "(**V**) As regularizações L1 e L2 são técnicas apropriadas para combater overfitting no treinamento de modelos de regressão."
   ]
  },
  {
   "cell_type": "markdown",
   "metadata": {},
   "source": [
    "(V) Para efetuarmos regressão com o algoritmo KNN, a estratégia mais simples é fazer uma média aritmética dos valores dos k vizinhos encontrados."
   ]
  },
  {
   "cell_type": "markdown",
   "metadata": {},
   "source": [
    "(V) Incorporar modelos de regressão linear nos nós-folha de uma árvore de regressão pode melhorar a capacidade preditiva."
   ]
  },
  {
   "cell_type": "markdown",
   "metadata": {},
   "source": [
    "(V) AUC (Area Under the Curve) é uma métrica para avaliar o desempenho de modelos de regressão."
   ]
  },
  {
   "cell_type": "markdown",
   "metadata": {},
   "source": [
    "(?) No algoritmo Random Forest, uma possibilidade simplista para obtenção do valor final é calcular a média dos valores encontrados em cada árvore."
   ]
  },
  {
   "cell_type": "markdown",
   "metadata": {},
   "source": [
    "(V) Utiliza-se validação out-of-time para modelos de regressão separando um conjunto de dados de forma aleatória, independentemente do tempo."
   ]
  }
 ],
 "metadata": {
  "kernelspec": {
   "display_name": "Python 3",
   "language": "python",
   "name": "python3"
  },
  "language_info": {
   "codemirror_mode": {
    "name": "ipython",
    "version": 3
   },
   "file_extension": ".py",
   "mimetype": "text/x-python",
   "name": "python",
   "nbconvert_exporter": "python",
   "pygments_lexer": "ipython3",
   "version": "3.7.4"
  },
  "nbTranslate": {
   "displayLangs": [
    "*"
   ],
   "hotkey": "alt-t",
   "langInMainMenu": true,
   "sourceLang": "en",
   "targetLang": "fr",
   "useGoogleTranslate": true
  },
  "toc": {
   "base_numbering": 1,
   "nav_menu": {},
   "number_sections": true,
   "sideBar": true,
   "skip_h1_title": false,
   "title_cell": "Table of Contents",
   "title_sidebar": "Contents",
   "toc_cell": false,
   "toc_position": {},
   "toc_section_display": true,
   "toc_window_display": false
  }
 },
 "nbformat": 4,
 "nbformat_minor": 2
}
