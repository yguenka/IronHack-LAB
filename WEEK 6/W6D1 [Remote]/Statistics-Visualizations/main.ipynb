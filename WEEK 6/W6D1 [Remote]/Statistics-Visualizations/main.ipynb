{
 "cells": [
  {
   "cell_type": "markdown",
   "metadata": {
    "colab_type": "text",
    "id": "IDajsaA66_XV"
   },
   "source": [
    "# Univariate and Bivariate Analysis Lab"
   ]
  },
  {
   "cell_type": "markdown",
   "metadata": {
    "colab_type": "text",
    "id": "RDV1Nk366_XW"
   },
   "source": [
    "This data was created <b>based on the following dataset</b>: https://www.kaggle.com/mustafaali96/weight-height"
   ]
  },
  {
   "cell_type": "markdown",
   "metadata": {
    "colab_type": "text",
    "id": "fkvI5riG6_XW"
   },
   "source": [
    "The variables used are:\n",
    "* Money\n",
    "* Height\n",
    "* Weight\n",
    "* Gender\n"
   ]
  },
  {
   "cell_type": "markdown",
   "metadata": {
    "colab_type": "text",
    "id": "_DJ77m7a6_XX"
   },
   "source": [
    "## Context"
   ]
  },
  {
   "cell_type": "markdown",
   "metadata": {
    "colab_type": "text",
    "id": "gx-BUqLB6_XX"
   },
   "source": [
    "We'll use the weight-height dataset to have a deeper understanding of some important variable distributions.\n",
    "\n",
    "We'll understand how to:\n",
    "- have a glance on the statistics distribution just by observing the main statistical numerical description of our dataset.\n",
    "- understand the effect of a normal and non-normal distribution on our outlier analysis\n",
    "- understand how one variable can impact on another variable distribution"
   ]
  },
  {
   "cell_type": "markdown",
   "metadata": {
    "colab_type": "text",
    "id": "onNqQWXN6_XY"
   },
   "source": [
    "## Import libraries "
   ]
  },
  {
   "cell_type": "code",
   "execution_count": 3,
   "metadata": {
    "ExecuteTime": {
     "end_time": "2020-04-06T03:11:02.341542Z",
     "start_time": "2020-04-06T03:11:01.633436Z"
    },
    "colab": {},
    "colab_type": "code",
    "id": "XReTo0-96_XY"
   },
   "outputs": [],
   "source": [
    "import numpy as np\n",
    "import matplotlib.pyplot as plt\n",
    "import seaborn as sns\n",
    "import pandas as pd"
   ]
  },
  {
   "cell_type": "markdown",
   "metadata": {
    "colab_type": "text",
    "id": "1TkZPHRk6_Xb"
   },
   "source": [
    "## Read dataset from `weight-height-money.csv`.\n",
    "\n",
    "Take a look at the first rows of the dataset."
   ]
  },
  {
   "cell_type": "code",
   "execution_count": 6,
   "metadata": {
    "ExecuteTime": {
     "end_time": "2020-04-06T04:20:35.568509Z",
     "start_time": "2020-04-06T04:20:35.565517Z"
    },
    "colab": {},
    "colab_type": "code",
    "id": "DxmxwuGY6_Xb"
   },
   "outputs": [
    {
     "data": {
      "text/html": [
       "<div>\n",
       "<style scoped>\n",
       "    .dataframe tbody tr th:only-of-type {\n",
       "        vertical-align: middle;\n",
       "    }\n",
       "\n",
       "    .dataframe tbody tr th {\n",
       "        vertical-align: top;\n",
       "    }\n",
       "\n",
       "    .dataframe thead th {\n",
       "        text-align: right;\n",
       "    }\n",
       "</style>\n",
       "<table border=\"1\" class=\"dataframe\">\n",
       "  <thead>\n",
       "    <tr style=\"text-align: right;\">\n",
       "      <th></th>\n",
       "      <th>Gender</th>\n",
       "      <th>Height</th>\n",
       "      <th>Weight</th>\n",
       "      <th>Money</th>\n",
       "    </tr>\n",
       "  </thead>\n",
       "  <tbody>\n",
       "    <tr>\n",
       "      <th>0</th>\n",
       "      <td>Male</td>\n",
       "      <td>73.847017</td>\n",
       "      <td>241.893563</td>\n",
       "      <td>21.462754</td>\n",
       "    </tr>\n",
       "    <tr>\n",
       "      <th>1</th>\n",
       "      <td>Male</td>\n",
       "      <td>68.781904</td>\n",
       "      <td>162.310473</td>\n",
       "      <td>94.732358</td>\n",
       "    </tr>\n",
       "    <tr>\n",
       "      <th>2</th>\n",
       "      <td>Male</td>\n",
       "      <td>74.110105</td>\n",
       "      <td>212.740856</td>\n",
       "      <td>130.077362</td>\n",
       "    </tr>\n",
       "    <tr>\n",
       "      <th>3</th>\n",
       "      <td>Male</td>\n",
       "      <td>71.730978</td>\n",
       "      <td>220.042470</td>\n",
       "      <td>214.096064</td>\n",
       "    </tr>\n",
       "    <tr>\n",
       "      <th>4</th>\n",
       "      <td>Male</td>\n",
       "      <td>69.881796</td>\n",
       "      <td>206.349801</td>\n",
       "      <td>765.091245</td>\n",
       "    </tr>\n",
       "    <tr>\n",
       "      <th>...</th>\n",
       "      <td>...</td>\n",
       "      <td>...</td>\n",
       "      <td>...</td>\n",
       "      <td>...</td>\n",
       "    </tr>\n",
       "    <tr>\n",
       "      <th>9995</th>\n",
       "      <td>Female</td>\n",
       "      <td>66.172652</td>\n",
       "      <td>136.777454</td>\n",
       "      <td>240.933121</td>\n",
       "    </tr>\n",
       "    <tr>\n",
       "      <th>9996</th>\n",
       "      <td>Female</td>\n",
       "      <td>67.067155</td>\n",
       "      <td>170.867906</td>\n",
       "      <td>1220.781276</td>\n",
       "    </tr>\n",
       "    <tr>\n",
       "      <th>9997</th>\n",
       "      <td>Female</td>\n",
       "      <td>63.867992</td>\n",
       "      <td>128.475319</td>\n",
       "      <td>0.258369</td>\n",
       "    </tr>\n",
       "    <tr>\n",
       "      <th>9998</th>\n",
       "      <td>Female</td>\n",
       "      <td>69.034243</td>\n",
       "      <td>163.852461</td>\n",
       "      <td>1552.920529</td>\n",
       "    </tr>\n",
       "    <tr>\n",
       "      <th>9999</th>\n",
       "      <td>Female</td>\n",
       "      <td>61.944246</td>\n",
       "      <td>113.649103</td>\n",
       "      <td>2232.337002</td>\n",
       "    </tr>\n",
       "  </tbody>\n",
       "</table>\n",
       "<p>10000 rows × 4 columns</p>\n",
       "</div>"
      ],
      "text/plain": [
       "      Gender     Height      Weight        Money\n",
       "0       Male  73.847017  241.893563    21.462754\n",
       "1       Male  68.781904  162.310473    94.732358\n",
       "2       Male  74.110105  212.740856   130.077362\n",
       "3       Male  71.730978  220.042470   214.096064\n",
       "4       Male  69.881796  206.349801   765.091245\n",
       "...      ...        ...         ...          ...\n",
       "9995  Female  66.172652  136.777454   240.933121\n",
       "9996  Female  67.067155  170.867906  1220.781276\n",
       "9997  Female  63.867992  128.475319     0.258369\n",
       "9998  Female  69.034243  163.852461  1552.920529\n",
       "9999  Female  61.944246  113.649103  2232.337002\n",
       "\n",
       "[10000 rows x 4 columns]"
      ]
     },
     "execution_count": 6,
     "metadata": {},
     "output_type": "execute_result"
    }
   ],
   "source": [
    "# your answer here\n",
    "df = pd.read_csv('data/weight-height-money.csv')\n",
    "df"
   ]
  },
  {
   "cell_type": "markdown",
   "metadata": {
    "colab_type": "text",
    "id": "5dT2rAyw6_Xe"
   },
   "source": [
    "## Use the describe method to understand the data."
   ]
  },
  {
   "cell_type": "code",
   "execution_count": 7,
   "metadata": {
    "ExecuteTime": {
     "end_time": "2020-04-06T04:20:07.002350Z",
     "start_time": "2020-04-06T04:20:06.998360Z"
    },
    "colab": {},
    "colab_type": "code",
    "id": "2s8i42qY6_Xe"
   },
   "outputs": [
    {
     "data": {
      "text/html": [
       "<div>\n",
       "<style scoped>\n",
       "    .dataframe tbody tr th:only-of-type {\n",
       "        vertical-align: middle;\n",
       "    }\n",
       "\n",
       "    .dataframe tbody tr th {\n",
       "        vertical-align: top;\n",
       "    }\n",
       "\n",
       "    .dataframe thead th {\n",
       "        text-align: right;\n",
       "    }\n",
       "</style>\n",
       "<table border=\"1\" class=\"dataframe\">\n",
       "  <thead>\n",
       "    <tr style=\"text-align: right;\">\n",
       "      <th></th>\n",
       "      <th>Height</th>\n",
       "      <th>Weight</th>\n",
       "      <th>Money</th>\n",
       "    </tr>\n",
       "  </thead>\n",
       "  <tbody>\n",
       "    <tr>\n",
       "      <th>count</th>\n",
       "      <td>10000.000000</td>\n",
       "      <td>10000.000000</td>\n",
       "      <td>1.000000e+04</td>\n",
       "    </tr>\n",
       "    <tr>\n",
       "      <th>mean</th>\n",
       "      <td>66.367560</td>\n",
       "      <td>161.440357</td>\n",
       "      <td>6.311565e+02</td>\n",
       "    </tr>\n",
       "    <tr>\n",
       "      <th>std</th>\n",
       "      <td>3.847528</td>\n",
       "      <td>32.108439</td>\n",
       "      <td>8.060481e+02</td>\n",
       "    </tr>\n",
       "    <tr>\n",
       "      <th>min</th>\n",
       "      <td>54.263133</td>\n",
       "      <td>64.700127</td>\n",
       "      <td>1.735664e-07</td>\n",
       "    </tr>\n",
       "    <tr>\n",
       "      <th>25%</th>\n",
       "      <td>63.505620</td>\n",
       "      <td>135.818051</td>\n",
       "      <td>8.906720e+01</td>\n",
       "    </tr>\n",
       "    <tr>\n",
       "      <th>50%</th>\n",
       "      <td>66.318070</td>\n",
       "      <td>161.212928</td>\n",
       "      <td>3.390872e+02</td>\n",
       "    </tr>\n",
       "    <tr>\n",
       "      <th>75%</th>\n",
       "      <td>69.174262</td>\n",
       "      <td>187.169525</td>\n",
       "      <td>8.515404e+02</td>\n",
       "    </tr>\n",
       "    <tr>\n",
       "      <th>max</th>\n",
       "      <td>78.998742</td>\n",
       "      <td>269.989699</td>\n",
       "      <td>8.168216e+03</td>\n",
       "    </tr>\n",
       "  </tbody>\n",
       "</table>\n",
       "</div>"
      ],
      "text/plain": [
       "             Height        Weight         Money\n",
       "count  10000.000000  10000.000000  1.000000e+04\n",
       "mean      66.367560    161.440357  6.311565e+02\n",
       "std        3.847528     32.108439  8.060481e+02\n",
       "min       54.263133     64.700127  1.735664e-07\n",
       "25%       63.505620    135.818051  8.906720e+01\n",
       "50%       66.318070    161.212928  3.390872e+02\n",
       "75%       69.174262    187.169525  8.515404e+02\n",
       "max       78.998742    269.989699  8.168216e+03"
      ]
     },
     "execution_count": 7,
     "metadata": {},
     "output_type": "execute_result"
    }
   ],
   "source": [
    "# your answer here\n",
    "df.describe()"
   ]
  },
  {
   "cell_type": "markdown",
   "metadata": {
    "colab_type": "text",
    "id": "QMuYYMkC6_Xg"
   },
   "source": [
    "## What can you observe? Compare mean and median values for each variable of our dataset."
   ]
  },
  {
   "cell_type": "code",
   "execution_count": 8,
   "metadata": {
    "colab": {},
    "colab_type": "code",
    "id": "KTT7N4Xv6_Xh"
   },
   "outputs": [
    {
     "data": {
      "text/plain": [
       "'Ao observar a média e a mediana, podemos verificar que a coluna Money possui a maior\\ndeferença entre as duas métricas.'"
      ]
     },
     "execution_count": 8,
     "metadata": {},
     "output_type": "execute_result"
    }
   ],
   "source": [
    "# your answer here\n",
    "\"\"\"Ao observar a média e a mediana, podemos verificar que a coluna Money possui a maior\n",
    "deferença entre as duas métricas.\"\"\""
   ]
  },
  {
   "cell_type": "markdown",
   "metadata": {
    "colab_type": "text",
    "id": "97z21EZ56_Xj"
   },
   "source": [
    "## From that observation, what can you conclude? Can you imagine which kind of distribution each one has?\n",
    "\n",
    "Try to predict which category each variable most likely seems to fall into (without plotting it yet):\n",
    "- Left skewed\n",
    "- Right skewed\n",
    "- Gaussian-like\n",
    "\n",
    "_hint: Remember the effect of outliers on the mean and median values_"
   ]
  },
  {
   "cell_type": "code",
   "execution_count": 9,
   "metadata": {
    "colab": {},
    "colab_type": "code",
    "id": "e6Pm83sN6_Xj"
   },
   "outputs": [
    {
     "data": {
      "text/plain": [
       "'\\nHeight\\t Gaussian-like\\nWeight\\t Right skewed\\nMoney\\t Left skewed\\n'"
      ]
     },
     "execution_count": 9,
     "metadata": {},
     "output_type": "execute_result"
    }
   ],
   "source": [
    "# your answer here\n",
    "\"\"\"\n",
    "Height\t Gaussian-like\n",
    "Weight\t Right skewed\n",
    "Money\t Left skewed\n",
    "\"\"\""
   ]
  },
  {
   "cell_type": "markdown",
   "metadata": {
    "colab_type": "text",
    "id": "ulFpz4Cc80L9"
   },
   "source": [
    "Usually, the comparison between mean and median already leads us to meaningful insights regarding the variable's distribution. If mean and median are close, you can suppose that most of the data is concentrated in a region within the mean. However, if median and mean are far apart, you can suppose that some observations are pulling the mean closer to them."
   ]
  },
  {
   "cell_type": "markdown",
   "metadata": {
    "colab_type": "text",
    "id": "SZ5EUnL36_Xl"
   },
   "source": [
    "# Univariate Analysis"
   ]
  },
  {
   "cell_type": "markdown",
   "metadata": {
    "colab_type": "text",
    "id": "MonHc-Dv6_Xm"
   },
   "source": [
    "## Gender count\n",
    "\n",
    "Count how many Male and Female exist on this dataset using pandas. "
   ]
  },
  {
   "cell_type": "code",
   "execution_count": 12,
   "metadata": {
    "ExecuteTime": {
     "end_time": "2020-04-06T04:21:26.005141Z",
     "start_time": "2020-04-06T04:21:26.002149Z"
    },
    "colab": {},
    "colab_type": "code",
    "id": "550hCUU26_Xm"
   },
   "outputs": [
    {
     "data": {
      "text/plain": [
       "Female    5000\n",
       "Male      5000\n",
       "Name: Gender, dtype: int64"
      ]
     },
     "execution_count": 12,
     "metadata": {},
     "output_type": "execute_result"
    }
   ],
   "source": [
    "# your answer here\n",
    "df['Gender'].value_counts()"
   ]
  },
  {
   "cell_type": "markdown",
   "metadata": {
    "colab_type": "text",
    "id": "8PYiGbsg6_Xo"
   },
   "source": [
    "## Visual gender count\n",
    "\n",
    "Use seaborn (sns) to visually see how many male and female exist on the dataset.\n",
    "\n",
    "_hint: If you don't know how to do this, you can google: seaborn + the pandas method you used on the previous exercise_"
   ]
  },
  {
   "cell_type": "code",
   "execution_count": 19,
   "metadata": {
    "ExecuteTime": {
     "end_time": "2020-04-06T04:23:52.685393Z",
     "start_time": "2020-04-06T04:23:52.683368Z"
    },
    "colab": {},
    "colab_type": "code",
    "id": "8ZiHJakJ6_Xp"
   },
   "outputs": [
    {
     "data": {
      "text/plain": [
       "<matplotlib.axes._subplots.AxesSubplot at 0x15ac21a9a48>"
      ]
     },
     "execution_count": 19,
     "metadata": {},
     "output_type": "execute_result"
    },
    {
     "data": {
      "image/png": "[encoded data removed]",
      "text/plain": [
       "<Figure size 432x288 with 1 Axes>"
      ]
     },
     "metadata": {
      "needs_background": "light"
     },
     "output_type": "display_data"
    }
   ],
   "source": [
    "# your answer here\n",
    "sns.countplot(x='Gender', data=df)"
   ]
  },
  {
   "cell_type": "markdown",
   "metadata": {
    "colab_type": "text",
    "id": "OKAJFx0w6_Xq"
   },
   "source": [
    "## Consider only Height\n",
    "\n",
    "Create a pandas series of the Height variable"
   ]
  },
  {
   "cell_type": "code",
   "execution_count": 20,
   "metadata": {
    "colab": {},
    "colab_type": "code",
    "id": "QN-nwoar6_Xr"
   },
   "outputs": [],
   "source": [
    "# your answer here\n",
    "\n",
    "height = df['Height']"
   ]
  },
  {
   "cell_type": "markdown",
   "metadata": {
    "colab_type": "text",
    "id": "ATOR57i06_Xt"
   },
   "source": [
    "### Histogram-plot\n",
    "\n",
    "Plot the histogram of the height"
   ]
  },
  {
   "cell_type": "code",
   "execution_count": 23,
   "metadata": {
    "colab": {},
    "colab_type": "code",
    "id": "DETusxSt6_Xu"
   },
   "outputs": [
    {
     "data": {
      "image/png": "[encoded data removed]",
      "text/plain": [
       "<Figure size 864x576 with 1 Axes>"
      ]
     },
     "metadata": {
      "needs_background": "light"
     },
     "output_type": "display_data"
    }
   ],
   "source": [
    "plt.figure(figsize=(12, 8))\n",
    "# your answer here\n",
    "plt.hist(height)\n",
    "plt.show()"
   ]
  },
  {
   "cell_type": "markdown",
   "metadata": {
    "colab_type": "text",
    "id": "0z4log2p6_Xw"
   },
   "source": [
    "### Box-plot\n",
    "\n",
    "Plot the boxplot of the height"
   ]
  },
  {
   "cell_type": "code",
   "execution_count": 26,
   "metadata": {
    "colab": {},
    "colab_type": "code",
    "id": "KPvda1GA6_Xx"
   },
   "outputs": [
    {
     "data": {
      "image/png": "[encoded data removed]",
      "text/plain": [
       "<Figure size 864x576 with 1 Axes>"
      ]
     },
     "metadata": {
      "needs_background": "light"
     },
     "output_type": "display_data"
    }
   ],
   "source": [
    "plt.figure(figsize=(12, 8))\n",
    "plt.boxplot(height)\n",
    "plt.show()"
   ]
  },
  {
   "cell_type": "markdown",
   "metadata": {
    "colab_type": "text",
    "id": "yOJYQJNK6_Xy"
   },
   "source": [
    "What do you think the distribution of height is like? Do you think it is common for variables to behave like that in real life?"
   ]
  },
  {
   "cell_type": "code",
   "execution_count": 27,
   "metadata": {
    "colab": {},
    "colab_type": "code",
    "id": "1AUPhMGX6_Xy"
   },
   "outputs": [
    {
     "data": {
      "text/plain": [
       "'\\nSim, pois na vida real acredita-se que a \\ndistribuição da altura tem uma tendência \\na ser normal.\\n'"
      ]
     },
     "execution_count": 27,
     "metadata": {},
     "output_type": "execute_result"
    }
   ],
   "source": [
    "\"\"\"\n",
    "Sim, pois na vida real acredita-se que a \n",
    "distribuição da altura tem uma tendência \n",
    "a ser normal.\n",
    "\"\"\""
   ]
  },
  {
   "cell_type": "markdown",
   "metadata": {
    "colab_type": "text",
    "id": "qTyDt57_6_X0"
   },
   "source": [
    "### KDE distribution for height"
   ]
  },
  {
   "cell_type": "markdown",
   "metadata": {
    "colab_type": "text",
    "id": "KGzIwcRV6_X0"
   },
   "source": [
    "Plot the kde (kernel-density-estimation) distribution (without the hist distribution) of the height."
   ]
  },
  {
   "cell_type": "code",
   "execution_count": 34,
   "metadata": {},
   "outputs": [
    {
     "data": {
      "text/plain": [
       "<matplotlib.axes._subplots.AxesSubplot at 0x15ac23f2388>"
      ]
     },
     "execution_count": 34,
     "metadata": {},
     "output_type": "execute_result"
    },
    {
     "data": {
      "image/png": "[encoded data removed]",
      "text/plain": [
       "<Figure size 432x288 with 1 Axes>"
      ]
     },
     "metadata": {
      "needs_background": "light"
     },
     "output_type": "display_data"
    }
   ],
   "source": [
    "height.plot(kind='kde')"
   ]
  },
  {
   "cell_type": "markdown",
   "metadata": {
    "colab_type": "text",
    "id": "ikhooBE46_X1"
   },
   "source": [
    "### Analysis"
   ]
  },
  {
   "cell_type": "markdown",
   "metadata": {
    "colab_type": "text",
    "id": "opXZgn7q6_X1"
   },
   "source": [
    "As we can see we have a high count for height in the range near 60 to 75. How many people fall off 3 standard deviations from the mean? Can you consider them outliers? Why is that?"
   ]
  },
  {
   "cell_type": "markdown",
   "metadata": {
    "colab_type": "text",
    "id": "dgkPi6856_X1"
   },
   "source": [
    "#### Calculate the mean"
   ]
  },
  {
   "cell_type": "code",
   "execution_count": 35,
   "metadata": {
    "ExecuteTime": {
     "end_time": "2020-04-06T04:26:43.977959Z",
     "start_time": "2020-04-06T04:26:43.974967Z"
    },
    "colab": {},
    "colab_type": "code",
    "id": "SkxJqzbq6_X2"
   },
   "outputs": [],
   "source": [
    "# your answer here\n",
    "mean = height.mean()"
   ]
  },
  {
   "cell_type": "markdown",
   "metadata": {
    "colab_type": "text",
    "id": "F3nLhNNu6_X4"
   },
   "source": [
    "#### Calculate the standard deviation "
   ]
  },
  {
   "cell_type": "code",
   "execution_count": 36,
   "metadata": {
    "ExecuteTime": {
     "end_time": "2020-04-06T04:26:50.252000Z",
     "start_time": "2020-04-06T04:26:50.249009Z"
    },
    "colab": {},
    "colab_type": "code",
    "id": "bUK8X9RY6_X5"
   },
   "outputs": [],
   "source": [
    "# your answer here\n",
    "standard_deviation = height.std()"
   ]
  },
  {
   "cell_type": "markdown",
   "metadata": {
    "colab_type": "text",
    "id": "270jlexC6_X6"
   },
   "source": [
    "#### Calculate the values for the cutoffs:\n",
    "\n",
    "`upper_cutoff = mean` <b><span style=\"color:red\">+</span></b> `3 * standard_deviation` \n",
    "\n",
    "`lower_cutoff = mean` <b><span style=\"color:red\">-</span></b> `3 * standard_deviation`"
   ]
  },
  {
   "cell_type": "code",
   "execution_count": 37,
   "metadata": {},
   "outputs": [],
   "source": [
    "upper_cutoff = mean + 3 * standard_deviation\n",
    "lower_cutoff = mean - 3 * standard_deviation"
   ]
  },
  {
   "cell_type": "code",
   "execution_count": 38,
   "metadata": {},
   "outputs": [
    {
     "data": {
      "text/plain": [
       "77.91014411714076"
      ]
     },
     "execution_count": 38,
     "metadata": {},
     "output_type": "execute_result"
    }
   ],
   "source": [
    "upper_cutoff"
   ]
  },
  {
   "cell_type": "code",
   "execution_count": 39,
   "metadata": {},
   "outputs": [
    {
     "data": {
      "text/plain": [
       "54.82497539250136"
      ]
     },
     "execution_count": 39,
     "metadata": {},
     "output_type": "execute_result"
    }
   ],
   "source": [
    "lower_cutoff"
   ]
  },
  {
   "cell_type": "markdown",
   "metadata": {
    "colab_type": "text",
    "id": "isBRD1mN6_X7"
   },
   "source": [
    "#### Now filter the original dataset. \n",
    "\n",
    "Use the values you calculated above to filter the original dataset. \n",
    "\n",
    "You should obtain a filtered dataset containing only the rows in which the `Height` column is greater than the upper cutoff and lower than the lower cutoff."
   ]
  },
  {
   "cell_type": "code",
   "execution_count": 51,
   "metadata": {},
   "outputs": [
    {
     "data": {
      "text/html": [
       "<div>\n",
       "<style scoped>\n",
       "    .dataframe tbody tr th:only-of-type {\n",
       "        vertical-align: middle;\n",
       "    }\n",
       "\n",
       "    .dataframe tbody tr th {\n",
       "        vertical-align: top;\n",
       "    }\n",
       "\n",
       "    .dataframe thead th {\n",
       "        text-align: right;\n",
       "    }\n",
       "</style>\n",
       "<table border=\"1\" class=\"dataframe\">\n",
       "  <thead>\n",
       "    <tr style=\"text-align: right;\">\n",
       "      <th></th>\n",
       "      <th>Gender</th>\n",
       "      <th>Height</th>\n",
       "      <th>Weight</th>\n",
       "      <th>Money</th>\n",
       "    </tr>\n",
       "  </thead>\n",
       "  <tbody>\n",
       "    <tr>\n",
       "      <th>994</th>\n",
       "      <td>Male</td>\n",
       "      <td>78.095867</td>\n",
       "      <td>255.690835</td>\n",
       "      <td>1357.105000</td>\n",
       "    </tr>\n",
       "    <tr>\n",
       "      <th>1317</th>\n",
       "      <td>Male</td>\n",
       "      <td>78.462053</td>\n",
       "      <td>227.342565</td>\n",
       "      <td>5.457968</td>\n",
       "    </tr>\n",
       "    <tr>\n",
       "      <th>2014</th>\n",
       "      <td>Male</td>\n",
       "      <td>78.998742</td>\n",
       "      <td>269.989699</td>\n",
       "      <td>131.474470</td>\n",
       "    </tr>\n",
       "    <tr>\n",
       "      <th>3285</th>\n",
       "      <td>Male</td>\n",
       "      <td>78.528210</td>\n",
       "      <td>253.889004</td>\n",
       "      <td>0.089663</td>\n",
       "    </tr>\n",
       "    <tr>\n",
       "      <th>3757</th>\n",
       "      <td>Male</td>\n",
       "      <td>78.621374</td>\n",
       "      <td>245.733783</td>\n",
       "      <td>204.113245</td>\n",
       "    </tr>\n",
       "    <tr>\n",
       "      <th>6624</th>\n",
       "      <td>Female</td>\n",
       "      <td>54.616858</td>\n",
       "      <td>71.393749</td>\n",
       "      <td>226.061310</td>\n",
       "    </tr>\n",
       "    <tr>\n",
       "      <th>9285</th>\n",
       "      <td>Female</td>\n",
       "      <td>54.263133</td>\n",
       "      <td>64.700127</td>\n",
       "      <td>646.532185</td>\n",
       "    </tr>\n",
       "  </tbody>\n",
       "</table>\n",
       "</div>"
      ],
      "text/plain": [
       "      Gender     Height      Weight        Money\n",
       "994     Male  78.095867  255.690835  1357.105000\n",
       "1317    Male  78.462053  227.342565     5.457968\n",
       "2014    Male  78.998742  269.989699   131.474470\n",
       "3285    Male  78.528210  253.889004     0.089663\n",
       "3757    Male  78.621374  245.733783   204.113245\n",
       "6624  Female  54.616858   71.393749   226.061310\n",
       "9285  Female  54.263133   64.700127   646.532185"
      ]
     },
     "execution_count": 51,
     "metadata": {},
     "output_type": "execute_result"
    }
   ],
   "source": [
    "df[(df['Height']>upper_cutoff) | (df['Height']<lower_cutoff)]"
   ]
  },
  {
   "cell_type": "code",
   "execution_count": 0,
   "metadata": {
    "colab": {},
    "colab_type": "code",
    "id": "RTL9hhAi6_X7",
    "outputId": "c5cc08d8-842e-420a-dff3-7dbfa10ebb38"
   },
   "outputs": [
    {
     "data": {
      "text/html": [
       "<div>\n",
       "<style scoped>\n",
       "    .dataframe tbody tr th:only-of-type {\n",
       "        vertical-align: middle;\n",
       "    }\n",
       "\n",
       "    .dataframe tbody tr th {\n",
       "        vertical-align: top;\n",
       "    }\n",
       "\n",
       "    .dataframe thead th {\n",
       "        text-align: right;\n",
       "    }\n",
       "</style>\n",
       "<table border=\"1\" class=\"dataframe\">\n",
       "  <thead>\n",
       "    <tr style=\"text-align: right;\">\n",
       "      <th></th>\n",
       "      <th>Gender</th>\n",
       "      <th>Height</th>\n",
       "      <th>Weight</th>\n",
       "    </tr>\n",
       "  </thead>\n",
       "  <tbody>\n",
       "    <tr>\n",
       "      <th>994</th>\n",
       "      <td>Male</td>\n",
       "      <td>78.095867</td>\n",
       "      <td>255.690835</td>\n",
       "    </tr>\n",
       "    <tr>\n",
       "      <th>1317</th>\n",
       "      <td>Male</td>\n",
       "      <td>78.462053</td>\n",
       "      <td>227.342565</td>\n",
       "    </tr>\n",
       "    <tr>\n",
       "      <th>2014</th>\n",
       "      <td>Male</td>\n",
       "      <td>78.998742</td>\n",
       "      <td>269.989699</td>\n",
       "    </tr>\n",
       "    <tr>\n",
       "      <th>3285</th>\n",
       "      <td>Male</td>\n",
       "      <td>78.528210</td>\n",
       "      <td>253.889004</td>\n",
       "    </tr>\n",
       "    <tr>\n",
       "      <th>3757</th>\n",
       "      <td>Male</td>\n",
       "      <td>78.621374</td>\n",
       "      <td>245.733783</td>\n",
       "    </tr>\n",
       "    <tr>\n",
       "      <th>6624</th>\n",
       "      <td>Female</td>\n",
       "      <td>54.616858</td>\n",
       "      <td>71.393749</td>\n",
       "    </tr>\n",
       "    <tr>\n",
       "      <th>9285</th>\n",
       "      <td>Female</td>\n",
       "      <td>54.263133</td>\n",
       "      <td>64.700127</td>\n",
       "    </tr>\n",
       "  </tbody>\n",
       "</table>\n",
       "</div>"
      ],
      "text/plain": [
       "      Gender     Height      Weight\n",
       "994     Male  78.095867  255.690835\n",
       "1317    Male  78.462053  227.342565\n",
       "2014    Male  78.998742  269.989699\n",
       "3285    Male  78.528210  253.889004\n",
       "3757    Male  78.621374  245.733783\n",
       "6624  Female  54.616858   71.393749\n",
       "9285  Female  54.263133   64.700127"
      ]
     },
     "execution_count": 148,
     "metadata": {
      "tags": []
     },
     "output_type": "execute_result"
    }
   ],
   "source": [
    "# expected results:"
   ]
  },
  {
   "cell_type": "markdown",
   "metadata": {
    "ExecuteTime": {
     "end_time": "2020-04-06T04:33:34.040229Z",
     "start_time": "2020-04-06T04:33:34.035243Z"
    },
    "colab_type": "text",
    "id": "nG_njBjW6_X_"
   },
   "source": [
    "#### Finally, calculate the shape of this filtered dataset and compare with the original dataframe.\n",
    "\n",
    "Which percentage felt in these thresholds? Did you expect this value? Why?"
   ]
  },
  {
   "cell_type": "code",
   "execution_count": 53,
   "metadata": {
    "colab": {},
    "colab_type": "code",
    "id": "hud6jYs96_X_"
   },
   "outputs": [
    {
     "data": {
      "text/plain": [
       "0.0007"
      ]
     },
     "execution_count": 53,
     "metadata": {},
     "output_type": "execute_result"
    }
   ],
   "source": [
    "len(df[(df['Height']>upper_cutoff) | (df['Height']<lower_cutoff)])/len(df)"
   ]
  },
  {
   "cell_type": "code",
   "execution_count": 54,
   "metadata": {},
   "outputs": [
    {
     "data": {
      "text/plain": [
       "'\\nComo há 99,93% dentro de 3 desvios, \\nhá uma grande possibilidade dos dados\\nserem válidos, embora seja importante não \\ndescartar os outliers para análise de \\nalguns dados.\\n'"
      ]
     },
     "execution_count": 54,
     "metadata": {},
     "output_type": "execute_result"
    }
   ],
   "source": [
    "\"\"\"\n",
    "Como há 99,93% dentro de 3 desvios, \n",
    "há uma grande possibilidade dos dados\n",
    "serem válidos, embora seja importante não \n",
    "descartar os outliers para análise de \n",
    "alguns dados.\n",
    "\"\"\""
   ]
  },
  {
   "cell_type": "markdown",
   "metadata": {
    "colab_type": "text",
    "id": "E9elL5936_YB"
   },
   "source": [
    "## Now perform the same analysis for `money` variable."
   ]
  },
  {
   "cell_type": "markdown",
   "metadata": {
    "colab_type": "text",
    "id": "iHTk6LhO6_YB"
   },
   "source": [
    "You'll do exactly the same analysis for a variable of your dataset that has some different aspects. Let's try to understand that."
   ]
  },
  {
   "cell_type": "markdown",
   "metadata": {
    "colab_type": "text",
    "id": "jBi_YffX6_YB"
   },
   "source": [
    "### Considering only money"
   ]
  },
  {
   "cell_type": "markdown",
   "metadata": {
    "colab_type": "text",
    "id": "ze_KooVx6_YC"
   },
   "source": [
    "Generate a variable called money from the dataset"
   ]
  },
  {
   "cell_type": "code",
   "execution_count": 56,
   "metadata": {
    "colab": {},
    "colab_type": "code",
    "id": "VlGJ0JoG6_YC"
   },
   "outputs": [],
   "source": [
    "# your code here\n",
    "money = df['Money']"
   ]
  },
  {
   "cell_type": "code",
   "execution_count": 57,
   "metadata": {
    "colab": {},
    "colab_type": "code",
    "id": "tYzsJnzo6_YD",
    "outputId": "b8f36a66-939e-45d6-fd9c-06e95dc939bd"
   },
   "outputs": [
    {
     "data": {
      "text/plain": [
       "(10000,)"
      ]
     },
     "execution_count": 57,
     "metadata": {},
     "output_type": "execute_result"
    }
   ],
   "source": [
    "money.shape"
   ]
  },
  {
   "cell_type": "markdown",
   "metadata": {
    "colab_type": "text",
    "id": "KXMvChJi6_YF"
   },
   "source": [
    "### Histogram-plot"
   ]
  },
  {
   "cell_type": "code",
   "execution_count": 58,
   "metadata": {
    "colab": {},
    "colab_type": "code",
    "id": "oexSHeHc6_YF"
   },
   "outputs": [
    {
     "data": {
      "image/png": "[encoded data removed]",
      "text/plain": [
       "<Figure size 432x288 with 1 Axes>"
      ]
     },
     "metadata": {
      "needs_background": "light"
     },
     "output_type": "display_data"
    }
   ],
   "source": [
    "# your code here\n",
    "plt.hist(money)\n",
    "plt.show()"
   ]
  },
  {
   "cell_type": "markdown",
   "metadata": {
    "colab_type": "text",
    "id": "oZcX8mYB6_YH"
   },
   "source": [
    "### Box-plot"
   ]
  },
  {
   "cell_type": "code",
   "execution_count": 59,
   "metadata": {
    "colab": {},
    "colab_type": "code",
    "id": "NoG2kvO86_YI"
   },
   "outputs": [
    {
     "data": {
      "image/png": "[encoded data removed]",
      "text/plain": [
       "<Figure size 864x576 with 1 Axes>"
      ]
     },
     "metadata": {
      "needs_background": "light"
     },
     "output_type": "display_data"
    }
   ],
   "source": [
    "# your code here\n",
    "plt.figure(figsize=(12, 8))\n",
    "plt.boxplot(money)\n",
    "plt.show()"
   ]
  },
  {
   "cell_type": "markdown",
   "metadata": {
    "colab_type": "text",
    "id": "u9gi0NLV6_YJ"
   },
   "source": [
    "### KDE distribution for height"
   ]
  },
  {
   "cell_type": "code",
   "execution_count": 60,
   "metadata": {
    "colab": {},
    "colab_type": "code",
    "id": "sfT2BzQe6_YK"
   },
   "outputs": [
    {
     "data": {
      "text/plain": [
       "<matplotlib.axes._subplots.AxesSubplot at 0x15ac2d1ff48>"
      ]
     },
     "execution_count": 60,
     "metadata": {},
     "output_type": "execute_result"
    },
    {
     "data": {
      "image/png": "[encoded data removed]",
      "text/plain": [
       "<Figure size 432x288 with 1 Axes>"
      ]
     },
     "metadata": {
      "needs_background": "light"
     },
     "output_type": "display_data"
    }
   ],
   "source": [
    "# your code here\n",
    "money.plot(kind='kde')"
   ]
  },
  {
   "cell_type": "markdown",
   "metadata": {
    "colab_type": "text",
    "id": "kzJUTeh36_YM"
   },
   "source": [
    "### Analysis"
   ]
  },
  {
   "cell_type": "markdown",
   "metadata": {
    "colab_type": "text",
    "id": "Gl1ewWWR6_YM"
   },
   "source": [
    "Again, how many people fall off 3 standard deviations in both cases (which percentage of the dataset)? Let's do it by parts:"
   ]
  },
  {
   "cell_type": "markdown",
   "metadata": {
    "colab_type": "text",
    "id": "nkEp1XFN6_YM"
   },
   "source": [
    "#### Calculate the mean"
   ]
  },
  {
   "cell_type": "code",
   "execution_count": 61,
   "metadata": {
    "ExecuteTime": {
     "end_time": "2020-04-06T04:36:40.326455Z",
     "start_time": "2020-04-06T04:36:40.323463Z"
    },
    "colab": {},
    "colab_type": "code",
    "id": "_LAoCUi06_YN"
   },
   "outputs": [],
   "source": [
    "# your answer here\n",
    "mean = money.mean()"
   ]
  },
  {
   "cell_type": "markdown",
   "metadata": {
    "colab_type": "text",
    "id": "k7tGEVD96_YO"
   },
   "source": [
    "#### Calculate the standard deviation "
   ]
  },
  {
   "cell_type": "code",
   "execution_count": 62,
   "metadata": {
    "colab": {},
    "colab_type": "code",
    "id": "KkW0F87D6_YP"
   },
   "outputs": [],
   "source": [
    "# your answer here.\n",
    "standard_deviation = money.std()"
   ]
  },
  {
   "cell_type": "markdown",
   "metadata": {
    "colab_type": "text",
    "id": "hyHPl0TD6_YQ"
   },
   "source": [
    "#### Calculate the values for the cutoffs:\n",
    "\n",
    "`upper_cutoff = mean` <b><span style=\"color:red\">+</span></b> `3 * standard_deviation` \n",
    "\n",
    "`lower_cutoff = mean` <b><span style=\"color:red\">-</span></b> `3 * standard_deviation`"
   ]
  },
  {
   "cell_type": "code",
   "execution_count": 63,
   "metadata": {},
   "outputs": [
    {
     "data": {
      "text/plain": [
       "3049.300636091181"
      ]
     },
     "execution_count": 63,
     "metadata": {},
     "output_type": "execute_result"
    }
   ],
   "source": [
    "upper_cutoff = mean + 3 * standard_deviation\n",
    "upper_cutoff"
   ]
  },
  {
   "cell_type": "code",
   "execution_count": 64,
   "metadata": {},
   "outputs": [
    {
     "data": {
      "text/plain": [
       "-1786.9877077799888"
      ]
     },
     "execution_count": 64,
     "metadata": {},
     "output_type": "execute_result"
    }
   ],
   "source": [
    "lower_cutoff = mean - 3 * standard_deviation\n",
    "lower_cutoff"
   ]
  },
  {
   "cell_type": "markdown",
   "metadata": {
    "colab_type": "text",
    "id": "lO6g6RXi6_YQ"
   },
   "source": [
    "#### Again, filter the original dataset. "
   ]
  },
  {
   "cell_type": "code",
   "execution_count": 65,
   "metadata": {
    "ExecuteTime": {
     "end_time": "2020-04-06T04:37:25.851255Z",
     "start_time": "2020-04-06T04:37:25.848263Z"
    },
    "colab": {},
    "colab_type": "code",
    "id": "VjdtbNc06_YR"
   },
   "outputs": [
    {
     "data": {
      "text/html": [
       "<div>\n",
       "<style scoped>\n",
       "    .dataframe tbody tr th:only-of-type {\n",
       "        vertical-align: middle;\n",
       "    }\n",
       "\n",
       "    .dataframe tbody tr th {\n",
       "        vertical-align: top;\n",
       "    }\n",
       "\n",
       "    .dataframe thead th {\n",
       "        text-align: right;\n",
       "    }\n",
       "</style>\n",
       "<table border=\"1\" class=\"dataframe\">\n",
       "  <thead>\n",
       "    <tr style=\"text-align: right;\">\n",
       "      <th></th>\n",
       "      <th>Gender</th>\n",
       "      <th>Height</th>\n",
       "      <th>Weight</th>\n",
       "      <th>Money</th>\n",
       "    </tr>\n",
       "  </thead>\n",
       "  <tbody>\n",
       "    <tr>\n",
       "      <th>234</th>\n",
       "      <td>Male</td>\n",
       "      <td>67.369809</td>\n",
       "      <td>176.636164</td>\n",
       "      <td>3725.078083</td>\n",
       "    </tr>\n",
       "    <tr>\n",
       "      <th>294</th>\n",
       "      <td>Male</td>\n",
       "      <td>64.425194</td>\n",
       "      <td>169.109401</td>\n",
       "      <td>3942.967034</td>\n",
       "    </tr>\n",
       "    <tr>\n",
       "      <th>355</th>\n",
       "      <td>Male</td>\n",
       "      <td>72.938649</td>\n",
       "      <td>216.097455</td>\n",
       "      <td>3762.418909</td>\n",
       "    </tr>\n",
       "    <tr>\n",
       "      <th>518</th>\n",
       "      <td>Male</td>\n",
       "      <td>68.346457</td>\n",
       "      <td>178.675992</td>\n",
       "      <td>3286.659362</td>\n",
       "    </tr>\n",
       "    <tr>\n",
       "      <th>662</th>\n",
       "      <td>Male</td>\n",
       "      <td>69.430998</td>\n",
       "      <td>172.325881</td>\n",
       "      <td>3798.711723</td>\n",
       "    </tr>\n",
       "    <tr>\n",
       "      <th>...</th>\n",
       "      <td>...</td>\n",
       "      <td>...</td>\n",
       "      <td>...</td>\n",
       "      <td>...</td>\n",
       "    </tr>\n",
       "    <tr>\n",
       "      <th>9873</th>\n",
       "      <td>Female</td>\n",
       "      <td>63.707174</td>\n",
       "      <td>132.760922</td>\n",
       "      <td>3164.374960</td>\n",
       "    </tr>\n",
       "    <tr>\n",
       "      <th>9888</th>\n",
       "      <td>Female</td>\n",
       "      <td>65.105932</td>\n",
       "      <td>149.694693</td>\n",
       "      <td>3929.572877</td>\n",
       "    </tr>\n",
       "    <tr>\n",
       "      <th>9922</th>\n",
       "      <td>Female</td>\n",
       "      <td>58.752489</td>\n",
       "      <td>106.846041</td>\n",
       "      <td>3541.679543</td>\n",
       "    </tr>\n",
       "    <tr>\n",
       "      <th>9930</th>\n",
       "      <td>Female</td>\n",
       "      <td>68.544449</td>\n",
       "      <td>148.828165</td>\n",
       "      <td>3916.316217</td>\n",
       "    </tr>\n",
       "    <tr>\n",
       "      <th>9946</th>\n",
       "      <td>Female</td>\n",
       "      <td>66.624544</td>\n",
       "      <td>149.828094</td>\n",
       "      <td>6535.362439</td>\n",
       "    </tr>\n",
       "  </tbody>\n",
       "</table>\n",
       "<p>229 rows × 4 columns</p>\n",
       "</div>"
      ],
      "text/plain": [
       "      Gender     Height      Weight        Money\n",
       "234     Male  67.369809  176.636164  3725.078083\n",
       "294     Male  64.425194  169.109401  3942.967034\n",
       "355     Male  72.938649  216.097455  3762.418909\n",
       "518     Male  68.346457  178.675992  3286.659362\n",
       "662     Male  69.430998  172.325881  3798.711723\n",
       "...      ...        ...         ...          ...\n",
       "9873  Female  63.707174  132.760922  3164.374960\n",
       "9888  Female  65.105932  149.694693  3929.572877\n",
       "9922  Female  58.752489  106.846041  3541.679543\n",
       "9930  Female  68.544449  148.828165  3916.316217\n",
       "9946  Female  66.624544  149.828094  6535.362439\n",
       "\n",
       "[229 rows x 4 columns]"
      ]
     },
     "execution_count": 65,
     "metadata": {},
     "output_type": "execute_result"
    }
   ],
   "source": [
    "# your answer here\n",
    "df[(df['Money']>upper_cutoff) | (df['Money']<lower_cutoff)]"
   ]
  },
  {
   "cell_type": "markdown",
   "metadata": {
    "colab_type": "text",
    "id": "vGnDsa-s6_YT"
   },
   "source": [
    "#### Finally, calculate the shape of this filtered dataset and compare with the original dataframe.\n",
    "\n",
    "Which percentage felt in these thresholds? Did you expect this value?"
   ]
  },
  {
   "cell_type": "code",
   "execution_count": 67,
   "metadata": {
    "colab": {},
    "colab_type": "code",
    "id": "P2m7MHNF6_YT",
    "scrolled": true
   },
   "outputs": [
    {
     "data": {
      "text/plain": [
       "0.0229"
      ]
     },
     "execution_count": 67,
     "metadata": {},
     "output_type": "execute_result"
    }
   ],
   "source": [
    "# your answer here\n",
    "len(df[(df['Money']>upper_cutoff) | (df['Money']<lower_cutoff)])/len(df)"
   ]
  },
  {
   "cell_type": "code",
   "execution_count": 68,
   "metadata": {},
   "outputs": [
    {
     "data": {
      "text/plain": [
       "\"\\nPodemos dizer que há uma grande quantidade de dados\\nfora dos 3 desvios, com 2,29% considerados como\\n'outliers'.\\n\""
      ]
     },
     "execution_count": 68,
     "metadata": {},
     "output_type": "execute_result"
    }
   ],
   "source": [
    "\"\"\"\n",
    "Podemos dizer que há uma grande quantidade de dados\n",
    "fora dos 3 desvios, com 2,29% considerados como\n",
    "'outliers'.\n",
    "\"\"\""
   ]
  },
  {
   "cell_type": "markdown",
   "metadata": {
    "colab_type": "text",
    "id": "5GvjLe4s6_YV"
   },
   "source": [
    "Can you consider them outliers?"
   ]
  },
  {
   "cell_type": "code",
   "execution_count": 69,
   "metadata": {
    "colab": {},
    "colab_type": "code",
    "id": "hMv78bh-6_YV"
   },
   "outputs": [
    {
     "data": {
      "text/plain": [
       "'\\nComo há uma grande quantidade, não seria interessante\\ndesconsiderá-los. Há uma grande chance de eliminar\\ndados importantes caso esses dados sejam desconsiderados \\npara a análise.\\n'"
      ]
     },
     "execution_count": 69,
     "metadata": {},
     "output_type": "execute_result"
    }
   ],
   "source": [
    "# your answer here\n",
    "\"\"\"\n",
    "Como há uma grande quantidade, não seria interessante\n",
    "desconsiderá-los. Há uma grande chance de eliminar\n",
    "dados importantes caso esses dados sejam desconsiderados \n",
    "para a análise.\n",
    "\"\"\""
   ]
  },
  {
   "cell_type": "markdown",
   "metadata": {
    "colab_type": "text",
    "id": "LodtGIlf8PyK"
   },
   "source": [
    "By now, you should have observed that in order to consider an observation an `outlier`, one needs to take into account the **distribution** of the variable. In fact, most statistical aspects do not mean anything until you understand the variable's distribution."
   ]
  },
  {
   "cell_type": "markdown",
   "metadata": {
    "colab_type": "text",
    "id": "4xo8UdNG6_YX"
   },
   "source": [
    "# Bivariate Analysis"
   ]
  },
  {
   "cell_type": "markdown",
   "metadata": {
    "colab_type": "text",
    "id": "ZPow_mX16_YX"
   },
   "source": [
    "## Considering both height and weight\n",
    "\n",
    "Now we'll consider both height and weight variables to understand our data. We'll perform what is called a bivariate analysis."
   ]
  },
  {
   "cell_type": "markdown",
   "metadata": {
    "colab_type": "text",
    "id": "O0RTnQXc6_YY"
   },
   "source": [
    "### Perform a scatterplot to check the relation between Height and Weight"
   ]
  },
  {
   "cell_type": "code",
   "execution_count": 71,
   "metadata": {},
   "outputs": [],
   "source": [
    "weight = df['Weight']"
   ]
  },
  {
   "cell_type": "code",
   "execution_count": 83,
   "metadata": {
    "colab": {},
    "colab_type": "code",
    "id": "SigXKLfC6_YY"
   },
   "outputs": [
    {
     "data": {
      "text/plain": [
       "<matplotlib.collections.PathCollection at 0x15ac3103288>"
      ]
     },
     "execution_count": 83,
     "metadata": {},
     "output_type": "execute_result"
    },
    {
     "data": {
      "image/png": "[encoded data removed]",
      "text/plain": [
       "<Figure size 864x576 with 1 Axes>"
      ]
     },
     "metadata": {
      "needs_background": "light"
     },
     "output_type": "display_data"
    }
   ],
   "source": [
    "plt.figure(figsize=(12, 8))\n",
    "plt.scatter(height, weight, color='magenta')"
   ]
  },
  {
   "cell_type": "markdown",
   "metadata": {
    "colab_type": "text",
    "id": "59aT_5lW6_Ya"
   },
   "source": [
    "### Do the same plot, but color the markers by Gender"
   ]
  },
  {
   "cell_type": "code",
   "execution_count": 93,
   "metadata": {
    "ExecuteTime": {
     "end_time": "2020-04-06T04:40:28.745269Z",
     "start_time": "2020-04-06T04:40:28.738261Z"
    },
    "colab": {},
    "colab_type": "code",
    "id": "il_2ixhp6_Ya"
   },
   "outputs": [
    {
     "data": {
      "text/plain": [
       "<matplotlib.axes._subplots.AxesSubplot at 0x15ac27bf5c8>"
      ]
     },
     "execution_count": 93,
     "metadata": {},
     "output_type": "execute_result"
    },
    {
     "data": {
      "image/png": "[encoded data removed]",
      "text/plain": [
       "<Figure size 432x288 with 1 Axes>"
      ]
     },
     "metadata": {
      "needs_background": "light"
     },
     "output_type": "display_data"
    }
   ],
   "source": [
    "sns.scatterplot('Height','Weight', hue='Gender', data=df)"
   ]
  },
  {
   "cell_type": "markdown",
   "metadata": {
    "colab_type": "text",
    "id": "dvqrbq6M6_Yc"
   },
   "source": [
    "### Which insights hue'ing the plot using the variable Gender has brought to you? "
   ]
  },
  {
   "cell_type": "code",
   "execution_count": 94,
   "metadata": {
    "colab": {},
    "colab_type": "code",
    "id": "JAAdWKOo6_Yc"
   },
   "outputs": [
    {
     "data": {
      "text/plain": [
       "'\\nPodemos dizer que a maior concentração\\ndo gênero feminino está localizado na parte \\ninferior esquerdo do gráfico e do gênero \\nmasculino está localizado na parte superior\\ndireita do gráfico.\\n'"
      ]
     },
     "execution_count": 94,
     "metadata": {},
     "output_type": "execute_result"
    }
   ],
   "source": [
    "# your answer here\n",
    "\"\"\"\n",
    "Podemos dizer que a maior concentração\n",
    "do gênero feminino está localizado na parte \n",
    "inferior esquerdo do gráfico e do gênero \n",
    "masculino está localizado na parte superior\n",
    "direita do gráfico.\n",
    "\"\"\""
   ]
  },
  {
   "cell_type": "markdown",
   "metadata": {
    "colab_type": "text",
    "id": "BG61NYRy6_Ye"
   },
   "source": [
    "### Create a variable called `gender_groupby` to group data by 'Gender'. However, don't define any aggregations yet. \n",
    "\n",
    "Just perform the groupby operation."
   ]
  },
  {
   "cell_type": "code",
   "execution_count": 95,
   "metadata": {
    "colab": {},
    "colab_type": "code",
    "id": "T1-ve0L86_Ye"
   },
   "outputs": [],
   "source": [
    "# your code here\n",
    "gender_groupby = df.groupby(['Gender'])"
   ]
  },
  {
   "cell_type": "markdown",
   "metadata": {
    "colab_type": "text",
    "id": "QgBhuRB_6_Yh"
   },
   "source": [
    "#### Run `gender_groupby.head()` to check the groups obtained."
   ]
  },
  {
   "cell_type": "code",
   "execution_count": 96,
   "metadata": {
    "ExecuteTime": {
     "end_time": "2020-04-06T04:42:01.551953Z",
     "start_time": "2020-04-06T04:42:01.544967Z"
    },
    "colab": {},
    "colab_type": "code",
    "id": "ry9aSDKm6_Yh"
   },
   "outputs": [
    {
     "data": {
      "text/html": [
       "<div>\n",
       "<style scoped>\n",
       "    .dataframe tbody tr th:only-of-type {\n",
       "        vertical-align: middle;\n",
       "    }\n",
       "\n",
       "    .dataframe tbody tr th {\n",
       "        vertical-align: top;\n",
       "    }\n",
       "\n",
       "    .dataframe thead th {\n",
       "        text-align: right;\n",
       "    }\n",
       "</style>\n",
       "<table border=\"1\" class=\"dataframe\">\n",
       "  <thead>\n",
       "    <tr style=\"text-align: right;\">\n",
       "      <th></th>\n",
       "      <th>Gender</th>\n",
       "      <th>Height</th>\n",
       "      <th>Weight</th>\n",
       "      <th>Money</th>\n",
       "    </tr>\n",
       "  </thead>\n",
       "  <tbody>\n",
       "    <tr>\n",
       "      <th>0</th>\n",
       "      <td>Male</td>\n",
       "      <td>73.847017</td>\n",
       "      <td>241.893563</td>\n",
       "      <td>21.462754</td>\n",
       "    </tr>\n",
       "    <tr>\n",
       "      <th>1</th>\n",
       "      <td>Male</td>\n",
       "      <td>68.781904</td>\n",
       "      <td>162.310473</td>\n",
       "      <td>94.732358</td>\n",
       "    </tr>\n",
       "    <tr>\n",
       "      <th>2</th>\n",
       "      <td>Male</td>\n",
       "      <td>74.110105</td>\n",
       "      <td>212.740856</td>\n",
       "      <td>130.077362</td>\n",
       "    </tr>\n",
       "    <tr>\n",
       "      <th>3</th>\n",
       "      <td>Male</td>\n",
       "      <td>71.730978</td>\n",
       "      <td>220.042470</td>\n",
       "      <td>214.096064</td>\n",
       "    </tr>\n",
       "    <tr>\n",
       "      <th>4</th>\n",
       "      <td>Male</td>\n",
       "      <td>69.881796</td>\n",
       "      <td>206.349801</td>\n",
       "      <td>765.091245</td>\n",
       "    </tr>\n",
       "    <tr>\n",
       "      <th>5000</th>\n",
       "      <td>Female</td>\n",
       "      <td>58.910732</td>\n",
       "      <td>102.088326</td>\n",
       "      <td>25.530452</td>\n",
       "    </tr>\n",
       "    <tr>\n",
       "      <th>5001</th>\n",
       "      <td>Female</td>\n",
       "      <td>65.230013</td>\n",
       "      <td>141.305823</td>\n",
       "      <td>270.612186</td>\n",
       "    </tr>\n",
       "    <tr>\n",
       "      <th>5002</th>\n",
       "      <td>Female</td>\n",
       "      <td>63.369004</td>\n",
       "      <td>131.041403</td>\n",
       "      <td>1114.256936</td>\n",
       "    </tr>\n",
       "    <tr>\n",
       "      <th>5003</th>\n",
       "      <td>Female</td>\n",
       "      <td>64.479997</td>\n",
       "      <td>128.171511</td>\n",
       "      <td>2194.127692</td>\n",
       "    </tr>\n",
       "    <tr>\n",
       "      <th>5004</th>\n",
       "      <td>Female</td>\n",
       "      <td>61.793096</td>\n",
       "      <td>129.781407</td>\n",
       "      <td>462.814462</td>\n",
       "    </tr>\n",
       "  </tbody>\n",
       "</table>\n",
       "</div>"
      ],
      "text/plain": [
       "      Gender     Height      Weight        Money\n",
       "0       Male  73.847017  241.893563    21.462754\n",
       "1       Male  68.781904  162.310473    94.732358\n",
       "2       Male  74.110105  212.740856   130.077362\n",
       "3       Male  71.730978  220.042470   214.096064\n",
       "4       Male  69.881796  206.349801   765.091245\n",
       "5000  Female  58.910732  102.088326    25.530452\n",
       "5001  Female  65.230013  141.305823   270.612186\n",
       "5002  Female  63.369004  131.041403  1114.256936\n",
       "5003  Female  64.479997  128.171511  2194.127692\n",
       "5004  Female  61.793096  129.781407   462.814462"
      ]
     },
     "execution_count": 96,
     "metadata": {},
     "output_type": "execute_result"
    }
   ],
   "source": [
    "gender_groupby.head()"
   ]
  },
  {
   "cell_type": "markdown",
   "metadata": {
    "colab_type": "text",
    "id": "Fw0jkp5D6_Yj"
   },
   "source": [
    "#### Run gender_groupby.describe() to check the statistics for each group. \n",
    "\n",
    "_hint: You can transpose this result to obtain a better visualization of the results_\n"
   ]
  },
  {
   "cell_type": "code",
   "execution_count": 98,
   "metadata": {
    "colab": {},
    "colab_type": "code",
    "id": "2BqS-oLr6_Yk"
   },
   "outputs": [
    {
     "data": {
      "text/html": [
       "<div>\n",
       "<style scoped>\n",
       "    .dataframe tbody tr th:only-of-type {\n",
       "        vertical-align: middle;\n",
       "    }\n",
       "\n",
       "    .dataframe tbody tr th {\n",
       "        vertical-align: top;\n",
       "    }\n",
       "\n",
       "    .dataframe thead tr th {\n",
       "        text-align: left;\n",
       "    }\n",
       "\n",
       "    .dataframe thead tr:last-of-type th {\n",
       "        text-align: right;\n",
       "    }\n",
       "</style>\n",
       "<table border=\"1\" class=\"dataframe\">\n",
       "  <thead>\n",
       "    <tr>\n",
       "      <th></th>\n",
       "      <th colspan=\"8\" halign=\"left\">Height</th>\n",
       "      <th colspan=\"5\" halign=\"left\">Weight</th>\n",
       "      <th colspan=\"8\" halign=\"left\">Money</th>\n",
       "    </tr>\n",
       "    <tr>\n",
       "      <th></th>\n",
       "      <th>count</th>\n",
       "      <th>mean</th>\n",
       "      <th>std</th>\n",
       "      <th>min</th>\n",
       "      <th>25%</th>\n",
       "      <th>50%</th>\n",
       "      <th>75%</th>\n",
       "      <th>max</th>\n",
       "      <th>count</th>\n",
       "      <th>mean</th>\n",
       "      <th>...</th>\n",
       "      <th>75%</th>\n",
       "      <th>max</th>\n",
       "      <th>count</th>\n",
       "      <th>mean</th>\n",
       "      <th>std</th>\n",
       "      <th>min</th>\n",
       "      <th>25%</th>\n",
       "      <th>50%</th>\n",
       "      <th>75%</th>\n",
       "      <th>max</th>\n",
       "    </tr>\n",
       "    <tr>\n",
       "      <th>Gender</th>\n",
       "      <th></th>\n",
       "      <th></th>\n",
       "      <th></th>\n",
       "      <th></th>\n",
       "      <th></th>\n",
       "      <th></th>\n",
       "      <th></th>\n",
       "      <th></th>\n",
       "      <th></th>\n",
       "      <th></th>\n",
       "      <th></th>\n",
       "      <th></th>\n",
       "      <th></th>\n",
       "      <th></th>\n",
       "      <th></th>\n",
       "      <th></th>\n",
       "      <th></th>\n",
       "      <th></th>\n",
       "      <th></th>\n",
       "      <th></th>\n",
       "      <th></th>\n",
       "    </tr>\n",
       "  </thead>\n",
       "  <tbody>\n",
       "    <tr>\n",
       "      <th>Female</th>\n",
       "      <td>5000.0</td>\n",
       "      <td>63.708774</td>\n",
       "      <td>2.696284</td>\n",
       "      <td>54.263133</td>\n",
       "      <td>61.894441</td>\n",
       "      <td>63.730924</td>\n",
       "      <td>65.563565</td>\n",
       "      <td>73.389586</td>\n",
       "      <td>5000.0</td>\n",
       "      <td>135.860093</td>\n",
       "      <td>...</td>\n",
       "      <td>148.810926</td>\n",
       "      <td>202.237214</td>\n",
       "      <td>5000.0</td>\n",
       "      <td>751.959852</td>\n",
       "      <td>860.718215</td>\n",
       "      <td>4.194596e-03</td>\n",
       "      <td>162.499271</td>\n",
       "      <td>453.032412</td>\n",
       "      <td>1015.017353</td>\n",
       "      <td>7347.139257</td>\n",
       "    </tr>\n",
       "    <tr>\n",
       "      <th>Male</th>\n",
       "      <td>5000.0</td>\n",
       "      <td>69.026346</td>\n",
       "      <td>2.863362</td>\n",
       "      <td>58.406905</td>\n",
       "      <td>67.174679</td>\n",
       "      <td>69.027709</td>\n",
       "      <td>70.988744</td>\n",
       "      <td>78.998742</td>\n",
       "      <td>5000.0</td>\n",
       "      <td>187.020621</td>\n",
       "      <td>...</td>\n",
       "      <td>200.357802</td>\n",
       "      <td>269.989699</td>\n",
       "      <td>5000.0</td>\n",
       "      <td>510.353076</td>\n",
       "      <td>727.686958</td>\n",
       "      <td>1.735664e-07</td>\n",
       "      <td>48.648924</td>\n",
       "      <td>232.012273</td>\n",
       "      <td>667.073116</td>\n",
       "      <td>8168.216190</td>\n",
       "    </tr>\n",
       "  </tbody>\n",
       "</table>\n",
       "<p>2 rows × 24 columns</p>\n",
       "</div>"
      ],
      "text/plain": [
       "        Height                                                        \\\n",
       "         count       mean       std        min        25%        50%   \n",
       "Gender                                                                 \n",
       "Female  5000.0  63.708774  2.696284  54.263133  61.894441  63.730924   \n",
       "Male    5000.0  69.026346  2.863362  58.406905  67.174679  69.027709   \n",
       "\n",
       "                              Weight              ...                          \\\n",
       "              75%        max   count        mean  ...         75%         max   \n",
       "Gender                                            ...                           \n",
       "Female  65.563565  73.389586  5000.0  135.860093  ...  148.810926  202.237214   \n",
       "Male    70.988744  78.998742  5000.0  187.020621  ...  200.357802  269.989699   \n",
       "\n",
       "         Money                                                                \\\n",
       "         count        mean         std           min         25%         50%   \n",
       "Gender                                                                         \n",
       "Female  5000.0  751.959852  860.718215  4.194596e-03  162.499271  453.032412   \n",
       "Male    5000.0  510.353076  727.686958  1.735664e-07   48.648924  232.012273   \n",
       "\n",
       "                                  \n",
       "                75%          max  \n",
       "Gender                            \n",
       "Female  1015.017353  7347.139257  \n",
       "Male     667.073116  8168.216190  \n",
       "\n",
       "[2 rows x 24 columns]"
      ]
     },
     "execution_count": 98,
     "metadata": {},
     "output_type": "execute_result"
    }
   ],
   "source": [
    "gender_groupby.describe()"
   ]
  },
  {
   "cell_type": "markdown",
   "metadata": {
    "colab_type": "text",
    "id": "rdqDmgC36_Yl"
   },
   "source": [
    "The results above should give you some insights of the effect of gender on your dataset both visually and numerically."
   ]
  },
  {
   "cell_type": "markdown",
   "metadata": {
    "colab_type": "text",
    "id": "rcOvujkn6_Ym"
   },
   "source": [
    "## Distribution plots"
   ]
  },
  {
   "cell_type": "markdown",
   "metadata": {
    "colab_type": "text",
    "id": "3JUuAPkq6_Ym"
   },
   "source": [
    "### Verifying the distribution of your variables for each Gender.\n",
    "\n",
    "We have seen that each variable in our dataset has its own \"DNA\". This is the distribution of each variable. However, the story does not stop there. Each variable has peculiarities within it and it is our job as data analyst to discover it. We'll see futurely that what `machine learning models` mostly do for us is automate this process (if we understand them, of course) \n",
    "\n",
    "In this case, specifically, we want to understand the effect of our `Gender` variable on the distribution of our dataset.\n"
   ]
  },
  {
   "cell_type": "markdown",
   "metadata": {
    "colab_type": "text",
    "id": "7VbGftCN6_Ym"
   },
   "source": [
    "### First, plot the distribution of the `Height` variable again."
   ]
  },
  {
   "cell_type": "code",
   "execution_count": 106,
   "metadata": {
    "ExecuteTime": {
     "end_time": "2020-04-06T04:47:47.783941Z",
     "start_time": "2020-04-06T04:47:47.780949Z"
    },
    "colab": {},
    "colab_type": "code",
    "id": "agy8521H6_Yn"
   },
   "outputs": [
    {
     "data": {
      "text/plain": [
       "<matplotlib.axes._subplots.AxesSubplot at 0x15ac5911308>"
      ]
     },
     "execution_count": 106,
     "metadata": {},
     "output_type": "execute_result"
    },
    {
     "data": {
      "image/png": "[encoded data removed]",
      "text/plain": [
       "<Figure size 432x288 with 1 Axes>"
      ]
     },
     "metadata": {
      "needs_background": "light"
     },
     "output_type": "display_data"
    }
   ],
   "source": [
    "# your answer here\n",
    "height.plot(kind='kde')"
   ]
  },
  {
   "cell_type": "markdown",
   "metadata": {
    "colab_type": "text",
    "id": "iHH6KpQr6_Yp"
   },
   "source": [
    "### Now, filter your dataset for each gender. Create a dataframe called `men` and another called `women` and plot the `Height` distribution for each of them in the same plot."
   ]
  },
  {
   "cell_type": "code",
   "execution_count": 110,
   "metadata": {
    "ExecuteTime": {
     "end_time": "2020-04-06T04:47:52.663764Z",
     "start_time": "2020-04-06T04:47:52.659775Z"
    },
    "colab": {},
    "colab_type": "code",
    "id": "gS71p7-K6_Yp"
   },
   "outputs": [],
   "source": [
    "# your answer here\n",
    "man = df.loc[df['Gender']=='Male']['Height']\n",
    "woman = df.loc[df['Gender']=='Female']['Height']"
   ]
  },
  {
   "cell_type": "code",
   "execution_count": 116,
   "metadata": {},
   "outputs": [
    {
     "data": {
      "text/plain": [
       "<matplotlib.axes._subplots.AxesSubplot at 0x15ac9580448>"
      ]
     },
     "execution_count": 116,
     "metadata": {},
     "output_type": "execute_result"
    },
    {
     "data": {
      "image/png": "[encoded data removed]",
      "text/plain": [
       "<Figure size 432x288 with 1 Axes>"
      ]
     },
     "metadata": {
      "needs_background": "light"
     },
     "output_type": "display_data"
    }
   ],
   "source": [
    "man.plot(kind='kde')\n",
    "woman.plot(kind='kde', color = 'magenta')"
   ]
  },
  {
   "cell_type": "markdown",
   "metadata": {
    "colab_type": "text",
    "id": "cagOUAyG6_Yr"
   },
   "source": [
    "### What insights could you observe from that? What is the impact of `Gender` on `Height`"
   ]
  },
  {
   "cell_type": "code",
   "execution_count": 117,
   "metadata": {
    "colab": {},
    "colab_type": "code",
    "id": "i5H3RXJr6_Yr"
   },
   "outputs": [
    {
     "data": {
      "text/plain": [
       "'\\nPodemos ver que a curva da amostra feminina possui\\nmenor média e mediana em relação ao peso do que a \\namostra masculina.\\n'"
      ]
     },
     "execution_count": 117,
     "metadata": {},
     "output_type": "execute_result"
    }
   ],
   "source": [
    "\"\"\"\n",
    "Podemos ver que a curva da amostra feminina possui\n",
    "menor média e mediana em relação ao peso do que a \n",
    "amostra masculina.\n",
    "\"\"\""
   ]
  },
  {
   "cell_type": "markdown",
   "metadata": {
    "colab_type": "text",
    "id": "D9_EoGmV6_Yt"
   },
   "source": [
    "**Extra Note:** The issue: https://github.com/mwaskom/seaborn/issues/861 has a discussion of why distplot doesn't have a `hue` argument and how to overcome it (look for FacetGrid)"
   ]
  },
  {
   "cell_type": "markdown",
   "metadata": {
    "colab_type": "text",
    "id": "qGNDPX3l6_Yt"
   },
   "source": [
    "Try to do the same for the `Money` variable. What is the impact of `Gender` on `Money` ?\n",
    "\n",
    "_Hint: for the Money variable, try specifying `hist=False`_\n"
   ]
  },
  {
   "cell_type": "code",
   "execution_count": 118,
   "metadata": {
    "colab": {},
    "colab_type": "code",
    "id": "ZZXIuhlb6_Yu"
   },
   "outputs": [],
   "source": [
    "man_money = df.loc[df['Gender']=='Male']['Money']\n",
    "woman_money = df.loc[df['Gender']=='Female']['Money']"
   ]
  },
  {
   "cell_type": "code",
   "execution_count": 123,
   "metadata": {},
   "outputs": [
    {
     "data": {
      "text/plain": [
       "<matplotlib.axes._subplots.AxesSubplot at 0x15ac9b7c308>"
      ]
     },
     "execution_count": 123,
     "metadata": {},
     "output_type": "execute_result"
    },
    {
     "data": {
      "image/png": "[encoded data removed]",
      "text/plain": [
       "<Figure size 432x288 with 1 Axes>"
      ]
     },
     "metadata": {
      "needs_background": "light"
     },
     "output_type": "display_data"
    }
   ],
   "source": [
    "man_money.plot(kind='kde')\n",
    "woman_money.plot(kind='kde', color = 'magenta')"
   ]
  },
  {
   "cell_type": "markdown",
   "metadata": {
    "colab_type": "text",
    "id": "OKn0Zyrc6_Yw"
   },
   "source": [
    "## Boxplot "
   ]
  },
  {
   "cell_type": "markdown",
   "metadata": {
    "colab_type": "text",
    "id": "8Em89WIn6_Yw"
   },
   "source": [
    "### Gender vs Height\n",
    "\n",
    "Plot the boxplot considering the x-axis as `Gender` and y-axis as `Height`"
   ]
  },
  {
   "cell_type": "code",
   "execution_count": 125,
   "metadata": {
    "colab": {},
    "colab_type": "code",
    "id": "gw4HbUh36_Yx"
   },
   "outputs": [
    {
     "data": {
      "image/png": "[encoded data removed]",
      "text/plain": [
       "<Figure size 864x576 with 1 Axes>"
      ]
     },
     "metadata": {
      "needs_background": "light"
     },
     "output_type": "display_data"
    }
   ],
   "source": [
    "plt.figure(figsize=(12, 8))\n",
    "sns.boxplot(x='Gender', y='Height', data=df)\n",
    "plt.show()"
   ]
  },
  {
   "cell_type": "markdown",
   "metadata": {
    "colab_type": "text",
    "id": "CSIGCqV66_Yy"
   },
   "source": [
    "### Gender vs Money"
   ]
  },
  {
   "cell_type": "code",
   "execution_count": 126,
   "metadata": {
    "colab": {},
    "colab_type": "code",
    "id": "weexLFSX6_Yz"
   },
   "outputs": [
    {
     "data": {
      "image/png": "[encoded data removed]",
      "text/plain": [
       "<Figure size 864x576 with 1 Axes>"
      ]
     },
     "metadata": {
      "needs_background": "light"
     },
     "output_type": "display_data"
    }
   ],
   "source": [
    "plt.figure(figsize=(12, 8))\n",
    "sns.boxplot(x='Gender', y='Money', data=df)\n",
    "plt.show()"
   ]
  },
  {
   "cell_type": "markdown",
   "metadata": {
    "colab_type": "text",
    "id": "GLOqMlrT6_Y0"
   },
   "source": [
    "From the conclusions of the previous exercises, did you expect the bloxplots to be like the ones above?"
   ]
  },
  {
   "cell_type": "code",
   "execution_count": 127,
   "metadata": {
    "ExecuteTime": {
     "end_time": "2020-04-06T04:58:29.670900Z",
     "start_time": "2020-04-06T04:58:29.666887Z"
    },
    "colab": {},
    "colab_type": "code",
    "id": "Xi7kF5v_6_Y1"
   },
   "outputs": [
    {
     "data": {
      "text/plain": [
       "'\\nSim, pois os gráficos anteriores mostraram deforma mais\\nclara do que os demais gráficos, mas o resultado acima\\njá era de se esperar.\\n'"
      ]
     },
     "execution_count": 127,
     "metadata": {},
     "output_type": "execute_result"
    }
   ],
   "source": [
    "# your answer here\n",
    "\"\"\"\n",
    "Sim, pois os gráficos anteriores mostraram deforma mais\n",
    "clara do que os demais gráficos, mas o resultado acima\n",
    "já era de se esperar.\n",
    "\"\"\""
   ]
  },
  {
   "cell_type": "markdown",
   "metadata": {
    "colab_type": "text",
    "id": "HNT8LjTI6_Y3"
   },
   "source": [
    "### Multivariate Analysis"
   ]
  },
  {
   "cell_type": "markdown",
   "metadata": {
    "colab_type": "text",
    "id": "_affOA406_Y3"
   },
   "source": [
    "Use `sns.pairplot` to see some combinations obtained so far. Use `hue = 'Gender`. \n",
    "\n",
    "Note that in a real problem, pairplot starts to get messy since there can be countless number of variables in a dataset. Use it wisely.\n",
    "\n",
    "Usually people only plot this graph and don't take any conclusions from it. Don't fall into that trap. "
   ]
  },
  {
   "cell_type": "code",
   "execution_count": 128,
   "metadata": {
    "colab": {},
    "colab_type": "code",
    "id": "LxvLM7Vf6_Y3"
   },
   "outputs": [
    {
     "data": {
      "text/plain": [
       "<seaborn.axisgrid.PairGrid at 0x15ac998a148>"
      ]
     },
     "execution_count": 128,
     "metadata": {},
     "output_type": "execute_result"
    },
    {
     "data": {
      "image/png": "[encoded data removed]",
      "text/plain": [
       "<Figure size 612.625x540 with 12 Axes>"
      ]
     },
     "metadata": {
      "needs_background": "light"
     },
     "output_type": "display_data"
    }
   ],
   "source": [
    "sns.pairplot(data=df, hue='Gender')"
   ]
  }
 ],
 "metadata": {
  "colab": {
   "collapsed_sections": [],
   "name": "main.ipynb",
   "provenance": []
  },
  "kernelspec": {
   "display_name": "Python 3",
   "language": "python",
   "name": "python3"
  },
  "language_info": {
   "codemirror_mode": {
    "name": "ipython",
    "version": 3
   },
   "file_extension": ".py",
   "mimetype": "text/x-python",
   "name": "python",
   "nbconvert_exporter": "python",
   "pygments_lexer": "ipython3",
   "version": "3.7.4"
  },
  "toc": {
   "base_numbering": 1,
   "nav_menu": {},
   "number_sections": true,
   "sideBar": true,
   "skip_h1_title": false,
   "title_cell": "Table of Contents",
   "title_sidebar": "Contents",
   "toc_cell": false,
   "toc_position": {},
   "toc_section_display": true,
   "toc_window_display": false
  }
 },
 "nbformat": 4,
 "nbformat_minor": 1
}
