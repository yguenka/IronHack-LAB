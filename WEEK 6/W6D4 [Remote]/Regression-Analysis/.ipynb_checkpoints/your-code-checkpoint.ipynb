{
 "cells": [
  {
   "cell_type": "markdown",
   "metadata": {},
   "source": [
    "# Lab: Regression Analysis"
   ]
  },
  {
   "cell_type": "markdown",
   "metadata": {},
   "source": [
    "### Before you start:\n",
    "\n",
    "* Read the README.md file\n",
    "* Comment as much as you can and use the resources (README.md file) \n",
    "\n",
    "Happy learning!"
   ]
  },
  {
   "cell_type": "code",
   "execution_count": 2,
   "metadata": {},
   "outputs": [],
   "source": [
    "import pandas as pd"
   ]
  },
  {
   "cell_type": "code",
   "execution_count": 34,
   "metadata": {},
   "outputs": [],
   "source": [
    "from sklearn.linear_model import LinearRegression \n",
    "import matplotlib.pyplot as plt"
   ]
  },
  {
   "cell_type": "markdown",
   "metadata": {},
   "source": [
    "## Challenge 1\n",
    "I work at a coding bootcamp, and I have developed a theory that the younger my students are, the more often they are late to class. In order to test my hypothesis, I have collected some data in the following table:\n",
    "\n",
    "| StudentID | Age | Tardies |\n",
    "|--------|-----|------------|\n",
    "| 1      | 17  | 10         |\n",
    "| 2      | 51  | 1          |\n",
    "| 3      | 27  | 5          |\n",
    "| 4      | 21  | 9         |\n",
    "| 5      | 36  |  4         |\n",
    "| 6      | 48  |  2         |\n",
    "| 7      | 19  |  9         |\n",
    "| 8      | 26  | 6          |\n",
    "| 9      | 54  |  0         |\n",
    "| 10     | 30  |  3         |"
   ]
  },
  {
   "cell_type": "markdown",
   "metadata": {},
   "source": [
    "Use this command to create a dataframe with the data provided in the table. \n",
    "~~~~\n",
    "student_data = pd.DataFrame({'X': [x_values], 'Y': [y_values]})\n",
    "~~~~"
   ]
  },
  {
   "cell_type": "code",
   "execution_count": null,
   "metadata": {},
   "outputs": [],
   "source": [
    "Para o StudentID: [1, 2, 3, 4, 5, 6, 7, 8, 9, 10]\n",
    "Age: [17, 51, 27, 21, 36, 48, 19, 26, 54, 30]\n",
    "Tardies: [10, 1, 5, 9, 4, 2, 9, 6, 0, 3]"
   ]
  },
  {
   "cell_type": "code",
   "execution_count": 9,
   "metadata": {
    "collapsed": true
   },
   "outputs": [
    {
     "data": {
      "text/html": [
       "<div>\n",
       "<style scoped>\n",
       "    .dataframe tbody tr th:only-of-type {\n",
       "        vertical-align: middle;\n",
       "    }\n",
       "\n",
       "    .dataframe tbody tr th {\n",
       "        vertical-align: top;\n",
       "    }\n",
       "\n",
       "    .dataframe thead th {\n",
       "        text-align: right;\n",
       "    }\n",
       "</style>\n",
       "<table border=\"1\" class=\"dataframe\">\n",
       "  <thead>\n",
       "    <tr style=\"text-align: right;\">\n",
       "      <th></th>\n",
       "      <th>StudentID</th>\n",
       "      <th>Age</th>\n",
       "      <th>Tardies</th>\n",
       "    </tr>\n",
       "  </thead>\n",
       "  <tbody>\n",
       "    <tr>\n",
       "      <th>0</th>\n",
       "      <td>1</td>\n",
       "      <td>17</td>\n",
       "      <td>10</td>\n",
       "    </tr>\n",
       "    <tr>\n",
       "      <th>1</th>\n",
       "      <td>2</td>\n",
       "      <td>51</td>\n",
       "      <td>1</td>\n",
       "    </tr>\n",
       "    <tr>\n",
       "      <th>2</th>\n",
       "      <td>3</td>\n",
       "      <td>27</td>\n",
       "      <td>5</td>\n",
       "    </tr>\n",
       "    <tr>\n",
       "      <th>3</th>\n",
       "      <td>4</td>\n",
       "      <td>21</td>\n",
       "      <td>9</td>\n",
       "    </tr>\n",
       "    <tr>\n",
       "      <th>4</th>\n",
       "      <td>5</td>\n",
       "      <td>36</td>\n",
       "      <td>4</td>\n",
       "    </tr>\n",
       "    <tr>\n",
       "      <th>5</th>\n",
       "      <td>6</td>\n",
       "      <td>48</td>\n",
       "      <td>2</td>\n",
       "    </tr>\n",
       "    <tr>\n",
       "      <th>6</th>\n",
       "      <td>7</td>\n",
       "      <td>19</td>\n",
       "      <td>9</td>\n",
       "    </tr>\n",
       "    <tr>\n",
       "      <th>7</th>\n",
       "      <td>8</td>\n",
       "      <td>26</td>\n",
       "      <td>6</td>\n",
       "    </tr>\n",
       "    <tr>\n",
       "      <th>8</th>\n",
       "      <td>9</td>\n",
       "      <td>54</td>\n",
       "      <td>0</td>\n",
       "    </tr>\n",
       "    <tr>\n",
       "      <th>9</th>\n",
       "      <td>10</td>\n",
       "      <td>30</td>\n",
       "      <td>3</td>\n",
       "    </tr>\n",
       "  </tbody>\n",
       "</table>\n",
       "</div>"
      ],
      "text/plain": [
       "   StudentID  Age  Tardies\n",
       "0          1   17       10\n",
       "1          2   51        1\n",
       "2          3   27        5\n",
       "3          4   21        9\n",
       "4          5   36        4\n",
       "5          6   48        2\n",
       "6          7   19        9\n",
       "7          8   26        6\n",
       "8          9   54        0\n",
       "9         10   30        3"
      ]
     },
     "execution_count": 9,
     "metadata": {},
     "output_type": "execute_result"
    }
   ],
   "source": [
    "# Your code here. \n",
    "student_data = pd.DataFrame({'StudentID': [1, 2, 3, 4, 5, 6, 7, 8, 9, 10],\n",
    "                             'Age': [17, 51, 27, 21, 36, 48, 19, 26, 54, 30],\n",
    "                             'Tardies': [10, 1, 5, 9, 4, 2, 9, 6, 0, 3]})\n",
    "student_data"
   ]
  },
  {
   "cell_type": "markdown",
   "metadata": {},
   "source": [
    "Draw a dispersion diagram (scatter plot) for the data."
   ]
  },
  {
   "cell_type": "code",
   "execution_count": 16,
   "metadata": {},
   "outputs": [
    {
     "data": {
      "text/plain": [
       "<matplotlib.collections.PathCollection at 0x9b09088>"
      ]
     },
     "execution_count": 16,
     "metadata": {},
     "output_type": "execute_result"
    },
    {
     "data": {
      "image/png": "[encoded data removed]",
      "text/plain": [
       "<Figure size 432x288 with 1 Axes>"
      ]
     },
     "metadata": {
      "needs_background": "light"
     },
     "output_type": "display_data"
    }
   ],
   "source": [
    "# Your code here.\n",
    "plt.scatter(student_data['Age'], student_data['Tardies'])"
   ]
  },
  {
   "cell_type": "markdown",
   "metadata": {},
   "source": [
    "Do you see a trend? Can you make any hypotheses about the relationship between age and number of tardies?"
   ]
  },
  {
   "cell_type": "code",
   "execution_count": 17,
   "metadata": {},
   "outputs": [
    {
     "data": {
      "text/plain": [
       "'\\nDe acordo com o gráfico podemos dizer que \\nquanto maior a idade, menor é a quantidade\\nde atrasos.\\n\\n'"
      ]
     },
     "execution_count": 17,
     "metadata": {},
     "output_type": "execute_result"
    }
   ],
   "source": [
    "# Your response here\n",
    "\"\"\"\n",
    "De acordo com o gráfico podemos dizer que \n",
    "quanto maior a idade, menor é a quantidade\n",
    "de atrasos.\n",
    "\n",
    "\"\"\""
   ]
  },
  {
   "cell_type": "markdown",
   "metadata": {},
   "source": [
    "Calculate the covariance and correlation of the variables in your plot. What is the difference between these two measures? Compare their values. What do they tell you in this case? Add your responses as comments after your code."
   ]
  },
  {
   "cell_type": "code",
   "execution_count": 19,
   "metadata": {},
   "outputs": [],
   "source": [
    "import numpy as np"
   ]
  },
  {
   "cell_type": "code",
   "execution_count": 21,
   "metadata": {
    "scrolled": true
   },
   "outputs": [
    {
     "data": {
      "text/plain": [
       "array([[187.65555556, -45.56666667],\n",
       "       [-45.56666667,  12.54444444]])"
      ]
     },
     "execution_count": 21,
     "metadata": {},
     "output_type": "execute_result"
    }
   ],
   "source": [
    "# Your response here.\n",
    "np.cov(student_data['Age'], student_data['Tardies'])"
   ]
  },
  {
   "cell_type": "code",
   "execution_count": 28,
   "metadata": {},
   "outputs": [],
   "source": [
    "columns = ['Age','Tardies']"
   ]
  },
  {
   "cell_type": "code",
   "execution_count": 29,
   "metadata": {
    "scrolled": false
   },
   "outputs": [
    {
     "data": {
      "text/html": [
       "<style  type=\"text/css\" >\n",
       "    #T_abde17f0_7a8d_11ea_97f7_78843c96b14arow0_col0 {\n",
       "            background-color:  #b40426;\n",
       "            color:  #f1f1f1;\n",
       "        }    #T_abde17f0_7a8d_11ea_97f7_78843c96b14arow0_col1 {\n",
       "            background-color:  #3b4cc0;\n",
       "            color:  #f1f1f1;\n",
       "        }    #T_abde17f0_7a8d_11ea_97f7_78843c96b14arow1_col0 {\n",
       "            background-color:  #3b4cc0;\n",
       "            color:  #f1f1f1;\n",
       "        }    #T_abde17f0_7a8d_11ea_97f7_78843c96b14arow1_col1 {\n",
       "            background-color:  #b40426;\n",
       "            color:  #f1f1f1;\n",
       "        }</style><table id=\"T_abde17f0_7a8d_11ea_97f7_78843c96b14a\" ><thead>    <tr>        <th class=\"blank level0\" ></th>        <th class=\"col_heading level0 col0\" >Age</th>        <th class=\"col_heading level0 col1\" >Tardies</th>    </tr></thead><tbody>\n",
       "                <tr>\n",
       "                        <th id=\"T_abde17f0_7a8d_11ea_97f7_78843c96b14alevel0_row0\" class=\"row_heading level0 row0\" >Age</th>\n",
       "                        <td id=\"T_abde17f0_7a8d_11ea_97f7_78843c96b14arow0_col0\" class=\"data row0 col0\" >1.000000</td>\n",
       "                        <td id=\"T_abde17f0_7a8d_11ea_97f7_78843c96b14arow0_col1\" class=\"data row0 col1\" >-0.939163</td>\n",
       "            </tr>\n",
       "            <tr>\n",
       "                        <th id=\"T_abde17f0_7a8d_11ea_97f7_78843c96b14alevel0_row1\" class=\"row_heading level0 row1\" >Tardies</th>\n",
       "                        <td id=\"T_abde17f0_7a8d_11ea_97f7_78843c96b14arow1_col0\" class=\"data row1 col0\" >-0.939163</td>\n",
       "                        <td id=\"T_abde17f0_7a8d_11ea_97f7_78843c96b14arow1_col1\" class=\"data row1 col1\" >1.000000</td>\n",
       "            </tr>\n",
       "    </tbody></table>"
      ],
      "text/plain": [
       "<pandas.io.formats.style.Styler at 0xbb7ee88>"
      ]
     },
     "execution_count": 29,
     "metadata": {},
     "output_type": "execute_result"
    }
   ],
   "source": [
    "student_data[columns].corr().style.background_gradient(cmap='coolwarm')"
   ]
  },
  {
   "cell_type": "code",
   "execution_count": 30,
   "metadata": {},
   "outputs": [
    {
     "data": {
      "text/plain": [
       "'\\nNestes resultados, a covâriância entre o Age e a \\nTardies é de 187.65555556, o que indica que existe \\numa relação positiva entre as variáveis.\\nJá a correlação entre as duas variáveis são de -0.939163,\\nsignificando uma linha decrescente e por ser próximo a -1,\\nmostra que as duas variáveis possuem uma forte associação \\nentre elas.\\n'"
      ]
     },
     "execution_count": 30,
     "metadata": {},
     "output_type": "execute_result"
    }
   ],
   "source": [
    "\"\"\"\n",
    "Nestes resultados, a covâriância entre o Age e a \n",
    "Tardies é de 187.65555556, o que indica que existe \n",
    "uma relação positiva entre as variáveis.\n",
    "Já a correlação entre as duas variáveis são de -0.939163,\n",
    "significando uma linha decrescente e por ser próximo a -1,\n",
    "mostra que as duas variáveis possuem uma forte associação \n",
    "entre elas.\n",
    "\"\"\""
   ]
  },
  {
   "cell_type": "markdown",
   "metadata": {},
   "source": [
    "Build a regression model for this data. What will be your outcome variable? What type of regression are you using? Add your responses as comments after your code."
   ]
  },
  {
   "cell_type": "code",
   "execution_count": 41,
   "metadata": {},
   "outputs": [],
   "source": [
    "import seaborn as sns"
   ]
  },
  {
   "cell_type": "code",
   "execution_count": 42,
   "metadata": {},
   "outputs": [
    {
     "name": "stdout",
     "output_type": "stream",
     "text": [
      "The slope is:  -0.2428207709159809\n",
      "The intercept is:  12.888803363135771\n"
     ]
    },
    {
     "data": {
      "text/plain": [
       "<matplotlib.axes._subplots.AxesSubplot at 0xbdac388>"
      ]
     },
     "execution_count": 42,
     "metadata": {},
     "output_type": "execute_result"
    },
    {
     "data": {
      "image/png": "[encoded data removed]",
      "text/plain": [
       "<Figure size 432x288 with 1 Axes>"
      ]
     },
     "metadata": {
      "needs_background": "light"
     },
     "output_type": "display_data"
    }
   ],
   "source": [
    "# Your response here.\n",
    "model = LinearRegression()\n",
    "model.fit(student_data[['Age']],student_data['Tardies'])\n",
    "print ('The slope is: ' , str(model.coef_[0]))\n",
    "print ('The intercept is: ' , str(model.intercept_))\n",
    "sns.regplot(student_data['Age'], student_data['Tardies'])"
   ]
  },
  {
   "cell_type": "markdown",
   "metadata": {},
   "source": [
    "Plot your regression model on your scatter plot."
   ]
  },
  {
   "cell_type": "code",
   "execution_count": 43,
   "metadata": {
    "scrolled": false
   },
   "outputs": [
    {
     "data": {
      "text/plain": [
       "<seaborn.axisgrid.FacetGrid at 0xbf67748>"
      ]
     },
     "execution_count": 43,
     "metadata": {},
     "output_type": "execute_result"
    },
    {
     "data": {
      "image/png": "[encoded data removed]",
      "text/plain": [
       "<Figure size 360x360 with 1 Axes>"
      ]
     },
     "metadata": {
      "needs_background": "light"
     },
     "output_type": "display_data"
    }
   ],
   "source": [
    "# Your code here.\n",
    "sns.lmplot(x='Age',y='Tardies',data=student_data,fit_reg=True) "
   ]
  },
  {
   "cell_type": "markdown",
   "metadata": {},
   "source": [
    "Interpret the results of your model. What can conclusions can you draw from your model and how confident in these conclusions are you? Can we say that age is a good predictor of tardiness? Add your responses as comments after your code."
   ]
  },
  {
   "cell_type": "code",
   "execution_count": 44,
   "metadata": {},
   "outputs": [
    {
     "data": {
      "text/plain": [
       "' \\nSim, pois o slope é de -0.2428207709159809, fazendo com que \\ncada um ano que a idade da pessoa aumenta, -0.2428207709159809\\nfaltas era terá.\\n'"
      ]
     },
     "execution_count": 44,
     "metadata": {},
     "output_type": "execute_result"
    }
   ],
   "source": [
    "# Your response here. \n",
    "\"\"\" \n",
    "Sim, pois o slope é de -0.2428207709159809, fazendo com que \n",
    "cada um ano que a idade da pessoa aumenta, -0.2428207709159809\n",
    "faltas era terá.\n",
    "\"\"\""
   ]
  },
  {
   "cell_type": "markdown",
   "metadata": {},
   "source": [
    "## Challenge 2\n",
    "For the second part of this lab, we will use the vehicles.csv data set. You can find a copy of the dataset in the git hub folder. This dataset includes variables related to vehicle characteristics, including the model, make, and energy efficiency standards, as well as each car's CO2 emissions. As discussed in class the goal of this exercise is to predict vehicles' CO2 emissions based on several independent variables. "
   ]
  },
  {
   "cell_type": "code",
   "execution_count": 46,
   "metadata": {
    "collapsed": true
   },
   "outputs": [
    {
     "data": {
      "text/html": [
       "<div>\n",
       "<style scoped>\n",
       "    .dataframe tbody tr th:only-of-type {\n",
       "        vertical-align: middle;\n",
       "    }\n",
       "\n",
       "    .dataframe tbody tr th {\n",
       "        vertical-align: top;\n",
       "    }\n",
       "\n",
       "    .dataframe thead th {\n",
       "        text-align: right;\n",
       "    }\n",
       "</style>\n",
       "<table border=\"1\" class=\"dataframe\">\n",
       "  <thead>\n",
       "    <tr style=\"text-align: right;\">\n",
       "      <th></th>\n",
       "      <th>Make</th>\n",
       "      <th>Model</th>\n",
       "      <th>Year</th>\n",
       "      <th>Engine Displacement</th>\n",
       "      <th>Cylinders</th>\n",
       "      <th>Transmission</th>\n",
       "      <th>Drivetrain</th>\n",
       "      <th>Vehicle Class</th>\n",
       "      <th>Fuel Type</th>\n",
       "      <th>Fuel Barrels/Year</th>\n",
       "      <th>City MPG</th>\n",
       "      <th>Highway MPG</th>\n",
       "      <th>Combined MPG</th>\n",
       "      <th>CO2 Emission Grams/Mile</th>\n",
       "      <th>Fuel Cost/Year</th>\n",
       "    </tr>\n",
       "  </thead>\n",
       "  <tbody>\n",
       "    <tr>\n",
       "      <th>0</th>\n",
       "      <td>AM General</td>\n",
       "      <td>DJ Po Vehicle 2WD</td>\n",
       "      <td>1984</td>\n",
       "      <td>2.5</td>\n",
       "      <td>4.0</td>\n",
       "      <td>Automatic 3-spd</td>\n",
       "      <td>2-Wheel Drive</td>\n",
       "      <td>Special Purpose Vehicle 2WD</td>\n",
       "      <td>Regular</td>\n",
       "      <td>19.388824</td>\n",
       "      <td>18</td>\n",
       "      <td>17</td>\n",
       "      <td>17</td>\n",
       "      <td>522.764706</td>\n",
       "      <td>1950</td>\n",
       "    </tr>\n",
       "    <tr>\n",
       "      <th>1</th>\n",
       "      <td>AM General</td>\n",
       "      <td>FJ8c Post Office</td>\n",
       "      <td>1984</td>\n",
       "      <td>4.2</td>\n",
       "      <td>6.0</td>\n",
       "      <td>Automatic 3-spd</td>\n",
       "      <td>2-Wheel Drive</td>\n",
       "      <td>Special Purpose Vehicle 2WD</td>\n",
       "      <td>Regular</td>\n",
       "      <td>25.354615</td>\n",
       "      <td>13</td>\n",
       "      <td>13</td>\n",
       "      <td>13</td>\n",
       "      <td>683.615385</td>\n",
       "      <td>2550</td>\n",
       "    </tr>\n",
       "    <tr>\n",
       "      <th>2</th>\n",
       "      <td>AM General</td>\n",
       "      <td>Post Office DJ5 2WD</td>\n",
       "      <td>1985</td>\n",
       "      <td>2.5</td>\n",
       "      <td>4.0</td>\n",
       "      <td>Automatic 3-spd</td>\n",
       "      <td>Rear-Wheel Drive</td>\n",
       "      <td>Special Purpose Vehicle 2WD</td>\n",
       "      <td>Regular</td>\n",
       "      <td>20.600625</td>\n",
       "      <td>16</td>\n",
       "      <td>17</td>\n",
       "      <td>16</td>\n",
       "      <td>555.437500</td>\n",
       "      <td>2100</td>\n",
       "    </tr>\n",
       "    <tr>\n",
       "      <th>3</th>\n",
       "      <td>AM General</td>\n",
       "      <td>Post Office DJ8 2WD</td>\n",
       "      <td>1985</td>\n",
       "      <td>4.2</td>\n",
       "      <td>6.0</td>\n",
       "      <td>Automatic 3-spd</td>\n",
       "      <td>Rear-Wheel Drive</td>\n",
       "      <td>Special Purpose Vehicle 2WD</td>\n",
       "      <td>Regular</td>\n",
       "      <td>25.354615</td>\n",
       "      <td>13</td>\n",
       "      <td>13</td>\n",
       "      <td>13</td>\n",
       "      <td>683.615385</td>\n",
       "      <td>2550</td>\n",
       "    </tr>\n",
       "    <tr>\n",
       "      <th>4</th>\n",
       "      <td>ASC Incorporated</td>\n",
       "      <td>GNX</td>\n",
       "      <td>1987</td>\n",
       "      <td>3.8</td>\n",
       "      <td>6.0</td>\n",
       "      <td>Automatic 4-spd</td>\n",
       "      <td>Rear-Wheel Drive</td>\n",
       "      <td>Midsize Cars</td>\n",
       "      <td>Premium</td>\n",
       "      <td>20.600625</td>\n",
       "      <td>14</td>\n",
       "      <td>21</td>\n",
       "      <td>16</td>\n",
       "      <td>555.437500</td>\n",
       "      <td>2550</td>\n",
       "    </tr>\n",
       "    <tr>\n",
       "      <th>...</th>\n",
       "      <td>...</td>\n",
       "      <td>...</td>\n",
       "      <td>...</td>\n",
       "      <td>...</td>\n",
       "      <td>...</td>\n",
       "      <td>...</td>\n",
       "      <td>...</td>\n",
       "      <td>...</td>\n",
       "      <td>...</td>\n",
       "      <td>...</td>\n",
       "      <td>...</td>\n",
       "      <td>...</td>\n",
       "      <td>...</td>\n",
       "      <td>...</td>\n",
       "      <td>...</td>\n",
       "    </tr>\n",
       "    <tr>\n",
       "      <th>35947</th>\n",
       "      <td>smart</td>\n",
       "      <td>fortwo coupe</td>\n",
       "      <td>2013</td>\n",
       "      <td>1.0</td>\n",
       "      <td>3.0</td>\n",
       "      <td>Auto(AM5)</td>\n",
       "      <td>Rear-Wheel Drive</td>\n",
       "      <td>Two Seaters</td>\n",
       "      <td>Premium</td>\n",
       "      <td>9.155833</td>\n",
       "      <td>34</td>\n",
       "      <td>38</td>\n",
       "      <td>36</td>\n",
       "      <td>244.000000</td>\n",
       "      <td>1100</td>\n",
       "    </tr>\n",
       "    <tr>\n",
       "      <th>35948</th>\n",
       "      <td>smart</td>\n",
       "      <td>fortwo coupe</td>\n",
       "      <td>2014</td>\n",
       "      <td>1.0</td>\n",
       "      <td>3.0</td>\n",
       "      <td>Auto(AM5)</td>\n",
       "      <td>Rear-Wheel Drive</td>\n",
       "      <td>Two Seaters</td>\n",
       "      <td>Premium</td>\n",
       "      <td>9.155833</td>\n",
       "      <td>34</td>\n",
       "      <td>38</td>\n",
       "      <td>36</td>\n",
       "      <td>243.000000</td>\n",
       "      <td>1100</td>\n",
       "    </tr>\n",
       "    <tr>\n",
       "      <th>35949</th>\n",
       "      <td>smart</td>\n",
       "      <td>fortwo coupe</td>\n",
       "      <td>2015</td>\n",
       "      <td>1.0</td>\n",
       "      <td>3.0</td>\n",
       "      <td>Auto(AM5)</td>\n",
       "      <td>Rear-Wheel Drive</td>\n",
       "      <td>Two Seaters</td>\n",
       "      <td>Premium</td>\n",
       "      <td>9.155833</td>\n",
       "      <td>34</td>\n",
       "      <td>38</td>\n",
       "      <td>36</td>\n",
       "      <td>244.000000</td>\n",
       "      <td>1100</td>\n",
       "    </tr>\n",
       "    <tr>\n",
       "      <th>35950</th>\n",
       "      <td>smart</td>\n",
       "      <td>fortwo coupe</td>\n",
       "      <td>2016</td>\n",
       "      <td>0.9</td>\n",
       "      <td>3.0</td>\n",
       "      <td>Auto(AM6)</td>\n",
       "      <td>Rear-Wheel Drive</td>\n",
       "      <td>Two Seaters</td>\n",
       "      <td>Premium</td>\n",
       "      <td>9.155833</td>\n",
       "      <td>34</td>\n",
       "      <td>39</td>\n",
       "      <td>36</td>\n",
       "      <td>246.000000</td>\n",
       "      <td>1100</td>\n",
       "    </tr>\n",
       "    <tr>\n",
       "      <th>35951</th>\n",
       "      <td>smart</td>\n",
       "      <td>fortwo coupe</td>\n",
       "      <td>2016</td>\n",
       "      <td>0.9</td>\n",
       "      <td>3.0</td>\n",
       "      <td>Manual 5-spd</td>\n",
       "      <td>Rear-Wheel Drive</td>\n",
       "      <td>Two Seaters</td>\n",
       "      <td>Premium</td>\n",
       "      <td>9.417429</td>\n",
       "      <td>32</td>\n",
       "      <td>39</td>\n",
       "      <td>35</td>\n",
       "      <td>255.000000</td>\n",
       "      <td>1150</td>\n",
       "    </tr>\n",
       "  </tbody>\n",
       "</table>\n",
       "<p>35952 rows × 15 columns</p>\n",
       "</div>"
      ],
      "text/plain": [
       "                   Make                Model  Year  Engine Displacement  \\\n",
       "0            AM General    DJ Po Vehicle 2WD  1984                  2.5   \n",
       "1            AM General     FJ8c Post Office  1984                  4.2   \n",
       "2            AM General  Post Office DJ5 2WD  1985                  2.5   \n",
       "3            AM General  Post Office DJ8 2WD  1985                  4.2   \n",
       "4      ASC Incorporated                  GNX  1987                  3.8   \n",
       "...                 ...                  ...   ...                  ...   \n",
       "35947             smart         fortwo coupe  2013                  1.0   \n",
       "35948             smart         fortwo coupe  2014                  1.0   \n",
       "35949             smart         fortwo coupe  2015                  1.0   \n",
       "35950             smart         fortwo coupe  2016                  0.9   \n",
       "35951             smart         fortwo coupe  2016                  0.9   \n",
       "\n",
       "       Cylinders     Transmission        Drivetrain  \\\n",
       "0            4.0  Automatic 3-spd     2-Wheel Drive   \n",
       "1            6.0  Automatic 3-spd     2-Wheel Drive   \n",
       "2            4.0  Automatic 3-spd  Rear-Wheel Drive   \n",
       "3            6.0  Automatic 3-spd  Rear-Wheel Drive   \n",
       "4            6.0  Automatic 4-spd  Rear-Wheel Drive   \n",
       "...          ...              ...               ...   \n",
       "35947        3.0        Auto(AM5)  Rear-Wheel Drive   \n",
       "35948        3.0        Auto(AM5)  Rear-Wheel Drive   \n",
       "35949        3.0        Auto(AM5)  Rear-Wheel Drive   \n",
       "35950        3.0        Auto(AM6)  Rear-Wheel Drive   \n",
       "35951        3.0     Manual 5-spd  Rear-Wheel Drive   \n",
       "\n",
       "                     Vehicle Class Fuel Type  Fuel Barrels/Year  City MPG  \\\n",
       "0      Special Purpose Vehicle 2WD   Regular          19.388824        18   \n",
       "1      Special Purpose Vehicle 2WD   Regular          25.354615        13   \n",
       "2      Special Purpose Vehicle 2WD   Regular          20.600625        16   \n",
       "3      Special Purpose Vehicle 2WD   Regular          25.354615        13   \n",
       "4                     Midsize Cars   Premium          20.600625        14   \n",
       "...                            ...       ...                ...       ...   \n",
       "35947                  Two Seaters   Premium           9.155833        34   \n",
       "35948                  Two Seaters   Premium           9.155833        34   \n",
       "35949                  Two Seaters   Premium           9.155833        34   \n",
       "35950                  Two Seaters   Premium           9.155833        34   \n",
       "35951                  Two Seaters   Premium           9.417429        32   \n",
       "\n",
       "       Highway MPG  Combined MPG  CO2 Emission Grams/Mile  Fuel Cost/Year  \n",
       "0               17            17               522.764706            1950  \n",
       "1               13            13               683.615385            2550  \n",
       "2               17            16               555.437500            2100  \n",
       "3               13            13               683.615385            2550  \n",
       "4               21            16               555.437500            2550  \n",
       "...            ...           ...                      ...             ...  \n",
       "35947           38            36               244.000000            1100  \n",
       "35948           38            36               243.000000            1100  \n",
       "35949           38            36               244.000000            1100  \n",
       "35950           39            36               246.000000            1100  \n",
       "35951           39            35               255.000000            1150  \n",
       "\n",
       "[35952 rows x 15 columns]"
      ]
     },
     "execution_count": 46,
     "metadata": {},
     "output_type": "execute_result"
    }
   ],
   "source": [
    "# Import any libraries you may need & the data\n",
    "vehicles = pd.read_csv('vehicles.csv')\n",
    "vehicles"
   ]
  },
  {
   "cell_type": "markdown",
   "metadata": {},
   "source": [
    "Let's use the following variables for our analysis: Year, Cylinders, Fuel Barrels/Year, Combined MPG, and Fuel Cost/Year. We will use 'CO2 Emission Grams/Mile' as our outcome variable. \n",
    "\n",
    "Calculate the correlations between each of these variables and the outcome. Which variable do you think will be the most important in determining CO2 emissions? Which provides the least amount of helpful information for determining CO2 emissions? Add your responses as comments after your code."
   ]
  },
  {
   "cell_type": "code",
   "execution_count": 47,
   "metadata": {
    "scrolled": true
   },
   "outputs": [
    {
     "data": {
      "text/html": [
       "<style  type=\"text/css\" >\n",
       "    #T_376a3cec_7a98_11ea_8f82_78843c96b14arow0_col0 {\n",
       "            background-color:  #b40426;\n",
       "            color:  #f1f1f1;\n",
       "        }    #T_376a3cec_7a98_11ea_8f82_78843c96b14arow0_col1 {\n",
       "            background-color:  #cedaeb;\n",
       "            color:  #000000;\n",
       "        }    #T_376a3cec_7a98_11ea_8f82_78843c96b14arow0_col2 {\n",
       "            background-color:  #d3dbe7;\n",
       "            color:  #000000;\n",
       "        }    #T_376a3cec_7a98_11ea_8f82_78843c96b14arow0_col3 {\n",
       "            background-color:  #b3cdfb;\n",
       "            color:  #000000;\n",
       "        }    #T_376a3cec_7a98_11ea_8f82_78843c96b14arow0_col4 {\n",
       "            background-color:  #ead4c8;\n",
       "            color:  #000000;\n",
       "        }    #T_376a3cec_7a98_11ea_8f82_78843c96b14arow0_col5 {\n",
       "            background-color:  #f4c6af;\n",
       "            color:  #000000;\n",
       "        }    #T_376a3cec_7a98_11ea_8f82_78843c96b14arow0_col6 {\n",
       "            background-color:  #f0cdbb;\n",
       "            color:  #000000;\n",
       "        }    #T_376a3cec_7a98_11ea_8f82_78843c96b14arow0_col7 {\n",
       "            background-color:  #b5cdfa;\n",
       "            color:  #000000;\n",
       "        }    #T_376a3cec_7a98_11ea_8f82_78843c96b14arow0_col8 {\n",
       "            background-color:  #c5d6f2;\n",
       "            color:  #000000;\n",
       "        }    #T_376a3cec_7a98_11ea_8f82_78843c96b14arow1_col0 {\n",
       "            background-color:  #80a3fa;\n",
       "            color:  #000000;\n",
       "        }    #T_376a3cec_7a98_11ea_8f82_78843c96b14arow1_col1 {\n",
       "            background-color:  #b40426;\n",
       "            color:  #f1f1f1;\n",
       "        }    #T_376a3cec_7a98_11ea_8f82_78843c96b14arow1_col2 {\n",
       "            background-color:  #c83836;\n",
       "            color:  #f1f1f1;\n",
       "        }    #T_376a3cec_7a98_11ea_8f82_78843c96b14arow1_col3 {\n",
       "            background-color:  #d95847;\n",
       "            color:  #000000;\n",
       "        }    #T_376a3cec_7a98_11ea_8f82_78843c96b14arow1_col4 {\n",
       "            background-color:  #536edd;\n",
       "            color:  #000000;\n",
       "        }    #T_376a3cec_7a98_11ea_8f82_78843c96b14arow1_col5 {\n",
       "            background-color:  #5d7ce6;\n",
       "            color:  #000000;\n",
       "        }    #T_376a3cec_7a98_11ea_8f82_78843c96b14arow1_col6 {\n",
       "            background-color:  #5673e0;\n",
       "            color:  #000000;\n",
       "        }    #T_376a3cec_7a98_11ea_8f82_78843c96b14arow1_col7 {\n",
       "            background-color:  #d75445;\n",
       "            color:  #000000;\n",
       "        }    #T_376a3cec_7a98_11ea_8f82_78843c96b14arow1_col8 {\n",
       "            background-color:  #dd5f4b;\n",
       "            color:  #000000;\n",
       "        }    #T_376a3cec_7a98_11ea_8f82_78843c96b14arow2_col0 {\n",
       "            background-color:  #8caffe;\n",
       "            color:  #000000;\n",
       "        }    #T_376a3cec_7a98_11ea_8f82_78843c96b14arow2_col1 {\n",
       "            background-color:  #c83836;\n",
       "            color:  #f1f1f1;\n",
       "        }    #T_376a3cec_7a98_11ea_8f82_78843c96b14arow2_col2 {\n",
       "            background-color:  #b40426;\n",
       "            color:  #f1f1f1;\n",
       "        }    #T_376a3cec_7a98_11ea_8f82_78843c96b14arow2_col3 {\n",
       "            background-color:  #e0654f;\n",
       "            color:  #000000;\n",
       "        }    #T_376a3cec_7a98_11ea_8f82_78843c96b14arow2_col4 {\n",
       "            background-color:  #5977e3;\n",
       "            color:  #000000;\n",
       "        }    #T_376a3cec_7a98_11ea_8f82_78843c96b14arow2_col5 {\n",
       "            background-color:  #6788ee;\n",
       "            color:  #000000;\n",
       "        }    #T_376a3cec_7a98_11ea_8f82_78843c96b14arow2_col6 {\n",
       "            background-color:  #5f7fe8;\n",
       "            color:  #000000;\n",
       "        }    #T_376a3cec_7a98_11ea_8f82_78843c96b14arow2_col7 {\n",
       "            background-color:  #de614d;\n",
       "            color:  #000000;\n",
       "        }    #T_376a3cec_7a98_11ea_8f82_78843c96b14arow2_col8 {\n",
       "            background-color:  #dc5d4a;\n",
       "            color:  #000000;\n",
       "        }    #T_376a3cec_7a98_11ea_8f82_78843c96b14arow3_col0 {\n",
       "            background-color:  #3b4cc0;\n",
       "            color:  #f1f1f1;\n",
       "        }    #T_376a3cec_7a98_11ea_8f82_78843c96b14arow3_col1 {\n",
       "            background-color:  #dc5d4a;\n",
       "            color:  #000000;\n",
       "        }    #T_376a3cec_7a98_11ea_8f82_78843c96b14arow3_col2 {\n",
       "            background-color:  #e46e56;\n",
       "            color:  #000000;\n",
       "        }    #T_376a3cec_7a98_11ea_8f82_78843c96b14arow3_col3 {\n",
       "            background-color:  #b40426;\n",
       "            color:  #f1f1f1;\n",
       "        }    #T_376a3cec_7a98_11ea_8f82_78843c96b14arow3_col4 {\n",
       "            background-color:  #3d50c3;\n",
       "            color:  #f1f1f1;\n",
       "        }    #T_376a3cec_7a98_11ea_8f82_78843c96b14arow3_col5 {\n",
       "            background-color:  #3d50c3;\n",
       "            color:  #f1f1f1;\n",
       "        }    #T_376a3cec_7a98_11ea_8f82_78843c96b14arow3_col6 {\n",
       "            background-color:  #3d50c3;\n",
       "            color:  #f1f1f1;\n",
       "        }    #T_376a3cec_7a98_11ea_8f82_78843c96b14arow3_col7 {\n",
       "            background-color:  #b50927;\n",
       "            color:  #f1f1f1;\n",
       "        }    #T_376a3cec_7a98_11ea_8f82_78843c96b14arow3_col8 {\n",
       "            background-color:  #c43032;\n",
       "            color:  #f1f1f1;\n",
       "        }    #T_376a3cec_7a98_11ea_8f82_78843c96b14arow4_col0 {\n",
       "            background-color:  #a3c2fe;\n",
       "            color:  #000000;\n",
       "        }    #T_376a3cec_7a98_11ea_8f82_78843c96b14arow4_col1 {\n",
       "            background-color:  #3b4cc0;\n",
       "            color:  #f1f1f1;\n",
       "        }    #T_376a3cec_7a98_11ea_8f82_78843c96b14arow4_col2 {\n",
       "            background-color:  #3b4cc0;\n",
       "            color:  #f1f1f1;\n",
       "        }    #T_376a3cec_7a98_11ea_8f82_78843c96b14arow4_col3 {\n",
       "            background-color:  #3f53c6;\n",
       "            color:  #f1f1f1;\n",
       "        }    #T_376a3cec_7a98_11ea_8f82_78843c96b14arow4_col4 {\n",
       "            background-color:  #b40426;\n",
       "            color:  #f1f1f1;\n",
       "        }    #T_376a3cec_7a98_11ea_8f82_78843c96b14arow4_col5 {\n",
       "            background-color:  #c32e31;\n",
       "            color:  #f1f1f1;\n",
       "        }    #T_376a3cec_7a98_11ea_8f82_78843c96b14arow4_col6 {\n",
       "            background-color:  #b50927;\n",
       "            color:  #f1f1f1;\n",
       "        }    #T_376a3cec_7a98_11ea_8f82_78843c96b14arow4_col7 {\n",
       "            background-color:  #3f53c6;\n",
       "            color:  #f1f1f1;\n",
       "        }    #T_376a3cec_7a98_11ea_8f82_78843c96b14arow4_col8 {\n",
       "            background-color:  #3d50c3;\n",
       "            color:  #f1f1f1;\n",
       "        }    #T_376a3cec_7a98_11ea_8f82_78843c96b14arow5_col0 {\n",
       "            background-color:  #c0d4f5;\n",
       "            color:  #000000;\n",
       "        }    #T_376a3cec_7a98_11ea_8f82_78843c96b14arow5_col1 {\n",
       "            background-color:  #3f53c6;\n",
       "            color:  #f1f1f1;\n",
       "        }    #T_376a3cec_7a98_11ea_8f82_78843c96b14arow5_col2 {\n",
       "            background-color:  #445acc;\n",
       "            color:  #f1f1f1;\n",
       "        }    #T_376a3cec_7a98_11ea_8f82_78843c96b14arow5_col3 {\n",
       "            background-color:  #3b4cc0;\n",
       "            color:  #f1f1f1;\n",
       "        }    #T_376a3cec_7a98_11ea_8f82_78843c96b14arow5_col4 {\n",
       "            background-color:  #c32e31;\n",
       "            color:  #f1f1f1;\n",
       "        }    #T_376a3cec_7a98_11ea_8f82_78843c96b14arow5_col5 {\n",
       "            background-color:  #b40426;\n",
       "            color:  #f1f1f1;\n",
       "        }    #T_376a3cec_7a98_11ea_8f82_78843c96b14arow5_col6 {\n",
       "            background-color:  #ba162b;\n",
       "            color:  #f1f1f1;\n",
       "        }    #T_376a3cec_7a98_11ea_8f82_78843c96b14arow5_col7 {\n",
       "            background-color:  #3b4cc0;\n",
       "            color:  #f1f1f1;\n",
       "        }    #T_376a3cec_7a98_11ea_8f82_78843c96b14arow5_col8 {\n",
       "            background-color:  #3e51c5;\n",
       "            color:  #f1f1f1;\n",
       "        }    #T_376a3cec_7a98_11ea_8f82_78843c96b14arow6_col0 {\n",
       "            background-color:  #afcafc;\n",
       "            color:  #000000;\n",
       "        }    #T_376a3cec_7a98_11ea_8f82_78843c96b14arow6_col1 {\n",
       "            background-color:  #3b4cc0;\n",
       "            color:  #f1f1f1;\n",
       "        }    #T_376a3cec_7a98_11ea_8f82_78843c96b14arow6_col2 {\n",
       "            background-color:  #3b4cc0;\n",
       "            color:  #f1f1f1;\n",
       "        }    #T_376a3cec_7a98_11ea_8f82_78843c96b14arow6_col3 {\n",
       "            background-color:  #3b4cc0;\n",
       "            color:  #f1f1f1;\n",
       "        }    #T_376a3cec_7a98_11ea_8f82_78843c96b14arow6_col4 {\n",
       "            background-color:  #b50927;\n",
       "            color:  #f1f1f1;\n",
       "        }    #T_376a3cec_7a98_11ea_8f82_78843c96b14arow6_col5 {\n",
       "            background-color:  #ba162b;\n",
       "            color:  #f1f1f1;\n",
       "        }    #T_376a3cec_7a98_11ea_8f82_78843c96b14arow6_col6 {\n",
       "            background-color:  #b40426;\n",
       "            color:  #f1f1f1;\n",
       "        }    #T_376a3cec_7a98_11ea_8f82_78843c96b14arow6_col7 {\n",
       "            background-color:  #3b4cc0;\n",
       "            color:  #f1f1f1;\n",
       "        }    #T_376a3cec_7a98_11ea_8f82_78843c96b14arow6_col8 {\n",
       "            background-color:  #3b4cc0;\n",
       "            color:  #f1f1f1;\n",
       "        }    #T_376a3cec_7a98_11ea_8f82_78843c96b14arow7_col0 {\n",
       "            background-color:  #3b4cc0;\n",
       "            color:  #f1f1f1;\n",
       "        }    #T_376a3cec_7a98_11ea_8f82_78843c96b14arow7_col1 {\n",
       "            background-color:  #d95847;\n",
       "            color:  #000000;\n",
       "        }    #T_376a3cec_7a98_11ea_8f82_78843c96b14arow7_col2 {\n",
       "            background-color:  #e36b54;\n",
       "            color:  #000000;\n",
       "        }    #T_376a3cec_7a98_11ea_8f82_78843c96b14arow7_col3 {\n",
       "            background-color:  #b50927;\n",
       "            color:  #f1f1f1;\n",
       "        }    #T_376a3cec_7a98_11ea_8f82_78843c96b14arow7_col4 {\n",
       "            background-color:  #3b4cc0;\n",
       "            color:  #f1f1f1;\n",
       "        }    #T_376a3cec_7a98_11ea_8f82_78843c96b14arow7_col5 {\n",
       "            background-color:  #3b4cc0;\n",
       "            color:  #f1f1f1;\n",
       "        }    #T_376a3cec_7a98_11ea_8f82_78843c96b14arow7_col6 {\n",
       "            background-color:  #3b4cc0;\n",
       "            color:  #f1f1f1;\n",
       "        }    #T_376a3cec_7a98_11ea_8f82_78843c96b14arow7_col7 {\n",
       "            background-color:  #b40426;\n",
       "            color:  #f1f1f1;\n",
       "        }    #T_376a3cec_7a98_11ea_8f82_78843c96b14arow7_col8 {\n",
       "            background-color:  #c12b30;\n",
       "            color:  #f1f1f1;\n",
       "        }    #T_376a3cec_7a98_11ea_8f82_78843c96b14arow8_col0 {\n",
       "            background-color:  #5b7ae5;\n",
       "            color:  #000000;\n",
       "        }    #T_376a3cec_7a98_11ea_8f82_78843c96b14arow8_col1 {\n",
       "            background-color:  #df634e;\n",
       "            color:  #000000;\n",
       "        }    #T_376a3cec_7a98_11ea_8f82_78843c96b14arow8_col2 {\n",
       "            background-color:  #df634e;\n",
       "            color:  #000000;\n",
       "        }    #T_376a3cec_7a98_11ea_8f82_78843c96b14arow8_col3 {\n",
       "            background-color:  #c43032;\n",
       "            color:  #f1f1f1;\n",
       "        }    #T_376a3cec_7a98_11ea_8f82_78843c96b14arow8_col4 {\n",
       "            background-color:  #3f53c6;\n",
       "            color:  #f1f1f1;\n",
       "        }    #T_376a3cec_7a98_11ea_8f82_78843c96b14arow8_col5 {\n",
       "            background-color:  #455cce;\n",
       "            color:  #f1f1f1;\n",
       "        }    #T_376a3cec_7a98_11ea_8f82_78843c96b14arow8_col6 {\n",
       "            background-color:  #4257c9;\n",
       "            color:  #f1f1f1;\n",
       "        }    #T_376a3cec_7a98_11ea_8f82_78843c96b14arow8_col7 {\n",
       "            background-color:  #c12b30;\n",
       "            color:  #f1f1f1;\n",
       "        }    #T_376a3cec_7a98_11ea_8f82_78843c96b14arow8_col8 {\n",
       "            background-color:  #b40426;\n",
       "            color:  #f1f1f1;\n",
       "        }</style><table id=\"T_376a3cec_7a98_11ea_8f82_78843c96b14a\" ><thead>    <tr>        <th class=\"blank level0\" ></th>        <th class=\"col_heading level0 col0\" >Year</th>        <th class=\"col_heading level0 col1\" >Engine Displacement</th>        <th class=\"col_heading level0 col2\" >Cylinders</th>        <th class=\"col_heading level0 col3\" >Fuel Barrels/Year</th>        <th class=\"col_heading level0 col4\" >City MPG</th>        <th class=\"col_heading level0 col5\" >Highway MPG</th>        <th class=\"col_heading level0 col6\" >Combined MPG</th>        <th class=\"col_heading level0 col7\" >CO2 Emission Grams/Mile</th>        <th class=\"col_heading level0 col8\" >Fuel Cost/Year</th>    </tr></thead><tbody>\n",
       "                <tr>\n",
       "                        <th id=\"T_376a3cec_7a98_11ea_8f82_78843c96b14alevel0_row0\" class=\"row_heading level0 row0\" >Year</th>\n",
       "                        <td id=\"T_376a3cec_7a98_11ea_8f82_78843c96b14arow0_col0\" class=\"data row0 col0\" >1.000000</td>\n",
       "                        <td id=\"T_376a3cec_7a98_11ea_8f82_78843c96b14arow0_col1\" class=\"data row0 col1\" >0.037876</td>\n",
       "                        <td id=\"T_376a3cec_7a98_11ea_8f82_78843c96b14arow0_col2\" class=\"data row0 col2\" >0.082469</td>\n",
       "                        <td id=\"T_376a3cec_7a98_11ea_8f82_78843c96b14arow0_col3\" class=\"data row0 col3\" >-0.221084</td>\n",
       "                        <td id=\"T_376a3cec_7a98_11ea_8f82_78843c96b14arow0_col4\" class=\"data row0 col4\" >0.161818</td>\n",
       "                        <td id=\"T_376a3cec_7a98_11ea_8f82_78843c96b14arow0_col5\" class=\"data row0 col5\" >0.267259</td>\n",
       "                        <td id=\"T_376a3cec_7a98_11ea_8f82_78843c96b14arow0_col6\" class=\"data row0 col6\" >0.204751</td>\n",
       "                        <td id=\"T_376a3cec_7a98_11ea_8f82_78843c96b14arow0_col7\" class=\"data row0 col7\" >-0.222300</td>\n",
       "                        <td id=\"T_376a3cec_7a98_11ea_8f82_78843c96b14arow0_col8\" class=\"data row0 col8\" >-0.091913</td>\n",
       "            </tr>\n",
       "            <tr>\n",
       "                        <th id=\"T_376a3cec_7a98_11ea_8f82_78843c96b14alevel0_row1\" class=\"row_heading level0 row1\" >Engine Displacement</th>\n",
       "                        <td id=\"T_376a3cec_7a98_11ea_8f82_78843c96b14arow1_col0\" class=\"data row1 col0\" >0.037876</td>\n",
       "                        <td id=\"T_376a3cec_7a98_11ea_8f82_78843c96b14arow1_col1\" class=\"data row1 col1\" >1.000000</td>\n",
       "                        <td id=\"T_376a3cec_7a98_11ea_8f82_78843c96b14arow1_col2\" class=\"data row1 col2\" >0.901858</td>\n",
       "                        <td id=\"T_376a3cec_7a98_11ea_8f82_78843c96b14arow1_col3\" class=\"data row1 col3\" >0.789752</td>\n",
       "                        <td id=\"T_376a3cec_7a98_11ea_8f82_78843c96b14arow1_col4\" class=\"data row1 col4\" >-0.740317</td>\n",
       "                        <td id=\"T_376a3cec_7a98_11ea_8f82_78843c96b14arow1_col5\" class=\"data row1 col5\" >-0.715039</td>\n",
       "                        <td id=\"T_376a3cec_7a98_11ea_8f82_78843c96b14arow1_col6\" class=\"data row1 col6\" >-0.746782</td>\n",
       "                        <td id=\"T_376a3cec_7a98_11ea_8f82_78843c96b14arow1_col7\" class=\"data row1 col7\" >0.803520</td>\n",
       "                        <td id=\"T_376a3cec_7a98_11ea_8f82_78843c96b14arow1_col8\" class=\"data row1 col8\" >0.769678</td>\n",
       "            </tr>\n",
       "            <tr>\n",
       "                        <th id=\"T_376a3cec_7a98_11ea_8f82_78843c96b14alevel0_row2\" class=\"row_heading level0 row2\" >Cylinders</th>\n",
       "                        <td id=\"T_376a3cec_7a98_11ea_8f82_78843c96b14arow2_col0\" class=\"data row2 col0\" >0.082469</td>\n",
       "                        <td id=\"T_376a3cec_7a98_11ea_8f82_78843c96b14arow2_col1\" class=\"data row2 col1\" >0.901858</td>\n",
       "                        <td id=\"T_376a3cec_7a98_11ea_8f82_78843c96b14arow2_col2\" class=\"data row2 col2\" >1.000000</td>\n",
       "                        <td id=\"T_376a3cec_7a98_11ea_8f82_78843c96b14arow2_col3\" class=\"data row2 col3\" >0.739517</td>\n",
       "                        <td id=\"T_376a3cec_7a98_11ea_8f82_78843c96b14arow2_col4\" class=\"data row2 col4\" >-0.703866</td>\n",
       "                        <td id=\"T_376a3cec_7a98_11ea_8f82_78843c96b14arow2_col5\" class=\"data row2 col5\" >-0.650287</td>\n",
       "                        <td id=\"T_376a3cec_7a98_11ea_8f82_78843c96b14arow2_col6\" class=\"data row2 col6\" >-0.698648</td>\n",
       "                        <td id=\"T_376a3cec_7a98_11ea_8f82_78843c96b14arow2_col7\" class=\"data row2 col7\" >0.752393</td>\n",
       "                        <td id=\"T_376a3cec_7a98_11ea_8f82_78843c96b14arow2_col8\" class=\"data row2 col8\" >0.778153</td>\n",
       "            </tr>\n",
       "            <tr>\n",
       "                        <th id=\"T_376a3cec_7a98_11ea_8f82_78843c96b14alevel0_row3\" class=\"row_heading level0 row3\" >Fuel Barrels/Year</th>\n",
       "                        <td id=\"T_376a3cec_7a98_11ea_8f82_78843c96b14arow3_col0\" class=\"data row3 col0\" >-0.221084</td>\n",
       "                        <td id=\"T_376a3cec_7a98_11ea_8f82_78843c96b14arow3_col1\" class=\"data row3 col1\" >0.789752</td>\n",
       "                        <td id=\"T_376a3cec_7a98_11ea_8f82_78843c96b14arow3_col2\" class=\"data row3 col2\" >0.739517</td>\n",
       "                        <td id=\"T_376a3cec_7a98_11ea_8f82_78843c96b14arow3_col3\" class=\"data row3 col3\" >1.000000</td>\n",
       "                        <td id=\"T_376a3cec_7a98_11ea_8f82_78843c96b14arow3_col4\" class=\"data row3 col4\" >-0.877752</td>\n",
       "                        <td id=\"T_376a3cec_7a98_11ea_8f82_78843c96b14arow3_col5\" class=\"data row3 col5\" >-0.909664</td>\n",
       "                        <td id=\"T_376a3cec_7a98_11ea_8f82_78843c96b14arow3_col6\" class=\"data row3 col6\" >-0.909743</td>\n",
       "                        <td id=\"T_376a3cec_7a98_11ea_8f82_78843c96b14arow3_col7\" class=\"data row3 col7\" >0.986189</td>\n",
       "                        <td id=\"T_376a3cec_7a98_11ea_8f82_78843c96b14arow3_col8\" class=\"data row3 col8\" >0.916208</td>\n",
       "            </tr>\n",
       "            <tr>\n",
       "                        <th id=\"T_376a3cec_7a98_11ea_8f82_78843c96b14alevel0_row4\" class=\"row_heading level0 row4\" >City MPG</th>\n",
       "                        <td id=\"T_376a3cec_7a98_11ea_8f82_78843c96b14arow4_col0\" class=\"data row4 col0\" >0.161818</td>\n",
       "                        <td id=\"T_376a3cec_7a98_11ea_8f82_78843c96b14arow4_col1\" class=\"data row4 col1\" >-0.740317</td>\n",
       "                        <td id=\"T_376a3cec_7a98_11ea_8f82_78843c96b14arow4_col2\" class=\"data row4 col2\" >-0.703866</td>\n",
       "                        <td id=\"T_376a3cec_7a98_11ea_8f82_78843c96b14arow4_col3\" class=\"data row4 col3\" >-0.877752</td>\n",
       "                        <td id=\"T_376a3cec_7a98_11ea_8f82_78843c96b14arow4_col4\" class=\"data row4 col4\" >1.000000</td>\n",
       "                        <td id=\"T_376a3cec_7a98_11ea_8f82_78843c96b14arow4_col5\" class=\"data row4 col5\" >0.923856</td>\n",
       "                        <td id=\"T_376a3cec_7a98_11ea_8f82_78843c96b14arow4_col6\" class=\"data row4 col6\" >0.985457</td>\n",
       "                        <td id=\"T_376a3cec_7a98_11ea_8f82_78843c96b14arow4_col7\" class=\"data row4 col7\" >-0.894139</td>\n",
       "                        <td id=\"T_376a3cec_7a98_11ea_8f82_78843c96b14arow4_col8\" class=\"data row4 col8\" >-0.858645</td>\n",
       "            </tr>\n",
       "            <tr>\n",
       "                        <th id=\"T_376a3cec_7a98_11ea_8f82_78843c96b14alevel0_row5\" class=\"row_heading level0 row5\" >Highway MPG</th>\n",
       "                        <td id=\"T_376a3cec_7a98_11ea_8f82_78843c96b14arow5_col0\" class=\"data row5 col0\" >0.267259</td>\n",
       "                        <td id=\"T_376a3cec_7a98_11ea_8f82_78843c96b14arow5_col1\" class=\"data row5 col1\" >-0.715039</td>\n",
       "                        <td id=\"T_376a3cec_7a98_11ea_8f82_78843c96b14arow5_col2\" class=\"data row5 col2\" >-0.650287</td>\n",
       "                        <td id=\"T_376a3cec_7a98_11ea_8f82_78843c96b14arow5_col3\" class=\"data row5 col3\" >-0.909664</td>\n",
       "                        <td id=\"T_376a3cec_7a98_11ea_8f82_78843c96b14arow5_col4\" class=\"data row5 col4\" >0.923856</td>\n",
       "                        <td id=\"T_376a3cec_7a98_11ea_8f82_78843c96b14arow5_col5\" class=\"data row5 col5\" >1.000000</td>\n",
       "                        <td id=\"T_376a3cec_7a98_11ea_8f82_78843c96b14arow5_col6\" class=\"data row5 col6\" >0.969392</td>\n",
       "                        <td id=\"T_376a3cec_7a98_11ea_8f82_78843c96b14arow5_col7\" class=\"data row5 col7\" >-0.926405</td>\n",
       "                        <td id=\"T_376a3cec_7a98_11ea_8f82_78843c96b14arow5_col8\" class=\"data row5 col8\" >-0.851404</td>\n",
       "            </tr>\n",
       "            <tr>\n",
       "                        <th id=\"T_376a3cec_7a98_11ea_8f82_78843c96b14alevel0_row6\" class=\"row_heading level0 row6\" >Combined MPG</th>\n",
       "                        <td id=\"T_376a3cec_7a98_11ea_8f82_78843c96b14arow6_col0\" class=\"data row6 col0\" >0.204751</td>\n",
       "                        <td id=\"T_376a3cec_7a98_11ea_8f82_78843c96b14arow6_col1\" class=\"data row6 col1\" >-0.746782</td>\n",
       "                        <td id=\"T_376a3cec_7a98_11ea_8f82_78843c96b14arow6_col2\" class=\"data row6 col2\" >-0.698648</td>\n",
       "                        <td id=\"T_376a3cec_7a98_11ea_8f82_78843c96b14arow6_col3\" class=\"data row6 col3\" >-0.909743</td>\n",
       "                        <td id=\"T_376a3cec_7a98_11ea_8f82_78843c96b14arow6_col4\" class=\"data row6 col4\" >0.985457</td>\n",
       "                        <td id=\"T_376a3cec_7a98_11ea_8f82_78843c96b14arow6_col5\" class=\"data row6 col5\" >0.969392</td>\n",
       "                        <td id=\"T_376a3cec_7a98_11ea_8f82_78843c96b14arow6_col6\" class=\"data row6 col6\" >1.000000</td>\n",
       "                        <td id=\"T_376a3cec_7a98_11ea_8f82_78843c96b14arow6_col7\" class=\"data row6 col7\" >-0.926229</td>\n",
       "                        <td id=\"T_376a3cec_7a98_11ea_8f82_78843c96b14arow6_col8\" class=\"data row6 col8\" >-0.875185</td>\n",
       "            </tr>\n",
       "            <tr>\n",
       "                        <th id=\"T_376a3cec_7a98_11ea_8f82_78843c96b14alevel0_row7\" class=\"row_heading level0 row7\" >CO2 Emission Grams/Mile</th>\n",
       "                        <td id=\"T_376a3cec_7a98_11ea_8f82_78843c96b14arow7_col0\" class=\"data row7 col0\" >-0.222300</td>\n",
       "                        <td id=\"T_376a3cec_7a98_11ea_8f82_78843c96b14arow7_col1\" class=\"data row7 col1\" >0.803520</td>\n",
       "                        <td id=\"T_376a3cec_7a98_11ea_8f82_78843c96b14arow7_col2\" class=\"data row7 col2\" >0.752393</td>\n",
       "                        <td id=\"T_376a3cec_7a98_11ea_8f82_78843c96b14arow7_col3\" class=\"data row7 col3\" >0.986189</td>\n",
       "                        <td id=\"T_376a3cec_7a98_11ea_8f82_78843c96b14arow7_col4\" class=\"data row7 col4\" >-0.894139</td>\n",
       "                        <td id=\"T_376a3cec_7a98_11ea_8f82_78843c96b14arow7_col5\" class=\"data row7 col5\" >-0.926405</td>\n",
       "                        <td id=\"T_376a3cec_7a98_11ea_8f82_78843c96b14arow7_col6\" class=\"data row7 col6\" >-0.926229</td>\n",
       "                        <td id=\"T_376a3cec_7a98_11ea_8f82_78843c96b14arow7_col7\" class=\"data row7 col7\" >1.000000</td>\n",
       "                        <td id=\"T_376a3cec_7a98_11ea_8f82_78843c96b14arow7_col8\" class=\"data row7 col8\" >0.930865</td>\n",
       "            </tr>\n",
       "            <tr>\n",
       "                        <th id=\"T_376a3cec_7a98_11ea_8f82_78843c96b14alevel0_row8\" class=\"row_heading level0 row8\" >Fuel Cost/Year</th>\n",
       "                        <td id=\"T_376a3cec_7a98_11ea_8f82_78843c96b14arow8_col0\" class=\"data row8 col0\" >-0.091913</td>\n",
       "                        <td id=\"T_376a3cec_7a98_11ea_8f82_78843c96b14arow8_col1\" class=\"data row8 col1\" >0.769678</td>\n",
       "                        <td id=\"T_376a3cec_7a98_11ea_8f82_78843c96b14arow8_col2\" class=\"data row8 col2\" >0.778153</td>\n",
       "                        <td id=\"T_376a3cec_7a98_11ea_8f82_78843c96b14arow8_col3\" class=\"data row8 col3\" >0.916208</td>\n",
       "                        <td id=\"T_376a3cec_7a98_11ea_8f82_78843c96b14arow8_col4\" class=\"data row8 col4\" >-0.858645</td>\n",
       "                        <td id=\"T_376a3cec_7a98_11ea_8f82_78843c96b14arow8_col5\" class=\"data row8 col5\" >-0.851404</td>\n",
       "                        <td id=\"T_376a3cec_7a98_11ea_8f82_78843c96b14arow8_col6\" class=\"data row8 col6\" >-0.875185</td>\n",
       "                        <td id=\"T_376a3cec_7a98_11ea_8f82_78843c96b14arow8_col7\" class=\"data row8 col7\" >0.930865</td>\n",
       "                        <td id=\"T_376a3cec_7a98_11ea_8f82_78843c96b14arow8_col8\" class=\"data row8 col8\" >1.000000</td>\n",
       "            </tr>\n",
       "    </tbody></table>"
      ],
      "text/plain": [
       "<pandas.io.formats.style.Styler at 0xc498648>"
      ]
     },
     "execution_count": 47,
     "metadata": {},
     "output_type": "execute_result"
    }
   ],
   "source": [
    "# Your response here. \n",
    "vehicles.corr().style.background_gradient(cmap='coolwarm')"
   ]
  },
  {
   "cell_type": "code",
   "execution_count": 48,
   "metadata": {},
   "outputs": [
    {
     "data": {
      "text/plain": [
       "'\\nAo analisar a correlação, podemos dizer que existem\\n4 variáveis mais importantes na ordem decrescente de\\nimportância : Fuel Barrels/Year, Fuel Cost/Year, \\nEngine Displacement e Cylinders.\\n'"
      ]
     },
     "execution_count": 48,
     "metadata": {},
     "output_type": "execute_result"
    }
   ],
   "source": [
    "\"\"\"\n",
    "Ao analisar a correlação, podemos dizer que existem\n",
    "4 variáveis mais importantes na ordem decrescente de\n",
    "importância : Fuel Barrels/Year, Fuel Cost/Year, \n",
    "Engine Displacement e Cylinders.\n",
    "\"\"\""
   ]
  },
  {
   "cell_type": "markdown",
   "metadata": {},
   "source": [
    "Build a regression model for this data. What type of regression are you using? Add your responses as comments after your code."
   ]
  },
  {
   "cell_type": "code",
   "execution_count": 62,
   "metadata": {
    "scrolled": false
   },
   "outputs": [
    {
     "data": {
      "text/plain": [
       "<matplotlib.axes._subplots.AxesSubplot at 0xe733588>"
      ]
     },
     "execution_count": 62,
     "metadata": {},
     "output_type": "execute_result"
    },
    {
     "data": {
      "image/png": "[encoded data removed]",
      "text/plain": [
       "<Figure size 432x288 with 1 Axes>"
      ]
     },
     "metadata": {
      "needs_background": "light"
     },
     "output_type": "display_data"
    }
   ],
   "source": [
    "# Your response here. \n",
    "sns.regplot(vehicles['Fuel Barrels/Year'], vehicles['CO2 Emission Grams/Mile'])"
   ]
  },
  {
   "cell_type": "code",
   "execution_count": 52,
   "metadata": {},
   "outputs": [
    {
     "data": {
      "text/plain": [
       "'\\nFoi usado o método de regressão linear e podemos ver que \\napesar de ter outliers, há uma grande concentração bem \\npróximos a linha de regressão.\\n'"
      ]
     },
     "execution_count": 52,
     "metadata": {},
     "output_type": "execute_result"
    }
   ],
   "source": [
    "\"\"\"\n",
    "Foi usado o método de regressão linear e podemos ver que \n",
    "apesar de ter outliers, há uma grande concentração bem \n",
    "próximos a linha de regressão.\n",
    "\"\"\""
   ]
  },
  {
   "cell_type": "markdown",
   "metadata": {},
   "source": [
    "Print your regression summary, and interpret the results. What are the most important varibles in your model and why? What can conclusions can you draw from your model and how confident in these conclusions are you? Add your responses as comments after your code."
   ]
  },
  {
   "cell_type": "code",
   "execution_count": 63,
   "metadata": {
    "scrolled": true
   },
   "outputs": [
    {
     "name": "stdout",
     "output_type": "stream",
     "text": [
      "The slope is:  26.283625397471663\n",
      "The intercept is:  12.486520830732559\n"
     ]
    }
   ],
   "source": [
    "# Your response here. \n",
    "model = LinearRegression()\n",
    "model.fit(vehicles[['Fuel Barrels/Year']], vehicles['CO2 Emission Grams/Mile'])\n",
    "print ('The slope is: ' , str(model.coef_[0]))\n",
    "print ('The intercept is: ' , str(model.intercept_))"
   ]
  },
  {
   "cell_type": "code",
   "execution_count": 64,
   "metadata": {},
   "outputs": [
    {
     "data": {
      "text/plain": [
       "'\\nAo analisar o slope, podemos ver que para cada \\nde barril de combustível queimado, a quantidade de \\nemissão de CO2 aumenta em 26 gramas.\\n'"
      ]
     },
     "execution_count": 64,
     "metadata": {},
     "output_type": "execute_result"
    }
   ],
   "source": [
    "\"\"\"\n",
    "Ao analisar o slope, podemos ver que para cada \n",
    "de barril de combustível queimado, a quantidade de \n",
    "emissão de CO2 aumenta em 26 gramas.\n",
    "\"\"\""
   ]
  },
  {
   "cell_type": "markdown",
   "metadata": {},
   "source": [
    "## Bonus Challenge: Error Analysis"
   ]
  },
  {
   "cell_type": "markdown",
   "metadata": {},
   "source": [
    "I am suspicious about the last few parties I have thrown: it seems that the more people I invite the more people are unable to attend. To know if my hunch is supported by data, I have decided to do an analysis. I have collected my data in the table below, where X is the number of people I invited, and Y is the number of people who attended. \n",
    "\n",
    "|  X |  Y |\n",
    "|----|----|\n",
    "| 1  |  1 |\n",
    "| 3  |  2 |\n",
    "| 4  |  4 |\n",
    "| 6  |  4 |\n",
    "| 8  |  5 |\n",
    "| 9  |  7 |\n",
    "| 11 |  8 |\n",
    "| 14 |  13 |"
   ]
  },
  {
   "cell_type": "markdown",
   "metadata": {},
   "source": [
    "We want to know if the relationship modeled by the two random variables is linear or not, and therefore if it is appropriate to model it with a linear regression. \n",
    "First, build a dataframe with the data. "
   ]
  },
  {
   "cell_type": "code",
   "execution_count": 75,
   "metadata": {},
   "outputs": [
    {
     "data": {
      "text/html": [
       "<div>\n",
       "<style scoped>\n",
       "    .dataframe tbody tr th:only-of-type {\n",
       "        vertical-align: middle;\n",
       "    }\n",
       "\n",
       "    .dataframe tbody tr th {\n",
       "        vertical-align: top;\n",
       "    }\n",
       "\n",
       "    .dataframe thead th {\n",
       "        text-align: right;\n",
       "    }\n",
       "</style>\n",
       "<table border=\"1\" class=\"dataframe\">\n",
       "  <thead>\n",
       "    <tr style=\"text-align: right;\">\n",
       "      <th></th>\n",
       "      <th>Convidados</th>\n",
       "      <th>Compareceu</th>\n",
       "    </tr>\n",
       "  </thead>\n",
       "  <tbody>\n",
       "    <tr>\n",
       "      <th>0</th>\n",
       "      <td>1</td>\n",
       "      <td>1</td>\n",
       "    </tr>\n",
       "    <tr>\n",
       "      <th>1</th>\n",
       "      <td>3</td>\n",
       "      <td>2</td>\n",
       "    </tr>\n",
       "    <tr>\n",
       "      <th>2</th>\n",
       "      <td>4</td>\n",
       "      <td>4</td>\n",
       "    </tr>\n",
       "    <tr>\n",
       "      <th>3</th>\n",
       "      <td>6</td>\n",
       "      <td>4</td>\n",
       "    </tr>\n",
       "    <tr>\n",
       "      <th>4</th>\n",
       "      <td>8</td>\n",
       "      <td>5</td>\n",
       "    </tr>\n",
       "    <tr>\n",
       "      <th>5</th>\n",
       "      <td>9</td>\n",
       "      <td>7</td>\n",
       "    </tr>\n",
       "    <tr>\n",
       "      <th>6</th>\n",
       "      <td>11</td>\n",
       "      <td>8</td>\n",
       "    </tr>\n",
       "    <tr>\n",
       "      <th>7</th>\n",
       "      <td>14</td>\n",
       "      <td>13</td>\n",
       "    </tr>\n",
       "  </tbody>\n",
       "</table>\n",
       "</div>"
      ],
      "text/plain": [
       "   Convidados  Compareceu\n",
       "0           1           1\n",
       "1           3           2\n",
       "2           4           4\n",
       "3           6           4\n",
       "4           8           5\n",
       "5           9           7\n",
       "6          11           8\n",
       "7          14          13"
      ]
     },
     "execution_count": 75,
     "metadata": {},
     "output_type": "execute_result"
    }
   ],
   "source": [
    "# Your code here. \n",
    "people = pd.DataFrame({'Convidados': [1, 3, 4, 6, 8, 9, 11, 14],\n",
    "                       'Compareceu': [1, 2, 4, 4, 5, 7, 8, 13]})\n",
    "people"
   ]
  },
  {
   "cell_type": "markdown",
   "metadata": {},
   "source": [
    "Draw a dispersion diagram (scatter plot) for the data, and fit a regression line."
   ]
  },
  {
   "cell_type": "code",
   "execution_count": 76,
   "metadata": {},
   "outputs": [
    {
     "data": {
      "text/plain": [
       "<matplotlib.collections.PathCollection at 0xeeda348>"
      ]
     },
     "execution_count": 76,
     "metadata": {},
     "output_type": "execute_result"
    },
    {
     "data": {
      "image/png": "[encoded data removed]",
      "text/plain": [
       "<Figure size 432x288 with 1 Axes>"
      ]
     },
     "metadata": {
      "needs_background": "light"
     },
     "output_type": "display_data"
    }
   ],
   "source": [
    "# Your code here.\n",
    "plt.scatter(people['Convidados'], people['Compareceu'])"
   ]
  },
  {
   "cell_type": "markdown",
   "metadata": {},
   "source": [
    "What do you see? What does this plot tell you about the likely relationship between the variables? Print the results from your regression."
   ]
  },
  {
   "cell_type": "code",
   "execution_count": 77,
   "metadata": {
    "scrolled": false
   },
   "outputs": [
    {
     "data": {
      "text/plain": [
       "<matplotlib.axes._subplots.AxesSubplot at 0xf38c588>"
      ]
     },
     "execution_count": 77,
     "metadata": {},
     "output_type": "execute_result"
    },
    {
     "data": {
      "image/png": "[encoded data removed]",
      "text/plain": [
       "<Figure size 432x288 with 1 Axes>"
      ]
     },
     "metadata": {
      "needs_background": "light"
     },
     "output_type": "display_data"
    }
   ],
   "source": [
    "# Your response here. \n",
    "sns.regplot(people['Convidados'], people['Compareceu'])"
   ]
  },
  {
   "cell_type": "code",
   "execution_count": 79,
   "metadata": {},
   "outputs": [
    {
     "data": {
      "text/plain": [
       "'\\nPodemos ver que há uma relação entre as duas variáveis,\\npois quanto maior a quantidade de convidados, mais \\npessoas compareceram na festa.\\n'"
      ]
     },
     "execution_count": 79,
     "metadata": {},
     "output_type": "execute_result"
    }
   ],
   "source": [
    "\"\"\"\n",
    "Podemos ver que há uma relação entre as duas variáveis,\n",
    "pois quanto maior a quantidade de convidados, mais \n",
    "pessoas compareceram na festa.\n",
    "\"\"\""
   ]
  },
  {
   "cell_type": "markdown",
   "metadata": {},
   "source": [
    "Do you see any problematic points, or outliers, in your data? Remove these points and recalculate your regression. Print the new dispersion diagram with your new model and the results of your model. "
   ]
  },
  {
   "cell_type": "code",
   "execution_count": 89,
   "metadata": {
    "scrolled": true
   },
   "outputs": [
    {
     "data": {
      "text/plain": [
       "LinearRegression(copy_X=True, fit_intercept=True, n_jobs=None, normalize=False)"
      ]
     },
     "execution_count": 89,
     "metadata": {},
     "output_type": "execute_result"
    }
   ],
   "source": [
    "# Your response here. \n",
    "X = people[['Convidados']]\n",
    "y = people['Compareceu']\n",
    "model = LinearRegression()\n",
    "model.fit(X, y)"
   ]
  },
  {
   "cell_type": "code",
   "execution_count": 93,
   "metadata": {},
   "outputs": [],
   "source": [
    "from sklearn.preprocessing import StandardScaler"
   ]
  },
  {
   "cell_type": "code",
   "execution_count": 98,
   "metadata": {},
   "outputs": [],
   "source": [
    "X_std = (X - X.mean())/X.std()\n",
    "scaler = StandardScaler()\n",
    "scaler.fit(X)\n",
    "X_std = scaler.transform(X)"
   ]
  },
  {
   "cell_type": "code",
   "execution_count": 99,
   "metadata": {
    "scrolled": true
   },
   "outputs": [
    {
     "data": {
      "text/plain": [
       "LinearRegression(copy_X=True, fit_intercept=True, n_jobs=None, normalize=False)"
      ]
     },
     "execution_count": 99,
     "metadata": {},
     "output_type": "execute_result"
    }
   ],
   "source": [
    "model = LinearRegression()\n",
    "model.fit(X_std, y)"
   ]
  },
  {
   "cell_type": "code",
   "execution_count": 100,
   "metadata": {
    "scrolled": true
   },
   "outputs": [
    {
     "data": {
      "text/plain": [
       "<matplotlib.axes._subplots.AxesSubplot at 0xf47fa88>"
      ]
     },
     "execution_count": 100,
     "metadata": {},
     "output_type": "execute_result"
    },
    {
     "data": {
      "image/png": "[encoded data removed]",
      "text/plain": [
       "<Figure size 432x288 with 1 Axes>"
      ]
     },
     "metadata": {
      "needs_background": "light"
     },
     "output_type": "display_data"
    }
   ],
   "source": [
    "sns.regplot(X_std, y)"
   ]
  },
  {
   "cell_type": "markdown",
   "metadata": {},
   "source": [
    "What changed? Based on the results of the two models and your graphs, what can you say about the form of the data with the problematic point and without it?"
   ]
  },
  {
   "cell_type": "code",
   "execution_count": 102,
   "metadata": {},
   "outputs": [
    {
     "data": {
      "text/plain": [
       "'\\nComo não um valor discrepante nos dados,\\nnão houve alteração no gráfico e nem na \\nregressão linear do mesmo.\\n'"
      ]
     },
     "execution_count": 102,
     "metadata": {},
     "output_type": "execute_result"
    }
   ],
   "source": [
    "# Your response here. \n",
    "\"\"\"\n",
    "Como não um valor discrepante nos dados,\n",
    "não houve alteração no gráfico e nem na \n",
    "regressão linear do mesmo.\n",
    "\"\"\""
   ]
  }
 ],
 "metadata": {
  "kernelspec": {
   "display_name": "Python 3",
   "language": "python",
   "name": "python3"
  },
  "language_info": {
   "codemirror_mode": {
    "name": "ipython",
    "version": 3
   },
   "file_extension": ".py",
   "mimetype": "text/x-python",
   "name": "python",
   "nbconvert_exporter": "python",
   "pygments_lexer": "ipython3",
   "version": "3.7.6"
  }
 },
 "nbformat": 4,
 "nbformat_minor": 2
}
